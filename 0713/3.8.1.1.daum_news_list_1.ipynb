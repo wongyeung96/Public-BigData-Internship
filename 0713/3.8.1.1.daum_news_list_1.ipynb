{
 "cells": [
  {
   "cell_type": "markdown",
   "id": "8797fe7f-7427-49b3-a7d8-68c72757dada",
   "metadata": {},
   "source": [
    "# 2.2 고급 웹 크롤러"
   ]
  },
  {
   "cell_type": "markdown",
   "id": "c28f6fc9-e401-4b3b-8cbe-c144a1271faf",
   "metadata": {},
   "source": [
    "### daum IT 뉴스 크롤러\n",
    "- url : https://news.daum.net/breakingnews/digital"
   ]
  },
  {
   "cell_type": "code",
   "execution_count": 1,
   "id": "492b0ce1-3e20-49f3-b3dd-8cf2d87d9aa9",
   "metadata": {},
   "outputs": [],
   "source": [
    "import requests\n",
    "import lxml.html\n",
    "import pandas as pd\n",
    "import sqlite3\n",
    "from pandas.io import sql\n",
    "import os"
   ]
  },
  {
   "cell_type": "code",
   "execution_count": 2,
   "id": "89c08d9e-8dab-4268-aa4c-d36f062ea279",
   "metadata": {},
   "outputs": [],
   "source": [
    "REG_DATE = \"20200819\""
   ]
  },
  {
   "cell_type": "code",
   "execution_count": 7,
   "id": "b4677b17-e2dc-4f43-bf0f-299316823015",
   "metadata": {},
   "outputs": [
    {
     "name": "stdout",
     "output_type": "stream",
     "text": [
      "https://v.daum.net/v/20200819230943259 RUSSIA SPACE DOGS BELKA AND STRELKA\n",
      "https://v.daum.net/v/20200819230922257 트럼프 \"오라클은 대단한 회사\"..틱톡 인수 지지\n",
      "https://v.daum.net/v/20200819230858252 RUSSIA SPACE DOGS BELKA AND STRELKA\n",
      "https://v.daum.net/v/20200819230757249 RUSSIA SPACE DOGS BELKA AND STRELKA\n",
      "https://v.daum.net/v/20200819230752248 RUSSIA SPACE DOGS BELKA AND STRELKA\n",
      "https://v.daum.net/v/20200819230732247 RUSSIA SPACE DOGS BELKA AND STRELKA\n",
      "https://v.daum.net/v/20200819230639242 한국심리학회 연차학술대회 20~22일 열려\n",
      "https://v.daum.net/v/20200819230626241 RUSSIA SPACE DOGS BELKA AND STRELKA\n",
      "https://v.daum.net/v/20200819230623240 RUSSIA SPACE DOGS BELKA AND STRELKA\n",
      "https://v.daum.net/v/20200819230557231 RUSSIA SPACE DOGS BELKA AND STRELKA\n",
      "https://v.daum.net/v/20200819230516226 RUSSIA SPACE DOGS BELKA AND STRELKA\n",
      "https://v.daum.net/v/20200819230512224 RUSSIA SPACE DOGS BELKA AND STRELKA\n",
      "https://v.daum.net/v/20200819230448221 RUSSIA SPACE DOGS BELKA AND STRELKA\n",
      "https://v.daum.net/v/20200819225027087 글로벌창업사관학교 개교..글로벌 AI기업 육성 주력\n",
      "https://v.daum.net/v/20200819225004085 배틀그라운드, 신규 무기 'MG3'·'교란 수류탄' 추가\n"
     ]
    }
   ],
   "source": [
    "response = requests.get(\"https://news.daum.net/breakingnews/digital?regDate={}\".format(REG_DATE))\n",
    "root = lxml.html.fromstring(response.content)\n",
    "for li in root.xpath('//*[@id=\"mArticle\"]/div[3]/ul/li'):\n",
    "    a = li.xpath(\"div/strong/a\")[0] # 기사 링크 및 제목 포함 xpath 추출\n",
    "    url = a.get('href') # 기사 링크\n",
    "    print(url, a.text) # a.text는 기사 제목"
   ]
  }
 ],
 "metadata": {
  "kernelspec": {
   "display_name": "Python 3",
   "language": "python",
   "name": "python3"
  },
  "language_info": {
   "codemirror_mode": {
    "name": "ipython",
    "version": 3
   },
   "file_extension": ".py",
   "mimetype": "text/x-python",
   "name": "python",
   "nbconvert_exporter": "python",
   "pygments_lexer": "ipython3",
   "version": "3.8.8"
  }
 },
 "nbformat": 4,
 "nbformat_minor": 5
}
