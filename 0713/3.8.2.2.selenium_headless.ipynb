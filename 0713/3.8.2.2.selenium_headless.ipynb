{
 "cells": [
  {
   "cell_type": "markdown",
   "id": "c0ecff52-6f35-4047-b129-c5045033bfa7",
   "metadata": {},
   "source": [
    "### 브라우저를 기동하지 않고 background 작업 실행 - headless 기능 이용"
   ]
  },
  {
   "cell_type": "code",
   "execution_count": 1,
   "id": "2e0ad015-8e87-44ed-8747-ebbeae3b1ae8",
   "metadata": {},
   "outputs": [],
   "source": [
    "# !pip install selenium"
   ]
  },
  {
   "cell_type": "code",
   "execution_count": 9,
   "id": "174e6d35-29bc-4387-abf5-294e7bc4f4dc",
   "metadata": {},
   "outputs": [],
   "source": [
    "from selenium.webdriver import Chrome\n",
    "import time\n",
    "import sqlite3\n",
    "from pandas.io import sql\n",
    "import os\n",
    "import pandas as pd"
   ]
  },
  {
   "cell_type": "code",
   "execution_count": 10,
   "id": "f2c78a33-2edd-4ab9-ae98-1ced0c6c4806",
   "metadata": {},
   "outputs": [],
   "source": [
    "from selenium import webdriver\n",
    "\n",
    "options = webdriver.ChromeOptions()\n",
    "options.add_argument('--headless')\n",
    "options.add_argument('--disable-gpu')\n",
    "options.add_argument('--window-size=1280x1024')\n",
    "\n",
    "browser = webdriver.Chrome('chromedriver', options=options)"
   ]
  },
  {
   "cell_type": "code",
   "execution_count": 11,
   "id": "d6b9e1a1-f29f-48c8-ac39-dbbd31524699",
   "metadata": {},
   "outputs": [],
   "source": [
    "browser.get('https://www.data.go.kr/')\n",
    "browser.implicitly_wait(5)"
   ]
  },
  {
   "cell_type": "code",
   "execution_count": 12,
   "id": "66c53dfe-fa2a-423a-9e1b-404420d962d2",
   "metadata": {},
   "outputs": [],
   "source": [
    "browser.find_element_by_xpath('//*[@id=\"header\"]/div/div/div/div[2]/div/a[1]').click()\n",
    "browser.implicitly_wait(5)"
   ]
  },
  {
   "cell_type": "code",
   "execution_count": 13,
   "id": "0c8495e8-456b-4023-b471-2a135062b53b",
   "metadata": {},
   "outputs": [],
   "source": [
    "browser.find_element_by_xpath('//*[@id=\"mberId\"]').send_keys('gyng12')"
   ]
  },
  {
   "cell_type": "code",
   "execution_count": 14,
   "id": "2522a04b-0f08-4baa-bdee-ac0f86b4992f",
   "metadata": {},
   "outputs": [],
   "source": [
    "browser.find_element_by_xpath('//*[@id=\"pswrd\"]').send_keys('!rkekak12345')"
   ]
  },
  {
   "cell_type": "code",
   "execution_count": 15,
   "id": "d8513978-b705-49f3-89c6-9dc4b242b01f",
   "metadata": {},
   "outputs": [],
   "source": [
    "browser.find_element_by_xpath('//*[@id=\"loginVo\"]/div[2]/div[2]/div[2]/div/div[1]/button').click()\n",
    "browser.implicitly_wait(5)"
   ]
  },
  {
   "cell_type": "markdown",
   "id": "e465b09a-29c6-4be9-a78f-de1c98d45206",
   "metadata": {},
   "source": [
    "#### 팝업창 제거"
   ]
  },
  {
   "cell_type": "code",
   "execution_count": 16,
   "id": "9884c81b-7bca-4b71-ad64-41800cdea217",
   "metadata": {},
   "outputs": [],
   "source": [
    "browser.find_element_by_xpath('//*[@id=\"layer_popup_info_0\"]/div[1]/a').click()\n",
    "browser.find_element_by_xpath('//*[@id=\"layer_popup_info_1\"]/div[1]/a').click()"
   ]
  },
  {
   "cell_type": "code",
   "execution_count": 17,
   "id": "a74eb1c0-33f0-4217-999b-90ed82bf4022",
   "metadata": {},
   "outputs": [],
   "source": [
    "browser.find_element_by_xpath('//*[@id=\"M000400_pc\"]/a').click()"
   ]
  },
  {
   "cell_type": "code",
   "execution_count": 18,
   "id": "60e2cb1e-12da-4616-bbae-51aa88d9fb62",
   "metadata": {},
   "outputs": [],
   "source": [
    "browser.find_element_by_xpath('//*[@id=\"M000402_pc\"]/a').click()"
   ]
  },
  {
   "cell_type": "code",
   "execution_count": 19,
   "id": "d1f65d42-5779-40e0-8947-0ceec9ea0a80",
   "metadata": {},
   "outputs": [],
   "source": [
    "def db_save(ARTICLE_LIST):\n",
    "    with sqlite3.connect(os.path.join('.','sqliteDB')) as con: # sqlite DB 파일이 존재하지 않는 경우 파일생성\n",
    "        try:\n",
    "            ARTICLE_LIST.to_sql(name = 'ARTICLE_LIST', con = con, index = False, if_exists='append') \n",
    "            #if_exists : {'fail', 'replace', 'append'} default : fail\n",
    "        except Exception as e:\n",
    "            print(str(e))\n",
    "        print(len(ARTICLE_LIST), '건 저장완료..')"
   ]
  },
  {
   "cell_type": "code",
   "execution_count": 20,
   "id": "2d89d9ed-871b-40af-9ede-da94fde53f88",
   "metadata": {},
   "outputs": [
    {
     "name": "stdout",
     "output_type": "stream",
     "text": [
      "10 건 저장완료..\n"
     ]
    }
   ],
   "source": [
    "trs = browser.find_elements_by_xpath('//*[@id=\"searchVO\"]/div[5]/table/tbody/tr')\n",
    "df_list = []\n",
    "for tr in trs:\n",
    "    df = pd.DataFrame({\n",
    "            'NO': [tr.find_element_by_xpath('td[1]').text],\n",
    "            'TITLE': [tr.find_element_by_xpath('td[2]').text],\n",
    "            'IQRY': [tr.find_element_by_xpath('td[3]').text],\n",
    "            'REGDT': [tr.find_element_by_xpath('td[4]').text],\n",
    "            'CHGDT': [tr.find_element_by_xpath('td[5]').text],\n",
    "        })\n",
    "    df_list.append(df)\n",
    "    \n",
    "ARTICLE_LIST = pd.concat(df_list)\n",
    "db_save(ARTICLE_LIST)"
   ]
  },
  {
   "cell_type": "markdown",
   "id": "b2c3722c-35eb-404a-a1d7-1fa4cab460b9",
   "metadata": {},
   "source": [
    "#### 자료실 글목록 상세보기 클릭"
   ]
  },
  {
   "cell_type": "code",
   "execution_count": 22,
   "id": "b4408498-c313-4eda-8880-2190ec2a69b9",
   "metadata": {},
   "outputs": [],
   "source": [
    "browser.find_element_by_xpath('//*[@id=\"searchVO\"]/div[5]/table/tbody/tr[1]/td[2]/a').click()\n",
    "browser.implicitly_wait(3)"
   ]
  },
  {
   "cell_type": "code",
   "execution_count": 23,
   "id": "a925f32b-66f4-494e-b185-d97bcfed9c46",
   "metadata": {},
   "outputs": [],
   "source": [
    "browser.find_element_by_xpath('//*[@id=\"recsroomDetail\"]/div[2]/div[4]/div/a').click()\n",
    "time.sleep(10)"
   ]
  },
  {
   "cell_type": "code",
   "execution_count": null,
   "id": "261b80b3-b663-4536-8655-f330e54cf3d8",
   "metadata": {},
   "outputs": [],
   "source": [
    "# 상세보기 화면에서 데이터 크롤링 로직 추가"
   ]
  },
  {
   "cell_type": "code",
   "execution_count": 24,
   "id": "7f7f12b3-2ccb-4bb6-8a4a-ffe3bb89db92",
   "metadata": {},
   "outputs": [],
   "source": [
    "browser.quit()"
   ]
  },
  {
   "cell_type": "code",
   "execution_count": null,
   "id": "e45d8732-6791-4808-820b-8a8b6d80e290",
   "metadata": {},
   "outputs": [],
   "source": []
  },
  {
   "cell_type": "code",
   "execution_count": null,
   "id": "ef5e4aec-175e-4789-b2f0-b155f926167f",
   "metadata": {},
   "outputs": [],
   "source": []
  }
 ],
 "metadata": {
  "kernelspec": {
   "display_name": "Python 3",
   "language": "python",
   "name": "python3"
  },
  "language_info": {
   "codemirror_mode": {
    "name": "ipython",
    "version": 3
   },
   "file_extension": ".py",
   "mimetype": "text/x-python",
   "name": "python",
   "nbconvert_exporter": "python",
   "pygments_lexer": "ipython3",
   "version": "3.8.8"
  }
 },
 "nbformat": 4,
 "nbformat_minor": 5
}
