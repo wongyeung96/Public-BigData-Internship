{
 "cells": [
  {
   "cell_type": "markdown",
   "id": "28cf81e7-2898-4e3f-9422-7adefdc43802",
   "metadata": {},
   "source": [
    "# 기본 웹 크롤러\n",
    "- Requests로 웹 페이지를 추출하고, lxml로 웹 페이지 스크래핑 및 sqlite3 DB에 데이터 저장\n",
    "- 크롤링 대상은 한빛미디어 사이트의 \"새로나온 책\" 목록\n",
    "- 전형적인 목록/상세 패턴을 가진 웹사이트를 기반으로 도서 정보 추출 크롤러 제작\n",
    "- 목록 페이지는 제목과 저자정보\n",
    "- 상세 페이지의 출간일, 페이지, ISBN, 물류코드, 책 소개 등의 정보 중 제목, 가격, 목차 정보를 추출"
   ]
  },
  {
   "cell_type": "markdown",
   "id": "0576f41f-b748-4173-babd-0441f676d14a",
   "metadata": {},
   "source": [
    "크롤링 대상 페이지 : http://www.hanbit.co.kr/store/books/new_book_list.html"
   ]
  },
  {
   "cell_type": "markdown",
   "id": "1cc222bc-f29b-48a6-9394-da8eed432b09",
   "metadata": {},
   "source": [
    "### 목록 페이지에서 상세 페이지로의 링크 목록을 추출"
   ]
  },
  {
   "cell_type": "code",
   "execution_count": 2,
   "id": "e230b76c-3bfa-4c32-86cd-03dbc9e32ff4",
   "metadata": {},
   "outputs": [],
   "source": [
    "import requests\n",
    "import lxml.html"
   ]
  },
  {
   "cell_type": "code",
   "execution_count": 3,
   "id": "427ddb35-9582-4a1c-ba6d-f5ef6326b012",
   "metadata": {
    "tags": []
   },
   "outputs": [
    {
     "name": "stdout",
     "output_type": "stream",
     "text": [
      "/store/books/look.php?p_code=B7623190015\n",
      "/store/books/look.php?p_code=B7623190015\n",
      "/store/books/look.php?p_code=B4300598719\n",
      "javascript:;\n",
      "/store/books/look.php?p_code=B4300598719\n",
      "/store/books/look.php?p_code=B9108907099\n",
      "/store/books/look.php?p_code=B9108907099\n",
      "/store/books/look.php?p_code=B7015117381\n",
      "javascript:;\n",
      "/store/books/look.php?p_code=B7015117381\n",
      "/store/books/look.php?p_code=B7448632539\n",
      "javascript:;\n",
      "/store/books/look.php?p_code=B7448632539\n",
      "/store/books/look.php?p_code=B3148701816\n",
      "/store/books/look.php?p_code=B3148701816\n",
      "/store/books/look.php?p_code=B2591303726\n",
      "/store/books/look.php?p_code=B2591303726\n",
      "/store/books/look.php?p_code=B9602652686\n",
      "javascript:;\n",
      "/store/books/look.php?p_code=B9602652686\n",
      "/store/books/look.php?p_code=B7468885216\n",
      "javascript:;\n",
      "/store/books/look.php?p_code=B7468885216\n",
      "/store/books/look.php?p_code=B1108557246\n",
      "/store/books/look.php?p_code=B1108557246\n",
      "/store/books/look.php?p_code=B9354330938\n",
      "javascript:;\n",
      "/store/books/look.php?p_code=B9354330938\n",
      "/store/books/look.php?p_code=B3006151946\n",
      "/store/books/look.php?p_code=B3006151946\n",
      "/store/books/look.php?p_code=B2388883228\n",
      "/store/books/look.php?p_code=B2388883228\n",
      "/store/books/look.php?p_code=B4766499846\n",
      "/store/books/look.php?p_code=B4766499846\n",
      "/store/books/look.php?p_code=B1904486238\n",
      "/store/books/look.php?p_code=B1904486238\n",
      "/store/books/look.php?p_code=B9380943452\n",
      "javascript:;\n",
      "/store/books/look.php?p_code=B9380943452\n",
      "/store/books/look.php?p_code=B6918140228\n",
      "javascript:;\n",
      "/store/books/look.php?p_code=B6918140228\n",
      "/store/books/look.php?p_code=B3573121629\n",
      "javascript:;\n",
      "/store/books/look.php?p_code=B3573121629\n",
      "/store/books/look.php?p_code=B7132069963\n",
      "/store/books/look.php?p_code=B7132069963\n",
      "/store/books/look.php?p_code=B8742050283\n",
      "/store/books/look.php?p_code=B8742050283\n"
     ]
    }
   ],
   "source": [
    "response = requests.get(\"http://www.hanbit.co.kr/store/books/new_book_list.html\")\n",
    "root = lxml.html.fromstring(response.content)\n",
    "for a in root.cssselect('.view_box a'):\n",
    "    url = a.get('href')\n",
    "    print(url)"
   ]
  },
  {
   "cell_type": "markdown",
   "id": "b2a5b373-0379-4d8f-8920-a7c1a1fd79de",
   "metadata": {},
   "source": [
    "### \"Javascript\"로 시작하는 목록 제거 필요. 상대 URL을 절대 URL로 변환 필요"
   ]
  },
  {
   "cell_type": "code",
   "execution_count": 4,
   "id": "2a0576bd-1619-4255-875c-1921af62aa81",
   "metadata": {},
   "outputs": [
    {
     "data": {
      "text/plain": [
       "<Element html at 0x13ced4fee00>"
      ]
     },
     "execution_count": 4,
     "metadata": {},
     "output_type": "execute_result"
    }
   ],
   "source": [
    "response = requests.get(\"http://www.hanbit.co.kr/store/books/new_book_list.html\")\n",
    "root = lxml.html.fromstring(response.content)\n",
    "root"
   ]
  },
  {
   "cell_type": "code",
   "execution_count": 6,
   "id": "e44a5576-124a-493e-b460-aa1501d46c8f",
   "metadata": {},
   "outputs": [
    {
     "name": "stdout",
     "output_type": "stream",
     "text": [
      "https://www.hanbit.co.kr/store/books/look.php?p_code=B7623190015\n",
      "https://www.hanbit.co.kr/store/books/look.php?p_code=B4300598719\n",
      "https://www.hanbit.co.kr/store/books/look.php?p_code=B9108907099\n",
      "https://www.hanbit.co.kr/store/books/look.php?p_code=B7015117381\n",
      "https://www.hanbit.co.kr/store/books/look.php?p_code=B7448632539\n",
      "https://www.hanbit.co.kr/store/books/look.php?p_code=B3148701816\n",
      "https://www.hanbit.co.kr/store/books/look.php?p_code=B2591303726\n",
      "https://www.hanbit.co.kr/store/books/look.php?p_code=B9602652686\n",
      "https://www.hanbit.co.kr/store/books/look.php?p_code=B7468885216\n",
      "https://www.hanbit.co.kr/store/books/look.php?p_code=B1108557246\n",
      "https://www.hanbit.co.kr/store/books/look.php?p_code=B9354330938\n",
      "https://www.hanbit.co.kr/store/books/look.php?p_code=B3006151946\n",
      "https://www.hanbit.co.kr/store/books/look.php?p_code=B2388883228\n",
      "https://www.hanbit.co.kr/store/books/look.php?p_code=B4766499846\n",
      "https://www.hanbit.co.kr/store/books/look.php?p_code=B1904486238\n",
      "https://www.hanbit.co.kr/store/books/look.php?p_code=B9380943452\n",
      "https://www.hanbit.co.kr/store/books/look.php?p_code=B6918140228\n",
      "https://www.hanbit.co.kr/store/books/look.php?p_code=B3573121629\n",
      "https://www.hanbit.co.kr/store/books/look.php?p_code=B7132069963\n",
      "https://www.hanbit.co.kr/store/books/look.php?p_code=B8742050283\n"
     ]
    }
   ],
   "source": [
    "# 모든 링크를 절대 URL로 변환\n",
    "root.make_links_absolute(response.url)\n",
    "\n",
    "# 목록에서 javascript 제거\n",
    "for a in root.cssselect('.view_box .book_tit a'):\n",
    "    url = a.get('href')\n",
    "    print(url)"
   ]
  },
  {
   "cell_type": "code",
   "execution_count": null,
   "id": "ac5d4f67-f750-4e91-af53-8373a7b00dd5",
   "metadata": {},
   "outputs": [],
   "source": []
  }
 ],
 "metadata": {
  "kernelspec": {
   "display_name": "Python 3",
   "language": "python",
   "name": "python3"
  },
  "language_info": {
   "codemirror_mode": {
    "name": "ipython",
    "version": 3
   },
   "file_extension": ".py",
   "mimetype": "text/x-python",
   "name": "python",
   "nbconvert_exporter": "python",
   "pygments_lexer": "ipython3",
   "version": "3.8.8"
  }
 },
 "nbformat": 4,
 "nbformat_minor": 5
}
