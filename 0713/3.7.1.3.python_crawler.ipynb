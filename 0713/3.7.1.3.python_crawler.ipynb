{
 "cells": [
  {
   "cell_type": "markdown",
   "id": "d94e1810-73af-490d-b87b-f49822c6216c",
   "metadata": {},
   "source": [
    "### URL 목록 추출을 위한 scrape_list_page() 함수 정의\n",
    "### scrape_list_page() 함수의 반환값은 list처럼 반복 가능한 제너레이터로 구현"
   ]
  },
  {
   "cell_type": "code",
   "execution_count": 3,
   "id": "9ab3746b-aae0-4ea9-9546-8178f58eac8e",
   "metadata": {},
   "outputs": [],
   "source": [
    "import requests\n",
    "import lxml.html"
   ]
  },
  {
   "cell_type": "code",
   "execution_count": 4,
   "id": "7aaa8a43-016a-4e0e-b515-7f4797dc6695",
   "metadata": {},
   "outputs": [],
   "source": [
    "def main():\n",
    "    \"\"\"\n",
    "    크롤러의 메인 처리\n",
    "    \"\"\"\n",
    "    # 여러 페이지에서 크롤링을 위해 Session 사용\n",
    "    session = requests.Session()\n",
    "    # scrape_list_page() 함수를 호출해서 제너레이터를 추출\n",
    "    response = session.get('http://www.hanbit.co.kr/store/books/new_book_list.html')\n",
    "    urls = scrape_list_page(response)\n",
    "    # 제너레이터는 list처럼 사용 가능\n",
    "    for url in urls:\n",
    "        print(url)\n",
    "        print('-'*70)"
   ]
  },
  {
   "cell_type": "code",
   "execution_count": 5,
   "id": "42c4271a-7703-4c24-80b5-6017d76b3a2e",
   "metadata": {},
   "outputs": [],
   "source": [
    "def scrape_list_page(response):\n",
    "    root = lxml.html.fromstring(response.content)\n",
    "    root.make_links_absolute(response.url)\n",
    "    for a in root.cssselect('.view box .book_tit a'):\n",
    "        url = a.get('href')\n",
    "        # yield 구문으로 제너레이터의 요소 반환\n",
    "        # 한번 출력하고 yield로 잠시 대기하고 다시 출력 (이런게 제너레이터)\n",
    "        yield url "
   ]
  }
 ],
 "metadata": {
  "kernelspec": {
   "display_name": "Python 3",
   "language": "python",
   "name": "python3"
  },
  "language_info": {
   "codemirror_mode": {
    "name": "ipython",
    "version": 3
   },
   "file_extension": ".py",
   "mimetype": "text/x-python",
   "name": "python",
   "nbconvert_exporter": "python",
   "pygments_lexer": "ipython3",
   "version": "3.8.8"
  }
 },
 "nbformat": 4,
 "nbformat_minor": 5
}
