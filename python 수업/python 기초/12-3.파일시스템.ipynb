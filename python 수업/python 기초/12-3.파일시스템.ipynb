{
 "cells": [
  {
   "cell_type": "code",
   "execution_count": 20,
   "id": "e7347f2f-a659-4b35-bd46-9adce56206ab",
   "metadata": {},
   "outputs": [],
   "source": [
    "import os"
   ]
  },
  {
   "cell_type": "code",
   "execution_count": 21,
   "id": "95f9ddaf-f56e-4786-b8d7-f845ef46c261",
   "metadata": {},
   "outputs": [
    {
     "data": {
      "text/plain": [
       "['(4반)김원경_4256',\n",
       " '.ipynb_checkpoints',\n",
       " '07-1.셋.ipynb',\n",
       " '07-2.셋의 집합연산.ipynb',\n",
       " '07-3.딕셔너리.ipynb',\n",
       " '08-1.비교논리연산자.ipynb',\n",
       " '08-2.조건문.ipynb',\n",
       " '08-3중첩 복합 조건문.ipynb',\n",
       " '09-1.for반복문.ipynb',\n",
       " '09-2.while 반복문.ipynb',\n",
       " '09-3.리스트 컴프리헨션.ipynb',\n",
       " '10-2.사용자정의 함수.ipynb',\n",
       " '10-3.함수의 매개변수.ipynb',\n",
       " '11-2.파이썬 모듈 활용.ipynb',\n",
       " '11-3.사용자 정의 모듈.ipynb',\n",
       " '12-1. hello.txt',\n",
       " '12-1.파일 읽기.ipynb',\n",
       " '12-2.파일 출력.ipynb',\n",
       " '12-3.파일시스템.ipynb',\n",
       " 'hello_write.txt',\n",
       " 'hello_write1.txt',\n",
       " 'mymodule',\n",
       " 'myprint.ipynb',\n",
       " 'myprint.py',\n",
       " 'myprint2.ipynb']"
      ]
     },
     "execution_count": 21,
     "metadata": {},
     "output_type": "execute_result"
    }
   ],
   "source": [
    "os.listdir('.')"
   ]
  },
  {
   "cell_type": "code",
   "execution_count": 22,
   "id": "26fefca8-894f-4812-b3aa-f42727c0a937",
   "metadata": {},
   "outputs": [],
   "source": [
    "file_list = os.listdir('.')"
   ]
  },
  {
   "cell_type": "code",
   "execution_count": 23,
   "id": "1cb048f2-09aa-4b26-9527-6c8160341f40",
   "metadata": {},
   "outputs": [],
   "source": [
    "file_ipynb = [ f for f in file_list if f.endswith('.ipynb')]"
   ]
  },
  {
   "cell_type": "code",
   "execution_count": 24,
   "id": "f2a8eda9-31c1-443e-b817-410cc8c3feed",
   "metadata": {},
   "outputs": [
    {
     "data": {
      "text/plain": [
       "['07-1.셋.ipynb',\n",
       " '07-2.셋의 집합연산.ipynb',\n",
       " '07-3.딕셔너리.ipynb',\n",
       " '08-1.비교논리연산자.ipynb',\n",
       " '08-2.조건문.ipynb',\n",
       " '08-3중첩 복합 조건문.ipynb',\n",
       " '09-1.for반복문.ipynb',\n",
       " '09-2.while 반복문.ipynb',\n",
       " '09-3.리스트 컴프리헨션.ipynb',\n",
       " '10-2.사용자정의 함수.ipynb',\n",
       " '10-3.함수의 매개변수.ipynb',\n",
       " '11-2.파이썬 모듈 활용.ipynb',\n",
       " '11-3.사용자 정의 모듈.ipynb',\n",
       " '12-1.파일 읽기.ipynb',\n",
       " '12-2.파일 출력.ipynb',\n",
       " '12-3.파일시스템.ipynb',\n",
       " 'myprint.ipynb',\n",
       " 'myprint2.ipynb']"
      ]
     },
     "execution_count": 24,
     "metadata": {},
     "output_type": "execute_result"
    }
   ],
   "source": [
    "file_ipynb"
   ]
  },
  {
   "cell_type": "code",
   "execution_count": null,
   "id": "7600ed88-0f12-4424-bd4a-69bb56ff47fc",
   "metadata": {},
   "outputs": [],
   "source": []
  },
  {
   "cell_type": "code",
   "execution_count": 25,
   "id": "8f6999e7-1bd1-4ae6-90eb-a4b447ede8ad",
   "metadata": {},
   "outputs": [
    {
     "data": {
      "text/plain": [
       "'C:\\\\Users\\\\user\\\\Desktop\\\\python\\\\0707'"
      ]
     },
     "execution_count": 25,
     "metadata": {},
     "output_type": "execute_result"
    }
   ],
   "source": [
    "# 현재 디렉토리 반환\n",
    "os.getcwd()"
   ]
  },
  {
   "cell_type": "code",
   "execution_count": 26,
   "id": "e01fcb3d-d638-4811-a99d-197763d43760",
   "metadata": {},
   "outputs": [],
   "source": [
    "# 디렉토리 생성\n",
    "os.mkdir('test')"
   ]
  },
  {
   "cell_type": "code",
   "execution_count": null,
   "id": "ded1e2fb-3aaa-416b-8e5e-690fee9253e9",
   "metadata": {},
   "outputs": [],
   "source": []
  },
  {
   "cell_type": "code",
   "execution_count": 27,
   "id": "5b591a8e-51cb-4436-83ec-805c21d0baa1",
   "metadata": {},
   "outputs": [
    {
     "data": {
      "text/plain": [
       "'.\\\\test'"
      ]
     },
     "execution_count": 27,
     "metadata": {},
     "output_type": "execute_result"
    }
   ],
   "source": [
    "# 현재 OS의 파일 구분자로 연결\n",
    "os.path.join('.','test')"
   ]
  },
  {
   "cell_type": "code",
   "execution_count": 28,
   "id": "4b475a94-6d3a-4d4a-b16d-e6d89afdb1cb",
   "metadata": {},
   "outputs": [
    {
     "data": {
      "text/plain": [
       "'C:\\\\Users\\\\user\\\\Desktop\\\\python\\\\0707\\\\hello.txt'"
      ]
     },
     "execution_count": 28,
     "metadata": {},
     "output_type": "execute_result"
    }
   ],
   "source": [
    "# 지정된 파일의 절대 경로 반환\n",
    "os.path.abspath('hello.txt')"
   ]
  },
  {
   "cell_type": "code",
   "execution_count": null,
   "id": "8f739a09-8c91-4764-a5a5-23ebe74f72b9",
   "metadata": {},
   "outputs": [],
   "source": []
  },
  {
   "cell_type": "code",
   "execution_count": 29,
   "id": "706692ac-3860-48b0-8f02-9d66b78c0e15",
   "metadata": {},
   "outputs": [
    {
     "data": {
      "text/plain": [
       "True"
      ]
     },
     "execution_count": 29,
     "metadata": {},
     "output_type": "execute_result"
    }
   ],
   "source": [
    "# 디렉토리/파일여부 출력\n",
    "os.path.isfile('hello_write.txt')"
   ]
  },
  {
   "cell_type": "code",
   "execution_count": 30,
   "id": "6e7ea464-5736-4867-95ec-5c0872fdad1c",
   "metadata": {},
   "outputs": [
    {
     "data": {
      "text/plain": [
       "False"
      ]
     },
     "execution_count": 30,
     "metadata": {},
     "output_type": "execute_result"
    }
   ],
   "source": [
    "os.path.isdir('hello_write.txt')"
   ]
  },
  {
   "cell_type": "code",
   "execution_count": 31,
   "id": "88ae14a6-ac3f-4a38-96a2-9615978099bd",
   "metadata": {},
   "outputs": [
    {
     "data": {
      "text/plain": [
       "False"
      ]
     },
     "execution_count": 31,
     "metadata": {},
     "output_type": "execute_result"
    }
   ],
   "source": [
    "os.path.isfile('test')"
   ]
  },
  {
   "cell_type": "code",
   "execution_count": 36,
   "id": "ba0b23f6-d124-4f85-807e-0ac4ae0fc29e",
   "metadata": {},
   "outputs": [
    {
     "data": {
      "text/plain": [
       "True"
      ]
     },
     "execution_count": 36,
     "metadata": {},
     "output_type": "execute_result"
    }
   ],
   "source": [
    "os.path.isdir('test')"
   ]
  },
  {
   "cell_type": "code",
   "execution_count": 34,
   "id": "d15bc256-abdc-44b1-906c-09d7bdf7bf15",
   "metadata": {},
   "outputs": [
    {
     "data": {
      "text/plain": [
       "('C:\\\\Users\\\\user\\\\Desktop\\\\python\\\\0707', 'hello_write.txt')"
      ]
     },
     "execution_count": 34,
     "metadata": {},
     "output_type": "execute_result"
    }
   ],
   "source": [
    "# 디렉토리명과 파일명의 분리\n",
    "os.path.split(os.path.abspath('hello_write.txt'))"
   ]
  },
  {
   "cell_type": "code",
   "execution_count": 35,
   "id": "b0c5219d-67d6-4e96-a8fa-cf214f7269c0",
   "metadata": {},
   "outputs": [
    {
     "data": {
      "text/plain": [
       "('hello_write', '.txt')"
      ]
     },
     "execution_count": 35,
     "metadata": {},
     "output_type": "execute_result"
    }
   ],
   "source": [
    "# 파일명과 확장자의 분리\n",
    "os.path.splitext(\"hello_write.txt\")"
   ]
  },
  {
   "cell_type": "code",
   "execution_count": null,
   "id": "fe8bfe78-52f3-48bc-89d2-c139e3d33d77",
   "metadata": {},
   "outputs": [],
   "source": []
  }
 ],
 "metadata": {
  "kernelspec": {
   "display_name": "Python 3",
   "language": "python",
   "name": "python3"
  },
  "language_info": {
   "codemirror_mode": {
    "name": "ipython",
    "version": 3
   },
   "file_extension": ".py",
   "mimetype": "text/x-python",
   "name": "python",
   "nbconvert_exporter": "python",
   "pygments_lexer": "ipython3",
   "version": "3.8.8"
  }
 },
 "nbformat": 4,
 "nbformat_minor": 5
}
