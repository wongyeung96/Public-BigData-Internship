{
 "cells": [
  {
   "cell_type": "markdown",
   "id": "d14b1d44-1c90-4576-93df-3ca21d1f7a3e",
   "metadata": {},
   "source": [
    "## 파이썬 연산자"
   ]
  },
  {
   "cell_type": "markdown",
   "id": "899473ab-1704-4ce5-8870-b7e51000b321",
   "metadata": {},
   "source": [
    "### 더하기"
   ]
  },
  {
   "cell_type": "code",
   "execution_count": 1,
   "id": "d0863667-f900-4bd9-aa1b-bb84938de024",
   "metadata": {},
   "outputs": [
    {
     "data": {
      "text/plain": [
       "6"
      ]
     },
     "execution_count": 1,
     "metadata": {},
     "output_type": "execute_result"
    }
   ],
   "source": [
    "2+4"
   ]
  },
  {
   "cell_type": "markdown",
   "id": "839b502e-5355-4937-b8d0-b3fa7812904b",
   "metadata": {},
   "source": [
    "### 빼기"
   ]
  },
  {
   "cell_type": "code",
   "execution_count": 2,
   "id": "7ff2c080-05d3-46b6-ac49-b7e9a17ac348",
   "metadata": {},
   "outputs": [
    {
     "data": {
      "text/plain": [
       "2"
      ]
     },
     "execution_count": 2,
     "metadata": {},
     "output_type": "execute_result"
    }
   ],
   "source": [
    "4-2"
   ]
  },
  {
   "cell_type": "markdown",
   "id": "1314db1b-54b9-4ab3-98af-84eb7254cd69",
   "metadata": {},
   "source": [
    "### 곱하기"
   ]
  },
  {
   "cell_type": "code",
   "execution_count": 3,
   "id": "10a6d8c9-80c9-4ce9-9ae4-840e51d9a3eb",
   "metadata": {},
   "outputs": [
    {
     "data": {
      "text/plain": [
       "8"
      ]
     },
     "execution_count": 3,
     "metadata": {},
     "output_type": "execute_result"
    }
   ],
   "source": [
    "2*4"
   ]
  },
  {
   "cell_type": "markdown",
   "id": "5d8b5292-d349-4de9-a432-fce7e1403fc5",
   "metadata": {},
   "source": [
    "### 나누기"
   ]
  },
  {
   "cell_type": "code",
   "execution_count": 4,
   "id": "290cc49a-79d3-4ebf-90a3-1aa8d93240e2",
   "metadata": {},
   "outputs": [
    {
     "data": {
      "text/plain": [
       "2.0"
      ]
     },
     "execution_count": 4,
     "metadata": {},
     "output_type": "execute_result"
    }
   ],
   "source": [
    "4/2"
   ]
  },
  {
   "cell_type": "markdown",
   "id": "3eb87fbb-db5b-4d4f-aad8-c1f0846f3477",
   "metadata": {},
   "source": [
    "### 제곱"
   ]
  },
  {
   "cell_type": "code",
   "execution_count": 5,
   "id": "e603d8d8-1696-4855-8a6d-b6ee79599e76",
   "metadata": {},
   "outputs": [
    {
     "data": {
      "text/plain": [
       "16"
      ]
     },
     "execution_count": 5,
     "metadata": {},
     "output_type": "execute_result"
    }
   ],
   "source": [
    "4**2"
   ]
  },
  {
   "cell_type": "markdown",
   "id": "87953b86-6576-417b-9162-8dbfc4482d49",
   "metadata": {},
   "source": [
    "### 몫"
   ]
  },
  {
   "cell_type": "code",
   "execution_count": 6,
   "id": "4e9b1fce-030f-4784-8a76-34b3ca34d971",
   "metadata": {},
   "outputs": [
    {
     "data": {
      "text/plain": [
       "3.5"
      ]
     },
     "execution_count": 6,
     "metadata": {},
     "output_type": "execute_result"
    }
   ],
   "source": [
    "7/2"
   ]
  },
  {
   "cell_type": "markdown",
   "id": "1404055e-df19-4773-9d90-e5fd3367b25d",
   "metadata": {},
   "source": [
    "### 정수몫"
   ]
  },
  {
   "cell_type": "code",
   "execution_count": 7,
   "id": "e223f412-263a-4eb1-8614-0a5d951c5f81",
   "metadata": {},
   "outputs": [
    {
     "data": {
      "text/plain": [
       "3"
      ]
     },
     "execution_count": 7,
     "metadata": {},
     "output_type": "execute_result"
    }
   ],
   "source": [
    "7//2"
   ]
  },
  {
   "cell_type": "markdown",
   "id": "6f74faa0-a51a-4c77-aac8-9016b6a1e5d9",
   "metadata": {},
   "source": [
    "### 나머지"
   ]
  },
  {
   "cell_type": "code",
   "execution_count": 8,
   "id": "63e3c932-b639-4267-8693-ccc7a542d819",
   "metadata": {},
   "outputs": [
    {
     "data": {
      "text/plain": [
       "1"
      ]
     },
     "execution_count": 8,
     "metadata": {},
     "output_type": "execute_result"
    }
   ],
   "source": [
    "7%2"
   ]
  },
  {
   "cell_type": "markdown",
   "id": "a1b30ec2-2738-4d18-b8b5-c1078fc6c40d",
   "metadata": {},
   "source": [
    "## 파이썬 주석문"
   ]
  },
  {
   "cell_type": "code",
   "execution_count": 9,
   "id": "a3878294-c112-4c5c-9850-b1b59dd46d5d",
   "metadata": {},
   "outputs": [],
   "source": [
    "# ctrl * /"
   ]
  },
  {
   "cell_type": "code",
   "execution_count": 10,
   "id": "b162b006-a991-4975-ac63-496da20d0312",
   "metadata": {},
   "outputs": [],
   "source": [
    "# 파이썬 주석문"
   ]
  },
  {
   "cell_type": "code",
   "execution_count": 11,
   "id": "5db2e6ab-219a-4429-960d-e6090fedbd39",
   "metadata": {},
   "outputs": [],
   "source": [
    "# 파이썬\n",
    "# 주석문"
   ]
  },
  {
   "cell_type": "code",
   "execution_count": 12,
   "id": "0584d851-754e-4de2-bac3-a47acff89536",
   "metadata": {},
   "outputs": [
    {
     "name": "stdout",
     "output_type": "stream",
     "text": [
      "1\n"
     ]
    }
   ],
   "source": [
    "'''\n",
    "파이썬\n",
    "블럭\n",
    "주석문\n",
    "'''\n",
    "print(1)"
   ]
  },
  {
   "cell_type": "markdown",
   "id": "c447221f-df16-40a9-8c31-1663dd07d67b",
   "metadata": {},
   "source": [
    "## 들여쓰기"
   ]
  },
  {
   "cell_type": "code",
   "execution_count": 13,
   "id": "8ff8cd27-aa57-4bf4-a6ac-326de39cbd82",
   "metadata": {},
   "outputs": [
    {
     "name": "stdout",
     "output_type": "stream",
     "text": [
      "True\n"
     ]
    }
   ],
   "source": [
    "a = True\n",
    "if a:\n",
    "    print(\"True\")\n",
    "else:\n",
    "    print(\"False\")"
   ]
  },
  {
   "cell_type": "code",
   "execution_count": 14,
   "id": "bde7bf69-4e84-4dc3-896c-8133fe38aaec",
   "metadata": {},
   "outputs": [
    {
     "name": "stdout",
     "output_type": "stream",
     "text": [
      "True\n",
      "True End ...\n",
      "End...\n"
     ]
    }
   ],
   "source": [
    "a = True\n",
    "if a:\n",
    "    print(\"True\")\n",
    "    print(\"True End ...\")\n",
    "else:\n",
    "    print(\"False\")\n",
    "print(\"End...\")"
   ]
  },
  {
   "cell_type": "markdown",
   "id": "3fc675ed-aac7-48b4-9480-d299dcb6fc15",
   "metadata": {},
   "source": [
    "    // Java\n",
    "    boolean a = true;\n",
    "    if(a){\n",
    "        System.out.println(\"True\");\n",
    "        System.out.println(\"True End...\")\n",
    "    }else{\n",
    "        System.out.println(\"False\");\n",
    "    }\n",
    "        System.out.println(\"End...\");"
   ]
  }
 ],
 "metadata": {
  "kernelspec": {
   "display_name": "Python 3",
   "language": "python",
   "name": "python3"
  },
  "language_info": {
   "codemirror_mode": {
    "name": "ipython",
    "version": 3
   },
   "file_extension": ".py",
   "mimetype": "text/x-python",
   "name": "python",
   "nbconvert_exporter": "python",
   "pygments_lexer": "ipython3",
   "version": "3.8.8"
  }
 },
 "nbformat": 4,
 "nbformat_minor": 5
}
