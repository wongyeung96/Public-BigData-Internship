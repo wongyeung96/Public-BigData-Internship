{
 "cells": [
  {
   "cell_type": "markdown",
   "id": "eb3aec29-ba7e-4e9c-828d-3213444f79e7",
   "metadata": {},
   "source": [
    "# Set"
   ]
  },
  {
   "cell_type": "code",
   "execution_count": 8,
   "id": "18eac9ef-c11d-4846-9ead-cf3ab08362b7",
   "metadata": {},
   "outputs": [],
   "source": [
    "set1 = {'A','B','C','D','E','F'}\n",
    "set2 = {'A','B','C','D','E','F','B'}"
   ]
  },
  {
   "cell_type": "code",
   "execution_count": 9,
   "id": "80c15b4e-4d22-4ba7-9633-8b3266a27420",
   "metadata": {},
   "outputs": [
    {
     "name": "stdout",
     "output_type": "stream",
     "text": [
      "{'B', 'F', 'D', 'A', 'E', 'C'}\n",
      "{'B', 'F', 'D', 'A', 'E', 'C'}\n",
      "<class 'set'>\n"
     ]
    }
   ],
   "source": [
    "print(set1)\n",
    "print(set2)\n",
    "print(type(set1))"
   ]
  },
  {
   "cell_type": "code",
   "execution_count": 10,
   "id": "725f0787-7d7a-404d-9712-ea6bcd393c3d",
   "metadata": {},
   "outputs": [
    {
     "ename": "TypeError",
     "evalue": "'set' object is not subscriptable",
     "output_type": "error",
     "traceback": [
      "\u001b[1;31m---------------------------------------------------------------------------\u001b[0m",
      "\u001b[1;31mTypeError\u001b[0m                                 Traceback (most recent call last)",
      "\u001b[1;32m<ipython-input-10-c38563f1af7a>\u001b[0m in \u001b[0;36m<module>\u001b[1;34m\u001b[0m\n\u001b[1;32m----> 1\u001b[1;33m \u001b[0mset1\u001b[0m\u001b[1;33m[\u001b[0m\u001b[1;36m0\u001b[0m\u001b[1;33m]\u001b[0m\u001b[1;33m\u001b[0m\u001b[1;33m\u001b[0m\u001b[0m\n\u001b[0m",
      "\u001b[1;31mTypeError\u001b[0m: 'set' object is not subscriptable"
     ]
    }
   ],
   "source": [
    "set1[0] #인덱싱 불가"
   ]
  },
  {
   "cell_type": "code",
   "execution_count": 11,
   "id": "a10a7d75-3d4a-4ca2-959a-b0e882bc7a28",
   "metadata": {},
   "outputs": [
    {
     "ename": "TypeError",
     "evalue": "'set' object is not subscriptable",
     "output_type": "error",
     "traceback": [
      "\u001b[1;31m---------------------------------------------------------------------------\u001b[0m",
      "\u001b[1;31mTypeError\u001b[0m                                 Traceback (most recent call last)",
      "\u001b[1;32m<ipython-input-11-ea280228e3f8>\u001b[0m in \u001b[0;36m<module>\u001b[1;34m\u001b[0m\n\u001b[1;32m----> 1\u001b[1;33m \u001b[0mset1\u001b[0m\u001b[1;33m[\u001b[0m\u001b[1;33m:\u001b[0m\u001b[1;36m5\u001b[0m\u001b[1;33m]\u001b[0m\u001b[1;33m\u001b[0m\u001b[1;33m\u001b[0m\u001b[0m\n\u001b[0m",
      "\u001b[1;31mTypeError\u001b[0m: 'set' object is not subscriptable"
     ]
    }
   ],
   "source": [
    "set1[:5] #슬라이싱 불가 "
   ]
  },
  {
   "cell_type": "code",
   "execution_count": 16,
   "id": "ef89f53a-4d11-4004-a6c6-e99eb09c232b",
   "metadata": {},
   "outputs": [
    {
     "data": {
      "text/plain": [
       "{'A', 'B', 'C', 'D', 'E', 'F', 'a'}"
      ]
     },
     "execution_count": 16,
     "metadata": {},
     "output_type": "execute_result"
    }
   ],
   "source": [
    "set1.add('a')\n",
    "set1"
   ]
  },
  {
   "cell_type": "code",
   "execution_count": 17,
   "id": "74eb146b-bf89-40f1-9a0f-b989f7904134",
   "metadata": {},
   "outputs": [
    {
     "data": {
      "text/plain": [
       "{'A', 'B', 'C', 'D', 'E', 'F'}"
      ]
     },
     "execution_count": 17,
     "metadata": {},
     "output_type": "execute_result"
    }
   ],
   "source": [
    "set1.remove('a')\n",
    "set1"
   ]
  },
  {
   "cell_type": "code",
   "execution_count": 18,
   "id": "80edd122-e1bc-4aab-9a04-46b36063d02b",
   "metadata": {},
   "outputs": [
    {
     "data": {
      "text/plain": [
       "{'A', 'C', 'D', 'E', 'F'}"
      ]
     },
     "execution_count": 18,
     "metadata": {},
     "output_type": "execute_result"
    }
   ],
   "source": [
    "set1.pop()\n",
    "set1"
   ]
  }
 ],
 "metadata": {
  "kernelspec": {
   "display_name": "Python 3",
   "language": "python",
   "name": "python3"
  },
  "language_info": {
   "codemirror_mode": {
    "name": "ipython",
    "version": 3
   },
   "file_extension": ".py",
   "mimetype": "text/x-python",
   "name": "python",
   "nbconvert_exporter": "python",
   "pygments_lexer": "ipython3",
   "version": "3.8.8"
  }
 },
 "nbformat": 4,
 "nbformat_minor": 5
}
