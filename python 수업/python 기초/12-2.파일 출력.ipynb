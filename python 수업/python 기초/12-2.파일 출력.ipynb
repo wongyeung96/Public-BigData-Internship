{
 "cells": [
  {
   "cell_type": "code",
   "execution_count": 26,
   "id": "bd11e37d-d87a-4796-aaa1-66192d785c3d",
   "metadata": {},
   "outputs": [],
   "source": [
    "fw = open(\"hello_write.txt\",'w')"
   ]
  },
  {
   "cell_type": "code",
   "execution_count": 27,
   "id": "b3f1ac3d-83cb-4e3b-9a69-20c67b13fc4e",
   "metadata": {},
   "outputs": [
    {
     "data": {
      "text/plain": [
       "22"
      ]
     },
     "execution_count": 27,
     "metadata": {},
     "output_type": "execute_result"
    }
   ],
   "source": [
    "fw.write('Hello World Python!!!\\n')"
   ]
  },
  {
   "cell_type": "code",
   "execution_count": 28,
   "id": "eb499c46-6351-409e-ae4e-a1bf022b4f73",
   "metadata": {},
   "outputs": [
    {
     "data": {
      "text/plain": [
       "26"
      ]
     },
     "execution_count": 28,
     "metadata": {},
     "output_type": "execute_result"
    }
   ],
   "source": [
    "fw.write('Welcome to Python World!!!')"
   ]
  },
  {
   "cell_type": "code",
   "execution_count": 29,
   "id": "f69ea99c-246d-4317-a9b5-209d9ed4e2cb",
   "metadata": {},
   "outputs": [],
   "source": [
    "fw.close()"
   ]
  },
  {
   "cell_type": "code",
   "execution_count": null,
   "id": "0816652b-b03c-4754-af1d-7cd7f8a37fed",
   "metadata": {},
   "outputs": [],
   "source": []
  },
  {
   "cell_type": "code",
   "execution_count": 30,
   "id": "e20a72d9-ef6a-409b-aa7e-7d7b34e00718",
   "metadata": {
    "tags": []
   },
   "outputs": [],
   "source": [
    "with open(\"hello_write1.txt\",'x') as fw:\n",
    "    fw.write('Hello World Python!!!\\n')\n",
    "    fw.write('Welcome to Python World!!!\\n')"
   ]
  },
  {
   "cell_type": "code",
   "execution_count": null,
   "id": "2422f546-843a-4c69-a208-9166921e42c1",
   "metadata": {},
   "outputs": [],
   "source": []
  },
  {
   "cell_type": "code",
   "execution_count": 31,
   "id": "dbe375c9-2eea-46c1-adba-1371432b1bf1",
   "metadata": {},
   "outputs": [],
   "source": [
    "with open(\"hello_write1.txt\",'a') as fw:\n",
    "    fw.write('New line append!!!')"
   ]
  },
  {
   "cell_type": "code",
   "execution_count": null,
   "id": "bf75f0d1-d0b8-4a4f-9942-cceb67131f28",
   "metadata": {},
   "outputs": [],
   "source": []
  }
 ],
 "metadata": {
  "kernelspec": {
   "display_name": "Python 3",
   "language": "python",
   "name": "python3"
  },
  "language_info": {
   "codemirror_mode": {
    "name": "ipython",
    "version": 3
   },
   "file_extension": ".py",
   "mimetype": "text/x-python",
   "name": "python",
   "nbconvert_exporter": "python",
   "pygments_lexer": "ipython3",
   "version": "3.8.8"
  }
 },
 "nbformat": 4,
 "nbformat_minor": 5
}
