{
 "cells": [
  {
   "cell_type": "code",
   "execution_count": 1,
   "id": "4a4d74c6-89a9-402a-b91b-60c89fecc2ce",
   "metadata": {},
   "outputs": [],
   "source": [
    "a = True\n",
    "x,y = 5, 10"
   ]
  },
  {
   "cell_type": "code",
   "execution_count": 2,
   "id": "5ec6c0f2-99d8-4a57-9a58-902cb31bf8d3",
   "metadata": {},
   "outputs": [
    {
     "name": "stdout",
     "output_type": "stream",
     "text": [
      "a는 True입니다\n",
      "x가 y보다 작습니다\n"
     ]
    }
   ],
   "source": [
    "if a == True:\n",
    "    print('a는 True입니다')\n",
    "    if x > y:\n",
    "        print('x가 y보다 큽니다')\n",
    "    else:\n",
    "        print('x가 y보다 작습니다')\n",
    "else:\n",
    "    print(\"a는 False입니다\")"
   ]
  },
  {
   "cell_type": "code",
   "execution_count": 9,
   "id": "58ce2003-bc6b-4b28-9c46-d24387e1725e",
   "metadata": {},
   "outputs": [
    {
     "name": "stdout",
     "output_type": "stream",
     "text": [
      "입장료는 5,000원 입니다\n"
     ]
    }
   ],
   "source": [
    "입장료 = 0\n",
    "회원 = True\n",
    "나이 = 14\n",
    "\n",
    "if 회원:\n",
    "    if 나이 >0 and 나이 <=13:\n",
    "        입장료 = 2500\n",
    "    elif 나이 >=14 and 나이 <= 59:\n",
    "        입장료 = 5000\n",
    "else:\n",
    "    if 나이 >0 and 나이 <=13:\n",
    "        입장료 = 5000\n",
    "    elif 나이 >=14 and 나이 <= 59:\n",
    "        입장료 = 10000\n",
    "print(f\"입장료는 {입장료:,}원 입니다\")"
   ]
  },
  {
   "cell_type": "code",
   "execution_count": 7,
   "id": "5292a65c-1ea5-43a8-93d7-f098309f5697",
   "metadata": {},
   "outputs": [
    {
     "name": "stdout",
     "output_type": "stream",
     "text": [
      "입장료는 2,500원 입니다\n"
     ]
    }
   ],
   "source": [
    "입장료 = 0\n",
    "\n",
    "if 나이 <=6 or 나이 >= 60:\n",
    "    입장료 = 0\n",
    "elif 나이 <=13 or 나이 >= 7:\n",
    "    입장료 = 5000\n",
    "elif 나이 <=59 and 나이 >= 14:\n",
    "    입장료 = 10000\n",
    "    \n",
    "if 회원:\n",
    "    입장료 = int(입장료*0.5)\n",
    "    \n",
    "print(f\"입장료는 {입장료:,}원 입니다\")"
   ]
  },
  {
   "cell_type": "code",
   "execution_count": null,
   "id": "8a3e9af4-6ed7-401c-8c5a-cd4cd41d6029",
   "metadata": {},
   "outputs": [],
   "source": []
  }
 ],
 "metadata": {
  "kernelspec": {
   "display_name": "Python 3",
   "language": "python",
   "name": "python3"
  },
  "language_info": {
   "codemirror_mode": {
    "name": "ipython",
    "version": 3
   },
   "file_extension": ".py",
   "mimetype": "text/x-python",
   "name": "python",
   "nbconvert_exporter": "python",
   "pygments_lexer": "ipython3",
   "version": "3.8.8"
  }
 },
 "nbformat": 4,
 "nbformat_minor": 5
}
