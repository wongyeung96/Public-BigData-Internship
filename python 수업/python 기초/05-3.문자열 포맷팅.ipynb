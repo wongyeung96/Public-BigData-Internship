{
 "cells": [
  {
   "cell_type": "code",
   "execution_count": 1,
   "id": "5d02c462-ec98-4928-a62a-36ff732ae853",
   "metadata": {},
   "outputs": [],
   "source": [
    "name, age, phone = \"홍길동\",25,\"010-111-2222\""
   ]
  },
  {
   "cell_type": "code",
   "execution_count": 3,
   "id": "19d134e7-2ce6-4e91-b945-c5f776455a33",
   "metadata": {},
   "outputs": [
    {
     "data": {
      "text/plain": [
       "'이름은 홍길동 이고, 나이는 25세 이며, 전화번호는 010-111-2222 입니다.'"
      ]
     },
     "execution_count": 3,
     "metadata": {},
     "output_type": "execute_result"
    }
   ],
   "source": [
    "소개 = \"이름은 {} 이고, 나이는 {}세 이며, 전화번호는 {} 입니다.\".format(name,age,phone)\n",
    "소개"
   ]
  },
  {
   "cell_type": "code",
   "execution_count": 4,
   "id": "b1410ff5-95e1-4b1c-ad31-f2463dba1c5e",
   "metadata": {},
   "outputs": [
    {
     "data": {
      "text/plain": [
       "'이름은 홍길동 이고, 나이는 25세 이며, 전화번호는 010-111-2222 입니다.'"
      ]
     },
     "execution_count": 4,
     "metadata": {},
     "output_type": "execute_result"
    }
   ],
   "source": [
    "소개 = \"이름은 {0} 이고, 나이는 {2}세 이며, 전화번호는 {1} 입니다.\".format(name,phone,age)\n",
    "소개"
   ]
  },
  {
   "cell_type": "code",
   "execution_count": 5,
   "id": "e439abeb-51a6-490e-b97f-fc376b0d6b67",
   "metadata": {},
   "outputs": [
    {
     "data": {
      "text/plain": [
       "'이름은 홍길동 이고, 나이는 25세 이며, 전화번호는 010-111-2222 입니다.'"
      ]
     },
     "execution_count": 5,
     "metadata": {},
     "output_type": "execute_result"
    }
   ],
   "source": [
    "소개 = \"이름은 {a} 이고, 나이는 {b}세 이며, 전화번호는 {c} 입니다.\".format(a=name,c=phone,b=age)\n",
    "소개"
   ]
  },
  {
   "cell_type": "code",
   "execution_count": 6,
   "id": "d57fce1e-4971-467d-80b4-40918fec912a",
   "metadata": {},
   "outputs": [
    {
     "data": {
      "text/plain": [
       "'이름은 홍길동이고, 나이는 25세 이며, 전화번호는 010-111-2222 입니다.'"
      ]
     },
     "execution_count": 6,
     "metadata": {},
     "output_type": "execute_result"
    }
   ],
   "source": [
    "소개 = f\"이름은 {name}이고, 나이는 {age}세 이며, 전화번호는 {phone} 입니다.\"\n",
    "소개"
   ]
  },
  {
   "cell_type": "code",
   "execution_count": 7,
   "id": "0157b71a-e9ad-4540-bfe5-f74a33e1a4c6",
   "metadata": {},
   "outputs": [],
   "source": [
    "jan,dec = 1,12"
   ]
  },
  {
   "cell_type": "code",
   "execution_count": 8,
   "id": "1d514575-c943-4139-9287-b2fdbeeaf846",
   "metadata": {},
   "outputs": [
    {
     "name": "stdout",
     "output_type": "stream",
     "text": [
      "한 해의 시작은 01월\n",
      "한 해의 마지막은 12월\n"
     ]
    }
   ],
   "source": [
    "print(\"한 해의 시작은 {:02d}월\".format(jan))\n",
    "print(\"한 해의 마지막은 {:02d}월\".format(dec))"
   ]
  },
  {
   "cell_type": "code",
   "execution_count": 9,
   "id": "728a109a-83c3-4a94-ab39-171271fa1e15",
   "metadata": {},
   "outputs": [
    {
     "data": {
      "text/plain": [
       "'123,456,789'"
      ]
     },
     "execution_count": 9,
     "metadata": {},
     "output_type": "execute_result"
    }
   ],
   "source": [
    "val = 123456789\n",
    "money = \"{:,}\"\n",
    "money.format(val)"
   ]
  },
  {
   "cell_type": "code",
   "execution_count": 10,
   "id": "b153dfd1-2995-441b-a98e-53cae7969356",
   "metadata": {},
   "outputs": [
    {
     "data": {
      "text/plain": [
       "'3,3.000000,3.0,3.14,33.33%'"
      ]
     },
     "execution_count": 10,
     "metadata": {},
     "output_type": "execute_result"
    }
   ],
   "source": [
    "'{},{:f},{:.1f},{:.2f},{:.2%}'.format(3,3,3,3.1415,1/3)"
   ]
  },
  {
   "cell_type": "code",
   "execution_count": 11,
   "id": "189cbd0d-5250-4976-a19b-af2c627d121a",
   "metadata": {},
   "outputs": [
    {
     "data": {
      "text/plain": [
       "0.3333333333333333"
      ]
     },
     "execution_count": 11,
     "metadata": {},
     "output_type": "execute_result"
    }
   ],
   "source": [
    "1/3"
   ]
  },
  {
   "cell_type": "code",
   "execution_count": null,
   "id": "422977f8-df08-4146-9362-00a19d616316",
   "metadata": {},
   "outputs": [],
   "source": []
  }
 ],
 "metadata": {
  "kernelspec": {
   "display_name": "Python 3",
   "language": "python",
   "name": "python3"
  },
  "language_info": {
   "codemirror_mode": {
    "name": "ipython",
    "version": 3
   },
   "file_extension": ".py",
   "mimetype": "text/x-python",
   "name": "python",
   "nbconvert_exporter": "python",
   "pygments_lexer": "ipython3",
   "version": "3.8.8"
  }
 },
 "nbformat": 4,
 "nbformat_minor": 5
}
