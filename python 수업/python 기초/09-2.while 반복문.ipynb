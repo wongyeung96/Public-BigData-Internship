{
 "cells": [
  {
   "cell_type": "markdown",
   "id": "cbc66c80-48e2-414a-b1d9-e18a095cc6bc",
   "metadata": {},
   "source": [
    "### While 문"
   ]
  },
  {
   "cell_type": "code",
   "execution_count": 1,
   "id": "613807a4-3fd4-41e1-8437-cb3d88d0cd4a",
   "metadata": {},
   "outputs": [],
   "source": [
    "a = 0"
   ]
  },
  {
   "cell_type": "code",
   "execution_count": 2,
   "id": "98c1ceb3-2a17-4501-9b65-5e8df092a785",
   "metadata": {},
   "outputs": [
    {
     "name": "stdout",
     "output_type": "stream",
     "text": [
      "0\n",
      "1\n",
      "2\n",
      "3\n",
      "4\n",
      "5\n",
      "6\n",
      "7\n",
      "8\n",
      "9\n",
      "a가 10이므로 종료합니다.\n"
     ]
    }
   ],
   "source": [
    "while a<10:\n",
    "    print(a)\n",
    "    a += 1 # a = a + 1\n",
    "else:\n",
    "    print(f\"a가 {a}이므로 종료합니다.\")"
   ]
  },
  {
   "cell_type": "markdown",
   "id": "73ca0064-7d9e-41b6-a53b-39396be90df8",
   "metadata": {},
   "source": [
    "### While 무한반복"
   ]
  },
  {
   "cell_type": "code",
   "execution_count": 6,
   "id": "542573d3-3ce7-4a16-9873-2b2a56ac2339",
   "metadata": {},
   "outputs": [],
   "source": [
    "x = 0"
   ]
  },
  {
   "cell_type": "code",
   "execution_count": 7,
   "id": "063a92ed-bb6b-423a-94e7-ead7eaa8f94f",
   "metadata": {},
   "outputs": [
    {
     "name": "stdout",
     "output_type": "stream",
     "text": [
      "3\n",
      "6\n",
      "9\n",
      "12\n",
      "15\n",
      "18\n",
      "21\n",
      "24\n",
      "27\n",
      "30\n",
      "33\n",
      "36\n",
      "39\n",
      "42\n",
      "45\n",
      "48\n",
      "51\n",
      "54\n",
      "57\n",
      "60\n",
      "63\n",
      "66\n",
      "69\n",
      "72\n",
      "75\n",
      "78\n",
      "81\n",
      "84\n",
      "87\n",
      "90\n",
      "93\n",
      "96\n",
      "99\n",
      "102\n"
     ]
    }
   ],
   "source": [
    "while True:\n",
    "    x += 3\n",
    "    print(x)\n",
    "    if x > 100 and x % 3 == 0:\n",
    "        break"
   ]
  }
 ],
 "metadata": {
  "kernelspec": {
   "display_name": "Python 3",
   "language": "python",
   "name": "python3"
  },
  "language_info": {
   "codemirror_mode": {
    "name": "ipython",
    "version": 3
   },
   "file_extension": ".py",
   "mimetype": "text/x-python",
   "name": "python",
   "nbconvert_exporter": "python",
   "pygments_lexer": "ipython3",
   "version": "3.8.8"
  }
 },
 "nbformat": 4,
 "nbformat_minor": 5
}
