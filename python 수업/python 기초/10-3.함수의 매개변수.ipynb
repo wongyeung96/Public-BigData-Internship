{
 "cells": [
  {
   "cell_type": "code",
   "execution_count": 13,
   "id": "687b7afd-e7a0-4092-9501-407552e670f0",
   "metadata": {},
   "outputs": [],
   "source": [
    "def square2(x=2, y=3):\n",
    "    x = x**2\n",
    "    y = y**2\n",
    "    return x, y"
   ]
  },
  {
   "cell_type": "code",
   "execution_count": 14,
   "id": "ec531651-6f06-4411-a6f8-ff9712e2a4fb",
   "metadata": {},
   "outputs": [
    {
     "data": {
      "text/plain": [
       "(4, 9)"
      ]
     },
     "execution_count": 14,
     "metadata": {},
     "output_type": "execute_result"
    }
   ],
   "source": [
    "square2()"
   ]
  },
  {
   "cell_type": "code",
   "execution_count": 15,
   "id": "df92a5f0-5f7d-454c-89e6-d450528d6168",
   "metadata": {},
   "outputs": [
    {
     "data": {
      "text/plain": [
       "(4, 9)"
      ]
     },
     "execution_count": 15,
     "metadata": {},
     "output_type": "execute_result"
    }
   ],
   "source": [
    "square2(2)"
   ]
  },
  {
   "cell_type": "code",
   "execution_count": 16,
   "id": "5a9b76aa-c97b-4013-b6bf-d3200bd90545",
   "metadata": {},
   "outputs": [
    {
     "data": {
      "text/plain": [
       "(4, 9)"
      ]
     },
     "execution_count": 16,
     "metadata": {},
     "output_type": "execute_result"
    }
   ],
   "source": [
    "square2(2,3)"
   ]
  },
  {
   "cell_type": "code",
   "execution_count": 17,
   "id": "e3c85bda-a20c-4024-93a2-3cce70b3216f",
   "metadata": {},
   "outputs": [
    {
     "data": {
      "text/plain": [
       "(16, 25)"
      ]
     },
     "execution_count": 17,
     "metadata": {},
     "output_type": "execute_result"
    }
   ],
   "source": [
    "square2(4,5)"
   ]
  },
  {
   "cell_type": "code",
   "execution_count": 18,
   "id": "83df91d9-39a6-4880-829d-0c602b214b90",
   "metadata": {},
   "outputs": [
    {
     "data": {
      "text/plain": [
       "(16, 25)"
      ]
     },
     "execution_count": 18,
     "metadata": {},
     "output_type": "execute_result"
    }
   ],
   "source": [
    "# 매개변수 지정 인자값\n",
    "square2(y=5,x=4)"
   ]
  },
  {
   "cell_type": "code",
   "execution_count": 19,
   "id": "f47cebe3-2e76-42f1-9b00-77a8450096fd",
   "metadata": {},
   "outputs": [],
   "source": [
    "# 가변 매개변수\n",
    "def changeable(x, *y):\n",
    "    print(x,y)"
   ]
  },
  {
   "cell_type": "code",
   "execution_count": 20,
   "id": "b709623c-d2fa-4e89-9440-f146cb10aa10",
   "metadata": {},
   "outputs": [
    {
     "name": "stdout",
     "output_type": "stream",
     "text": [
      "1 ()\n"
     ]
    }
   ],
   "source": [
    "changeable(1)"
   ]
  },
  {
   "cell_type": "code",
   "execution_count": 21,
   "id": "eb6cf97b-3385-453b-9a2e-92566499c4a4",
   "metadata": {},
   "outputs": [
    {
     "name": "stdout",
     "output_type": "stream",
     "text": [
      "1 (2,)\n"
     ]
    }
   ],
   "source": [
    "changeable(1,2)"
   ]
  },
  {
   "cell_type": "code",
   "execution_count": 22,
   "id": "ee6c88a5-e631-477d-970e-e33364413614",
   "metadata": {},
   "outputs": [
    {
     "name": "stdout",
     "output_type": "stream",
     "text": [
      "1 (2, 3)\n"
     ]
    }
   ],
   "source": [
    "changeable(1,2,3)"
   ]
  },
  {
   "cell_type": "code",
   "execution_count": 23,
   "id": "9d2a078a-a191-4096-b2c6-c69238834b15",
   "metadata": {},
   "outputs": [
    {
     "name": "stdout",
     "output_type": "stream",
     "text": [
      "1 (2, 3, 4, 5)\n"
     ]
    }
   ],
   "source": [
    "changeable(1,2,3,4,5)"
   ]
  }
 ],
 "metadata": {
  "kernelspec": {
   "display_name": "Python 3",
   "language": "python",
   "name": "python3"
  },
  "language_info": {
   "codemirror_mode": {
    "name": "ipython",
    "version": 3
   },
   "file_extension": ".py",
   "mimetype": "text/x-python",
   "name": "python",
   "nbconvert_exporter": "python",
   "pygments_lexer": "ipython3",
   "version": "3.8.8"
  }
 },
 "nbformat": 4,
 "nbformat_minor": 5
}
