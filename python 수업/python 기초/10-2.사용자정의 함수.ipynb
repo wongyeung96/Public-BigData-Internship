{
 "cells": [
  {
   "cell_type": "code",
   "execution_count": 7,
   "id": "493f0e35-a3ae-4858-89c0-69b675ea55f4",
   "metadata": {},
   "outputs": [],
   "source": [
    "# 매개변수, 반환값 없는 경우\n",
    "def add1():\n",
    "    print(\"더하기 함수입니다\")"
   ]
  },
  {
   "cell_type": "code",
   "execution_count": 8,
   "id": "447c8fc1-cade-46b6-9e01-866446fd8a15",
   "metadata": {},
   "outputs": [
    {
     "name": "stdout",
     "output_type": "stream",
     "text": [
      "더하기 함수입니다\n"
     ]
    }
   ],
   "source": [
    "add1()"
   ]
  },
  {
   "cell_type": "code",
   "execution_count": 9,
   "id": "939e8d99-37bc-457e-864d-3a220665768f",
   "metadata": {},
   "outputs": [],
   "source": [
    "# 매개변수가 있고, 반환값은 없는 경우\n",
    "def add2(x,y):\n",
    "    print(x+y)"
   ]
  },
  {
   "cell_type": "code",
   "execution_count": 10,
   "id": "659dcf5c-ed99-4d12-9614-4dcf1e08285b",
   "metadata": {},
   "outputs": [
    {
     "name": "stdout",
     "output_type": "stream",
     "text": [
      "3\n"
     ]
    }
   ],
   "source": [
    "add2(1,2)"
   ]
  },
  {
   "cell_type": "code",
   "execution_count": 11,
   "id": "8bc14804-bbc4-48cb-92a9-2bedcfd22b3c",
   "metadata": {},
   "outputs": [],
   "source": [
    "# 매개변수가 없고, 반환값이 있는 경우\n",
    "def add3():\n",
    "    x,y = 2,4\n",
    "    return x + y"
   ]
  },
  {
   "cell_type": "code",
   "execution_count": 12,
   "id": "7b3caab2-2a39-4315-b9bc-0c630ef9c9bb",
   "metadata": {},
   "outputs": [
    {
     "name": "stdout",
     "output_type": "stream",
     "text": [
      "6\n"
     ]
    }
   ],
   "source": [
    "re_val = add3()\n",
    "print(re_val)"
   ]
  },
  {
   "cell_type": "code",
   "execution_count": 13,
   "id": "f97e97fb-bb29-4c7d-8fc3-64f9584eb6f8",
   "metadata": {},
   "outputs": [],
   "source": [
    "# 매개변수, 반환값이 둘 다 있는 경우\n",
    "def add4(x,y):\n",
    "    return x+y"
   ]
  },
  {
   "cell_type": "code",
   "execution_count": 15,
   "id": "766710b2-1e80-4d17-b928-50b504d970ca",
   "metadata": {},
   "outputs": [
    {
     "name": "stdout",
     "output_type": "stream",
     "text": [
      "6\n"
     ]
    }
   ],
   "source": [
    "re_val = add4(2,4)\n",
    "print(re_val)"
   ]
  },
  {
   "cell_type": "code",
   "execution_count": 16,
   "id": "c658ab89-6559-4eab-82c7-f50440e5ecad",
   "metadata": {},
   "outputs": [],
   "source": [
    "# 다중 반환값\n",
    "def square(x,y):\n",
    "    x = x ** 2\n",
    "    y = y ** 2\n",
    "    return x,y"
   ]
  },
  {
   "cell_type": "code",
   "execution_count": 17,
   "id": "cb6ea7c5-ea6b-4e19-8d33-f087637e655b",
   "metadata": {},
   "outputs": [
    {
     "name": "stdout",
     "output_type": "stream",
     "text": [
      "4\n",
      "9\n"
     ]
    }
   ],
   "source": [
    "a,b = square(2,3)\n",
    "print(a)\n",
    "print(b)"
   ]
  },
  {
   "cell_type": "code",
   "execution_count": null,
   "id": "339d3626-2960-4df6-b3af-f67cc69b8ad4",
   "metadata": {},
   "outputs": [],
   "source": []
  }
 ],
 "metadata": {
  "kernelspec": {
   "display_name": "Python 3",
   "language": "python",
   "name": "python3"
  },
  "language_info": {
   "codemirror_mode": {
    "name": "ipython",
    "version": 3
   },
   "file_extension": ".py",
   "mimetype": "text/x-python",
   "name": "python",
   "nbconvert_exporter": "python",
   "pygments_lexer": "ipython3",
   "version": "3.8.8"
  }
 },
 "nbformat": 4,
 "nbformat_minor": 5
}
