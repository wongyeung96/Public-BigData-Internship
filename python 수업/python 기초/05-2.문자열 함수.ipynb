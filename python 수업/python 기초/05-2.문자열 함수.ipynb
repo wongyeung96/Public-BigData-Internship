{
 "cells": [
  {
   "cell_type": "code",
   "execution_count": 1,
   "id": "f7aa86d0-6d73-41ae-bdf5-a7f3ead22854",
   "metadata": {},
   "outputs": [
    {
     "data": {
      "text/plain": [
       "16"
      ]
     },
     "execution_count": 1,
     "metadata": {},
     "output_type": "execute_result"
    }
   ],
   "source": [
    "len('HelloworldPython')"
   ]
  },
  {
   "cell_type": "code",
   "execution_count": 2,
   "id": "4be3dac7-b1df-4fe0-ae93-a374ba32a60b",
   "metadata": {},
   "outputs": [
    {
     "data": {
      "text/plain": [
       "'H-e-l-l-o-W-o-r-l-d-P-y-t-h-o-n'"
      ]
     },
     "execution_count": 2,
     "metadata": {},
     "output_type": "execute_result"
    }
   ],
   "source": [
    "'-'.join('HelloWorldPython')"
   ]
  },
  {
   "cell_type": "code",
   "execution_count": 3,
   "id": "67417c33-68d3-4971-9c8f-68e51763e207",
   "metadata": {},
   "outputs": [
    {
     "data": {
      "text/plain": [
       "'1-2-3-4-5'"
      ]
     },
     "execution_count": 3,
     "metadata": {},
     "output_type": "execute_result"
    }
   ],
   "source": [
    "'-'.join('12345')"
   ]
  },
  {
   "cell_type": "code",
   "execution_count": 4,
   "id": "15b333ca-80df-48c3-b20d-ab63918dc549",
   "metadata": {},
   "outputs": [
    {
     "data": {
      "text/plain": [
       "['Hello', 'world', 'Python']"
      ]
     },
     "execution_count": 4,
     "metadata": {},
     "output_type": "execute_result"
    }
   ],
   "source": [
    "'Hello-world-Python'.split('-')"
   ]
  },
  {
   "cell_type": "code",
   "execution_count": 5,
   "id": "615f5619-a42c-46e1-bf27-4cf8fa15462f",
   "metadata": {},
   "outputs": [
    {
     "data": {
      "text/plain": [
       "['서울시', '마포구', '상암동', '1585']"
      ]
     },
     "execution_count": 5,
     "metadata": {},
     "output_type": "execute_result"
    }
   ],
   "source": [
    "'서울시 마포구 상암동 1585'.split()"
   ]
  },
  {
   "cell_type": "code",
   "execution_count": 6,
   "id": "3eb454d7-5a37-456b-8559-f7ce58e9c348",
   "metadata": {},
   "outputs": [
    {
     "data": {
      "text/plain": [
       "'문자열 정리'"
      ]
     },
     "execution_count": 6,
     "metadata": {},
     "output_type": "execute_result"
    }
   ],
   "source": [
    "text = '\\t 문자열 정리  \\n'\n",
    "text.strip()"
   ]
  },
  {
   "cell_type": "code",
   "execution_count": 7,
   "id": "fe15d293-fc75-4bf5-88ad-aa23f2a60003",
   "metadata": {},
   "outputs": [
    {
     "data": {
      "text/plain": [
       "'2016-08-30'"
      ]
     },
     "execution_count": 7,
     "metadata": {},
     "output_type": "execute_result"
    }
   ],
   "source": [
    "생일 = '2016/08/30'\n",
    "생일.replace('/','-')"
   ]
  },
  {
   "cell_type": "code",
   "execution_count": 8,
   "id": "3b7ec056-31fe-4a64-bf94-0a92dd9aa54a",
   "metadata": {},
   "outputs": [
    {
     "data": {
      "text/plain": [
       "True"
      ]
     },
     "execution_count": 8,
     "metadata": {},
     "output_type": "execute_result"
    }
   ],
   "source": [
    "'Hello World Python'.startswith('Hello')"
   ]
  },
  {
   "cell_type": "code",
   "execution_count": 9,
   "id": "6ddf2309-26bc-4c38-8f54-28050e448b1e",
   "metadata": {},
   "outputs": [
    {
     "data": {
      "text/plain": [
       "False"
      ]
     },
     "execution_count": 9,
     "metadata": {},
     "output_type": "execute_result"
    }
   ],
   "source": [
    "'Hello World Python'.startswith('hello')"
   ]
  },
  {
   "cell_type": "code",
   "execution_count": 10,
   "id": "1d1efeff-2ab2-433e-9c25-46871ad8e1e3",
   "metadata": {},
   "outputs": [
    {
     "data": {
      "text/plain": [
       "True"
      ]
     },
     "execution_count": 10,
     "metadata": {},
     "output_type": "execute_result"
    }
   ],
   "source": [
    "'Hello World Python'.endswith('Python')"
   ]
  },
  {
   "cell_type": "code",
   "execution_count": 11,
   "id": "f699b5be-430a-42f9-8954-7a40bc5d6020",
   "metadata": {},
   "outputs": [
    {
     "data": {
      "text/plain": [
       "False"
      ]
     },
     "execution_count": 11,
     "metadata": {},
     "output_type": "execute_result"
    }
   ],
   "source": [
    "'Hello World Python'.endswith('python')"
   ]
  },
  {
   "cell_type": "code",
   "execution_count": 14,
   "id": "e916096b-48db-4063-a879-f4c050cc6cb6",
   "metadata": {},
   "outputs": [
    {
     "data": {
      "text/plain": [
       "3"
      ]
     },
     "execution_count": 14,
     "metadata": {},
     "output_type": "execute_result"
    }
   ],
   "source": [
    "text = 'Hello World Python'\n",
    "text.count('o')"
   ]
  },
  {
   "cell_type": "code",
   "execution_count": 15,
   "id": "e6777c7c-d596-4e3b-b152-5cf01555f247",
   "metadata": {},
   "outputs": [
    {
     "data": {
      "text/plain": [
       "2"
      ]
     },
     "execution_count": 15,
     "metadata": {},
     "output_type": "execute_result"
    }
   ],
   "source": [
    "text = 'Hello World Python, Welcome to Python world'\n",
    "text.count('Python')"
   ]
  },
  {
   "cell_type": "code",
   "execution_count": 16,
   "id": "cb3a5c96-fa4b-4a8b-9ff1-01309f011b8c",
   "metadata": {},
   "outputs": [
    {
     "data": {
      "text/plain": [
       "4"
      ]
     },
     "execution_count": 16,
     "metadata": {},
     "output_type": "execute_result"
    }
   ],
   "source": [
    "text.index('o')"
   ]
  },
  {
   "cell_type": "code",
   "execution_count": 17,
   "id": "e85ca36a-9bae-43b9-b6cb-b53f85c2031c",
   "metadata": {},
   "outputs": [
    {
     "data": {
      "text/plain": [
       "7"
      ]
     },
     "execution_count": 17,
     "metadata": {},
     "output_type": "execute_result"
    }
   ],
   "source": [
    "text.index('o',5)"
   ]
  },
  {
   "cell_type": "code",
   "execution_count": 18,
   "id": "e7663b14-af8e-4c7f-9faa-75058e5a53da",
   "metadata": {},
   "outputs": [
    {
     "data": {
      "text/plain": [
       "12"
      ]
     },
     "execution_count": 18,
     "metadata": {},
     "output_type": "execute_result"
    }
   ],
   "source": [
    "text.find('Python')"
   ]
  },
  {
   "cell_type": "code",
   "execution_count": 19,
   "id": "fc87b221-6487-4bb0-8ac8-2891b75d0abe",
   "metadata": {},
   "outputs": [
    {
     "data": {
      "text/plain": [
       "31"
      ]
     },
     "execution_count": 19,
     "metadata": {},
     "output_type": "execute_result"
    }
   ],
   "source": [
    "text.find('Python',20)"
   ]
  },
  {
   "cell_type": "code",
   "execution_count": 21,
   "id": "9af27f55-6ad2-4161-b5af-b07292908c7e",
   "metadata": {},
   "outputs": [
    {
     "data": {
      "text/plain": [
       "'Hello world'"
      ]
     },
     "execution_count": 21,
     "metadata": {},
     "output_type": "execute_result"
    }
   ],
   "source": [
    "'Hello world'.capitalize() # 첫번째 단어만 대문자"
   ]
  },
  {
   "cell_type": "code",
   "execution_count": 23,
   "id": "60428ebc-a775-42f6-94c8-97bac2eb6b2b",
   "metadata": {},
   "outputs": [
    {
     "data": {
      "text/plain": [
       "'hello world'"
      ]
     },
     "execution_count": 23,
     "metadata": {},
     "output_type": "execute_result"
    }
   ],
   "source": [
    "'Hello world'.lower() # 다 소문자"
   ]
  },
  {
   "cell_type": "code",
   "execution_count": 24,
   "id": "08be9f32-8453-4c6e-b695-23bb909059a9",
   "metadata": {},
   "outputs": [
    {
     "data": {
      "text/plain": [
       "'HELLO WORLD'"
      ]
     },
     "execution_count": 24,
     "metadata": {},
     "output_type": "execute_result"
    }
   ],
   "source": [
    "'Hello world'.upper() # 다 대문자"
   ]
  },
  {
   "cell_type": "code",
   "execution_count": 25,
   "id": "ad82ac50-77cb-472c-bb3a-11c22d669f83",
   "metadata": {},
   "outputs": [
    {
     "data": {
      "text/plain": [
       "True"
      ]
     },
     "execution_count": 25,
     "metadata": {},
     "output_type": "execute_result"
    }
   ],
   "source": [
    "'Python' in 'Hello World Python'"
   ]
  },
  {
   "cell_type": "code",
   "execution_count": 26,
   "id": "50031ba5-6780-4d1b-8c15-5dfea3168277",
   "metadata": {},
   "outputs": [
    {
     "data": {
      "text/plain": [
       "False"
      ]
     },
     "execution_count": 26,
     "metadata": {},
     "output_type": "execute_result"
    }
   ],
   "source": [
    "'Java' in 'Hello World Python'"
   ]
  },
  {
   "cell_type": "code",
   "execution_count": null,
   "id": "1fcf005f-a9fa-4df2-bb10-c728e91ade2b",
   "metadata": {},
   "outputs": [],
   "source": []
  }
 ],
 "metadata": {
  "kernelspec": {
   "display_name": "Python 3",
   "language": "python",
   "name": "python3"
  },
  "language_info": {
   "codemirror_mode": {
    "name": "ipython",
    "version": 3
   },
   "file_extension": ".py",
   "mimetype": "text/x-python",
   "name": "python",
   "nbconvert_exporter": "python",
   "pygments_lexer": "ipython3",
   "version": "3.8.8"
  }
 },
 "nbformat": 4,
 "nbformat_minor": 5
}
