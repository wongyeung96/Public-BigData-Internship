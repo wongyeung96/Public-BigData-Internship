{
 "cells": [
  {
   "cell_type": "markdown",
   "id": "fbaa0af2-6be8-4f71-931b-e4ef50ec0e3b",
   "metadata": {
    "tags": []
   },
   "source": [
    "### CSV 형식 저장"
   ]
  },
  {
   "cell_type": "code",
   "execution_count": 1,
   "id": "194caec1-076b-497d-b5de-a34e5e8c5b20",
   "metadata": {},
   "outputs": [],
   "source": [
    "import csv"
   ]
  },
  {
   "cell_type": "code",
   "execution_count": 6,
   "id": "07735d57-c683-4883-b6ba-761dd10f9f80",
   "metadata": {},
   "outputs": [],
   "source": [
    "# file open, newline=''으로 개행문자 지정\n",
    "with open('top_cities.csv', 'w', newline='') as f:\n",
    "    # csv.writer는 파일 객체를 매개변수로 지정\n",
    "    writer = csv.writer(f)  \n",
    "    # 첫 번째 줄에는 헤더를 작성합니다.\n",
    "    writer.writerow(['rank', 'city', 'population'])  \n",
    "    # writerows()에 리스트를 전달하면 여러 개의 값을 출력\n",
    "    writer.writerows([\n",
    "        [1, '상하이', 24150000],\n",
    "        [2, '카라치', 23500000],\n",
    "        [3, '베이징', 21516000],\n",
    "        [4, '텐진', 14722100],\n",
    "        [5, '이스탄불', 14160467],\n",
    "    ])"
   ]
  },
  {
   "cell_type": "code",
   "execution_count": 7,
   "id": "648f8edf-6438-4935-9b8b-4f2b7f9b74dc",
   "metadata": {},
   "outputs": [],
   "source": [
    "import chardet"
   ]
  },
  {
   "cell_type": "code",
   "execution_count": 8,
   "id": "c9b7723a-d66b-4bb7-9054-c6d06acade81",
   "metadata": {},
   "outputs": [],
   "source": [
    "char_dic = chardet.detect(open('top_cities.csv','rb').read())"
   ]
  },
  {
   "cell_type": "code",
   "execution_count": 9,
   "id": "86871b27-be83-488a-8a09-487b07f089a6",
   "metadata": {},
   "outputs": [
    {
     "data": {
      "text/plain": [
       "'EUC-KR'"
      ]
     },
     "execution_count": 9,
     "metadata": {},
     "output_type": "execute_result"
    }
   ],
   "source": [
    "char_dic['encoding']"
   ]
  },
  {
   "cell_type": "code",
   "execution_count": null,
   "id": "a76f59ce-0113-4655-a7fb-9e11b2eae907",
   "metadata": {},
   "outputs": [],
   "source": []
  }
 ],
 "metadata": {
  "kernelspec": {
   "display_name": "Python 3",
   "language": "python",
   "name": "python3"
  },
  "language_info": {
   "codemirror_mode": {
    "name": "ipython",
    "version": 3
   },
   "file_extension": ".py",
   "mimetype": "text/x-python",
   "name": "python",
   "nbconvert_exporter": "python",
   "pygments_lexer": "ipython3",
   "version": "3.8.8"
  }
 },
 "nbformat": 4,
 "nbformat_minor": 5
}
