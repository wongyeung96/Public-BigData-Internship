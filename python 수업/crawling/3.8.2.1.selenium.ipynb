{
 "cells": [
  {
   "cell_type": "markdown",
   "id": "3b90f623-5c13-42be-82c6-a5430c398aaf",
   "metadata": {},
   "source": [
    "### Selenium 설치"
   ]
  },
  {
   "cell_type": "code",
   "execution_count": 1,
   "id": "71701694-7507-4897-8042-3403d791ce8c",
   "metadata": {},
   "outputs": [
    {
     "name": "stdout",
     "output_type": "stream",
     "text": [
      "Collecting selenium\n",
      "  Downloading selenium-3.141.0-py2.py3-none-any.whl (904 kB)\n",
      "Requirement already satisfied: urllib3 in c:\\users\\user\\anaconda3\\lib\\site-packages (from selenium) (1.26.4)\n",
      "Installing collected packages: selenium\n",
      "Successfully installed selenium-3.141.0\n"
     ]
    }
   ],
   "source": [
    "!pip install selenium"
   ]
  },
  {
   "cell_type": "markdown",
   "id": "78ced32c-197c-4273-9e95-a019254047e1",
   "metadata": {},
   "source": [
    "### Selenium Standalone Server 다운로드\n",
    "- 크롬 브라우저 버전 확인 [메뉴] - [도움말] - [Chrome 정보]\n",
    "- 크롬 브라우저로 접속 https://www.selenium.dev/downloads/\n",
    "- ipynb 파일 위치에 다운로드"
   ]
  },
  {
   "cell_type": "markdown",
   "id": "930d95fd-deba-4ed1-9e9f-e1c58c46abe9",
   "metadata": {},
   "source": [
    "### Webdriver 다운로드\n",
    "- 브라우저 버전 확인 [메뉴] - [도움말] - [Chrome정보]\n",
    "- https://sites.google.com/a/chromium.org/chromedriver/downloads 접속하여 크롬 브라우저 버전에 맞는 웹 드라이버 다운로드 및 현재 디렉토리 다운로드"
   ]
  },
  {
   "cell_type": "markdown",
   "id": "b3d8c3c8-2c66-48a7-ba5a-339f76184044",
   "metadata": {},
   "source": [
    "### Webdriver 로드 및 브라우저 기동"
   ]
  },
  {
   "cell_type": "code",
   "execution_count": 43,
   "id": "0ec7cd75-199d-4ade-9954-64009bf97a3f",
   "metadata": {},
   "outputs": [],
   "source": [
    "from selenium.webdriver import Chrome\n",
    "import time\n",
    "import sqlite3\n",
    "from pandas.io import sql\n",
    "import os\n",
    "import pandas as pd"
   ]
  },
  {
   "cell_type": "code",
   "execution_count": 44,
   "id": "0b0c09f6-202a-4aca-95f8-bd6942c1cf0d",
   "metadata": {},
   "outputs": [],
   "source": [
    "from selenium import webdriver\n",
    "\n",
    "options = webdriver.ChromeOptions()\n",
    "options.add_argument(\"--start-maximized\"); # --start-maximized : 웹 브라우저의 크기를 최대화하는 명령어\n",
    "\n",
    "browser = webdriver.Chrome('chromedriver', options=options)"
   ]
  },
  {
   "cell_type": "code",
   "execution_count": 45,
   "id": "e28d108a-2a40-4ce2-8a9f-1e51b2f2bd4c",
   "metadata": {},
   "outputs": [],
   "source": [
    "browser.get('https://www.data.go.kr/')\n",
    "browser.implicitly_wait(5) # implicitly_wait : 잠깐 대기(로딩이 되기위해서)"
   ]
  },
  {
   "cell_type": "markdown",
   "id": "be285dd8-c1e0-4b62-b884-be9a26a90ce8",
   "metadata": {},
   "source": [
    "#### 로그인 하기"
   ]
  },
  {
   "cell_type": "code",
   "execution_count": 46,
   "id": "e09850ee-a816-4e7b-a9c5-b0e2823c6627",
   "metadata": {},
   "outputs": [],
   "source": [
    "browser.find_element_by_xpath('//*[@id=\"header\"]/div/div/div/div[2]/div/a[1]').click()\n",
    "browser.implicitly_wait(5)"
   ]
  },
  {
   "cell_type": "code",
   "execution_count": 47,
   "id": "147bf4ef-d262-4995-94c1-fa3a8a3b4fac",
   "metadata": {},
   "outputs": [],
   "source": [
    "browser.find_element_by_xpath('//*[@id=\"mberId\"]').send_keys('gyng12')  # ID"
   ]
  },
  {
   "cell_type": "code",
   "execution_count": 48,
   "id": "89021aab-ea22-488c-8977-8027b70780d8",
   "metadata": {},
   "outputs": [],
   "source": [
    "browser.find_element_by_xpath('//*[@id=\"pswrd\"]').send_keys('!rkekak12345') # PW"
   ]
  },
  {
   "cell_type": "code",
   "execution_count": 49,
   "id": "5ecbe3b1-4d29-4104-a7f6-4965b36f74a1",
   "metadata": {},
   "outputs": [],
   "source": [
    "browser.find_element_by_xpath('//*[@id=\"loginVo\"]/div[2]/div[2]/div[2]/div/div[1]/button').click()\n",
    "browser.implicitly_wait(5)"
   ]
  },
  {
   "cell_type": "markdown",
   "id": "3e598177-4a8f-4c35-9465-46718746b377",
   "metadata": {},
   "source": [
    "#### 팝업창 제거"
   ]
  },
  {
   "cell_type": "code",
   "execution_count": 50,
   "id": "217aa45f-b0c8-48cb-833a-34f68c7fde0f",
   "metadata": {},
   "outputs": [],
   "source": [
    "browser.find_element_by_xpath('//*[@id=\"layer_popup_info_0\"]/div[1]/a').click()\n",
    "browser.find_element_by_xpath('//*[@id=\"layer_popup_info_1\"]/div[1]/a').click()"
   ]
  },
  {
   "cell_type": "markdown",
   "id": "905cf34c-2b7f-416e-a36c-f2eff4cc3294",
   "metadata": {},
   "source": [
    "#### 정보공유 자료실 링크 클릭"
   ]
  },
  {
   "cell_type": "code",
   "execution_count": 51,
   "id": "d9bd7523-f9ed-4bb0-95c2-6882725c7cec",
   "metadata": {
    "tags": []
   },
   "outputs": [],
   "source": [
    "browser.find_element_by_xpath('//*[@id=\"M000400_pc\"]/a').click()   "
   ]
  },
  {
   "cell_type": "code",
   "execution_count": 52,
   "id": "d8579950-7008-4a4d-a467-6ce933cbb947",
   "metadata": {
    "tags": []
   },
   "outputs": [],
   "source": [
    "browser.find_element_by_xpath('//*[@id=\"M000402_pc\"]/a').click()"
   ]
  },
  {
   "cell_type": "markdown",
   "id": "2a21605c-3f6f-4006-bdc3-7054fa75608d",
   "metadata": {},
   "source": [
    "#### 정보공유 자료실 데이터 추출"
   ]
  },
  {
   "cell_type": "code",
   "execution_count": 53,
   "id": "08853ccc-52e4-4f12-96c4-0da8539b027f",
   "metadata": {},
   "outputs": [],
   "source": [
    "def db_save(ARTICLE_LIST):\n",
    "    with sqlite3.connect(os.path.join('.','sqliteDB')) as con: # sqlite DB 파일이 존재하지 않는 경우 파일생성\n",
    "        try:\n",
    "            ARTICLE_LIST.to_sql(name = 'ARTICLE_LIST', con = con, index = False, if_exists='append') \n",
    "            #if_exists : {'fail', 'replace', 'append'} default : fail\n",
    "        except Exception as e:\n",
    "            print(str(e))\n",
    "        print(len(ARTICLE_LIST), '건 저장완료..')"
   ]
  },
  {
   "cell_type": "markdown",
   "id": "4031020a-178c-4be3-a287-fb1f367b1db1",
   "metadata": {},
   "source": [
    "#### 자료실 데이터 추출 및 저장"
   ]
  },
  {
   "cell_type": "code",
   "execution_count": 54,
   "id": "88ef3362-f0a0-4859-af9e-348e4f232666",
   "metadata": {},
   "outputs": [
    {
     "name": "stdout",
     "output_type": "stream",
     "text": [
      "10 건 저장완료..\n"
     ]
    }
   ],
   "source": [
    "trs = browser.find_elements_by_xpath('//*[@id=\"searchVO\"]/div[5]/table/tbody/tr')\n",
    "df_list = []\n",
    "for tr in trs:\n",
    "    df = pd.DataFrame({\n",
    "            'NO': [tr.find_element_by_xpath('td[1]').text],\n",
    "            'TITLE': [tr.find_element_by_xpath('td[2]').text],\n",
    "            'IQRY': [tr.find_element_by_xpath('td[3]').text],\n",
    "            'REGDT': [tr.find_element_by_xpath('td[4]').text],\n",
    "            'CHGDT': [tr.find_element_by_xpath('td[5]').text],\n",
    "        })\n",
    "    df_list.append(df)\n",
    "    \n",
    "ARTICLE_LIST = pd.concat(df_list)\n",
    "db_save(ARTICLE_LIST)"
   ]
  },
  {
   "cell_type": "markdown",
   "id": "731fcc14-d494-4654-be74-ae5f3a8c4bca",
   "metadata": {},
   "source": [
    "#### 자료실 글목록 상세보기 클릭"
   ]
  },
  {
   "cell_type": "code",
   "execution_count": 55,
   "id": "959661b6-bfab-4178-9ebe-7fc501d9cfa2",
   "metadata": {},
   "outputs": [],
   "source": [
    "browser.find_element_by_xpath('//*[@id=\"searchVO\"]/div[5]/table/tbody/tr[1]/td[2]/a').click()\n",
    "browser.implicitly_wait(3)"
   ]
  },
  {
   "cell_type": "markdown",
   "id": "3bb0bf6e-ee6a-4e26-8f65-7fa6c6222c93",
   "metadata": {},
   "source": [
    "#### 상세보기 첨부파일 다운로드 및 브라우저 종료"
   ]
  },
  {
   "cell_type": "code",
   "execution_count": 56,
   "id": "a31d4673-f0e6-44f0-a137-97a93fb73879",
   "metadata": {},
   "outputs": [],
   "source": [
    "browser.find_element_by_xpath('//*[@id=\"recsroomDetail\"]/div[2]/div[4]/div/a').click()\n",
    "time.sleep(10)"
   ]
  },
  {
   "cell_type": "code",
   "execution_count": 57,
   "id": "06798581-0ac0-401a-af3c-f6b5f41cffed",
   "metadata": {},
   "outputs": [],
   "source": [
    "browser.quit() # 브라우저를 종료해주어야 한다."
   ]
  },
  {
   "cell_type": "code",
   "execution_count": null,
   "id": "22d73956-cff9-490e-af97-7d5ca5f54fd9",
   "metadata": {},
   "outputs": [],
   "source": []
  },
  {
   "cell_type": "code",
   "execution_count": null,
   "id": "e654d712-c715-4723-9a16-2b831d798f8d",
   "metadata": {},
   "outputs": [],
   "source": []
  }
 ],
 "metadata": {
  "kernelspec": {
   "display_name": "Python 3",
   "language": "python",
   "name": "python3"
  },
  "language_info": {
   "codemirror_mode": {
    "name": "ipython",
    "version": 3
   },
   "file_extension": ".py",
   "mimetype": "text/x-python",
   "name": "python",
   "nbconvert_exporter": "python",
   "pygments_lexer": "ipython3",
   "version": "3.8.8"
  }
 },
 "nbformat": 4,
 "nbformat_minor": 5
}
