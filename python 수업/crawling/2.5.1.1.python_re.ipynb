{
 "cells": [
  {
   "cell_type": "markdown",
   "id": "0b036593-aab0-4f67-9979-c40539e7df34",
   "metadata": {},
   "source": [
    "##### 정규식(Regular expressions, Regex 또는 Regexp)이란?\n",
    "\n",
    "특정 검색 패턴(ASCII 또는 유니코드 문자의 시쿼스)에 대한 하나 이상의 일치 항목을 검색\n",
    "\n",
    "검색된 텍스트로부터 정보를 추출하는데 매우 유용하게 사용가능한 표현식\n",
    "\n",
    "유효성 검사에서 문자열 파싱 및 대체, 데이터를 다른 형식으로 변환 및 웹 스크래핑에 이르기까지 다양한 응용분야에서 활용\n",
    "\n",
    "프로그래밍 언어(Python, Javascript, Java, VB, C#, C, C++ 등)와 텍스트 에디터(vi, UltraEditor, notepad++, Editplus 등)에 적용 가능"
   ]
  },
  {
   "cell_type": "code",
   "execution_count": null,
   "id": "ff93e1f7-1963-440f-9bff-1d8ca3c5e7bd",
   "metadata": {},
   "outputs": [],
   "source": []
  },
  {
   "cell_type": "code",
   "execution_count": 2,
   "id": "a39c1fab-5329-4698-89da-e62a4f476616",
   "metadata": {},
   "outputs": [],
   "source": [
    "import re"
   ]
  },
  {
   "cell_type": "code",
   "execution_count": 6,
   "id": "1de0dac5-35ae-4b05-9dfe-f23bbae92e7d",
   "metadata": {},
   "outputs": [
    {
     "data": {
      "text/plain": [
       "<re.Match object; span=(0, 3), match='abc'>"
      ]
     },
     "execution_count": 6,
     "metadata": {},
     "output_type": "execute_result"
    }
   ],
   "source": [
    "# re.search()함수를 사용하면 두 번째 매개변수의 문자열이 첫 번째 매개변수의 정규 표현식과 매칭되는지 확인 가능\n",
    "# 매칭되는 경우 Match 객체를 반환, 매칭되지 않는 경우 None을 반환\n",
    "re.search(r'a.*c', 'abc123DEF')"
   ]
  },
  {
   "cell_type": "code",
   "execution_count": 9,
   "id": "e6529576-38f5-44ed-99c9-a4229d79d560",
   "metadata": {},
   "outputs": [],
   "source": [
    "# 다음 예는 정규 표현식에 맞지 않으므로 None을 반환\n",
    "result = re.search(r'a.*D', 'abc123DEF')"
   ]
  },
  {
   "cell_type": "code",
   "execution_count": 20,
   "id": "4fbf5101-4790-4d25-b05f-191fb18daf34",
   "metadata": {},
   "outputs": [
    {
     "name": "stdout",
     "output_type": "stream",
     "text": [
      "0 7\n",
      "abc123DEF\n"
     ]
    }
   ],
   "source": [
    "start, end = result.span()\n",
    "print(start, end)\n",
    "print(result.string)"
   ]
  },
  {
   "cell_type": "code",
   "execution_count": 22,
   "id": "409bb1a0-3229-49af-9475-0ed04e38d224",
   "metadata": {},
   "outputs": [
    {
     "data": {
      "text/plain": [
       "<re.Match object; span=(0, 7), match='abc123D'>"
      ]
     },
     "execution_count": 22,
     "metadata": {},
     "output_type": "execute_result"
    }
   ],
   "source": [
    "# re.IGNORECASE(또는 re.I)를 지정하면 대소문자를 무시\n",
    "re.search(r'a.*d', 'abc123DEF', re.IGNORECASE)"
   ]
  },
  {
   "cell_type": "code",
   "execution_count": 25,
   "id": "ac7ae1b5-2c1c-4897-afc5-cfdfb3fbc795",
   "metadata": {},
   "outputs": [
    {
     "data": {
      "text/plain": [
       "'abc123DEFaddc'"
      ]
     },
     "execution_count": 25,
     "metadata": {},
     "output_type": "execute_result"
    }
   ],
   "source": [
    "# Match 객체의 group() 메서드로 일치한 값을 추출\n",
    "# 매개변수에 0을 지정하면 매치된 모든 값을 반환\n",
    "m = re.search(r'a(.*)c', 'abc123DEFaddc')\n",
    "m.group(0)"
   ]
  },
  {
   "cell_type": "code",
   "execution_count": 26,
   "id": "46d02dd7-7496-417b-9281-3e008bb3ad1a",
   "metadata": {},
   "outputs": [
    {
     "data": {
      "text/plain": [
       "'bc123DEFadd'"
      ]
     },
     "execution_count": 26,
     "metadata": {},
     "output_type": "execute_result"
    }
   ],
   "source": [
    "# 매개변수에 1 이상의 숫자를 지정하면 정규 표현식에서 0로 감싼 부분에 해당하는 값을 추출\n",
    "# 1이라면 1번째 그룹, 2라면 2번째 그룹 추출\n",
    "m.group(1)"
   ]
  },
  {
   "cell_type": "code",
   "execution_count": 29,
   "id": "3f856db3-0e06-4d57-b0ef-5cac8e75fd28",
   "metadata": {},
   "outputs": [
    {
     "data": {
      "text/plain": [
       "['Thi', 'is', 'pen']"
      ]
     },
     "execution_count": 29,
     "metadata": {},
     "output_type": "execute_result"
    }
   ],
   "source": [
    "# re.findall() 함수를 사용하면 정규 표현식에 맞는 모든 문자열을 리스트 타입으로 추출 가능\n",
    "# 다음 예에서는 2글자 이상의 단어를 모두 추출\n",
    "# \\w는 유니코드로 글자를 비교, 공백 문자는 \\s 등으로 추출할 수 있습니다.\n",
    "re.findall(r'\\w{2,3}', 'This is a pen')\n"
   ]
  },
  {
   "cell_type": "code",
   "execution_count": 30,
   "id": "24e286d6-2fb3-48d9-8f76-62f071095ff0",
   "metadata": {},
   "outputs": [
    {
     "data": {
      "text/plain": [
       "'That is a pen'"
      ]
     },
     "execution_count": 30,
     "metadata": {},
     "output_type": "execute_result"
    }
   ],
   "source": [
    "# re.subO()함수를 사용하면 정규 표현식에 매칭되는 문자열 치환\n",
    "# 3번째 매개변수에 넣은 문자열에서 첫 번째 정규 표현식에 매칭되는 문자열을 2번째 매개변수 문자열로 치환\n",
    "re.sub(r'\\w{4}', 'That', 'This is a pen')"
   ]
  },
  {
   "cell_type": "code",
   "execution_count": 20,
   "id": "34a0eb78-b38c-4e48-b1e2-e88e3280498a",
   "metadata": {},
   "outputs": [
    {
     "data": {
      "text/plain": [
       "<re.Match object; span=(1, 4), match='abc'>"
      ]
     },
     "execution_count": 20,
     "metadata": {},
     "output_type": "execute_result"
    }
   ],
   "source": [
    "result = re.search(r'a.*c', ' abc123DEF')\n",
    "result"
   ]
  },
  {
   "cell_type": "code",
   "execution_count": 33,
   "id": "2c281037-5005-4bea-89dc-bf18a724a361",
   "metadata": {},
   "outputs": [],
   "source": [
    "# match는 시작부터 일치하는지를 검사, search는 매칭되는 위치가 어디인지 탐색\n",
    "result = re.match(r'a.*c', 'abc123DEF')\n",
    "result"
   ]
  },
  {
   "cell_type": "code",
   "execution_count": null,
   "id": "b25753d0-0022-4d30-bcff-955ed01c2e78",
   "metadata": {},
   "outputs": [],
   "source": []
  }
 ],
 "metadata": {
  "kernelspec": {
   "display_name": "Python 3",
   "language": "python",
   "name": "python3"
  },
  "language_info": {
   "codemirror_mode": {
    "name": "ipython",
    "version": 3
   },
   "file_extension": ".py",
   "mimetype": "text/x-python",
   "name": "python",
   "nbconvert_exporter": "python",
   "pygments_lexer": "ipython3",
   "version": "3.8.8"
  }
 },
 "nbformat": 4,
 "nbformat_minor": 5
}
