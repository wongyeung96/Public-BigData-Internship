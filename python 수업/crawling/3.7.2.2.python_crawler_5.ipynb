{
 "cells": [
  {
   "cell_type": "markdown",
   "id": "ad552224-9cb3-4ac2-a57d-dbbd992879b5",
   "metadata": {},
   "source": [
    "- 목차에 포함돼 있는 공백을 제거할 수 있는 normalize_space() 함수 정의\n",
    "- List Comprehension 구문에 조건을 추가해서 빈 문자열을 제거"
   ]
  },
  {
   "cell_type": "code",
   "execution_count": 1,
   "id": "76ff66e0-21cb-44e0-9a2f-90406d958d6e",
   "metadata": {},
   "outputs": [],
   "source": [
    "import requests\n",
    "import lxml.html\n",
    "import re"
   ]
  },
  {
   "cell_type": "code",
   "execution_count": 2,
   "id": "2402eb91-f755-401b-8bfe-22dd31236124",
   "metadata": {},
   "outputs": [],
   "source": [
    "def main():\n",
    "    # 여러 페이지에서 크롤링을 위해 Session 사용\n",
    "    session = requests.Session()  \n",
    "    # scrape_list_page() 함수를 호출해서 제너레이터를 추출\n",
    "    response = session.get('http://www.hanbit.co.kr/store/books/new_book_list.html')\n",
    "    urls = scrape_list_page(response)\n",
    "    for url in urls:\n",
    "        response = session.get(url)  # Session을 사용해 상세 페이지를 추출\n",
    "        ebook = scrape_detail_page(response)  # 상세 페이지에서 상세 정보를 추출\n",
    "        print(ebook)  # 상세 정보 출력\n",
    "        break  "
   ]
  },
  {
   "cell_type": "code",
   "execution_count": 3,
   "id": "43148815-3c0a-4301-9f77-473dff83c0be",
   "metadata": {},
   "outputs": [],
   "source": [
    "def scrape_list_page(response):\n",
    "    root = lxml.html.fromstring(response.content)\n",
    "    root.make_links_absolute(response.url)\n",
    "    for a in root.cssselect('.view_box .book_tit a'):\n",
    "        url = a.get('href')\n",
    "        yield url"
   ]
  },
  {
   "cell_type": "code",
   "execution_count": 4,
   "id": "b81253ab-8035-46e7-a6f1-6d41bf2b3876",
   "metadata": {},
   "outputs": [],
   "source": [
    "def scrape_detail_page(response):\n",
    "    \"\"\"\n",
    "    상세 페이지의 Response에서 책 정보를 dict로 추출\n",
    "    \"\"\"\n",
    "    root = lxml.html.fromstring(response.content)\n",
    "    ebook = {\n",
    "        'url': response.url,\n",
    "        'title': root.cssselect('.store_product_info_box h3')[0].text_content(),\n",
    "        'price': root.cssselect('.pbr strong')[0].text_content(),\n",
    "        'content': [normalize_spaces(p.text_content())\n",
    "            for p in root.cssselect('#tabs_3 .hanbit_edit_view p')\n",
    "            if normalize_spaces(p.text_content()) != '']\n",
    "    }\n",
    "    return ebook"
   ]
  },
  {
   "cell_type": "code",
   "execution_count": 5,
   "id": "41ac1dbe-614c-4e49-88a1-d71bfcd3106a",
   "metadata": {},
   "outputs": [],
   "source": [
    "def normalize_spaces(s):\n",
    "    \"\"\"\n",
    "    연결된 공백을 하나의 공백으로 변경\n",
    "    \"\"\"\n",
    "    return re.sub(r'\\s+', ' ', s).strip()"
   ]
  },
  {
   "cell_type": "code",
   "execution_count": 6,
   "id": "e72cf223-001f-4e2a-a900-e028d2f7fc29",
   "metadata": {},
   "outputs": [
    {
     "name": "stdout",
     "output_type": "stream",
     "text": [
      "{'url': 'https://www.hanbit.co.kr/store/books/look.php?p_code=B7623190015', 'title': '최신 관리회계', 'price': '28,000', 'content': ['1부 관리회계시스템', '1장 관리회계', '1절 관리회계의 개념', '2절 경영과 관리회계', '3절 회계정보시스템', '2장 관리회계시스템(MAS)', '1절 관리회계와 의사결정', '2절 관리회계시스템의 특성', '3절 관리회계시스템의 활용', '3장 원가관리', '1절 원가 분류', '2절 회계모형의 가격결정', '3절 대체가격', '2부 원가분석', '4장 이익계획', '1절 원가기획', '2절 원가추정', '3절 이익계획과 손익분기점', '5장 원가－조업도－이익분석(CVP분석)', '1절 CVP분석 개념', '2절 CVP분석 방법', '3절 CVP분석 활용', '보론 매출배합분석', '6장 관리원가', '1절 목표원가계산', '2절 품질원가계산', '3절 수명주기원가계산', '7장 예산관리', '1절 변동원가계산', '2절 종합예산', '3절 종합예산편성 사례', '3부 의사결정', '8장 균형성과표', '1절 균형성과표의 본질', '2절 핵심성과지표(KPI)', '3절 균형성과표 적용 사례', '9장 단기의사결정', '1절 관련원가', '2절 의사결정 방법', '3절 유형별 단기의사결정', '10장 자본예산', '1절 자본예산분석', '2절 자본예산모형', '3절 순현재가치법과 내부수익률법', '11장 불확실성 하의 의사결정', '1절 의사결정과 불확실성', '2절 불확실성 하의 의사결정기준', '3절 정보의 가치평가', '4부 전략적 관리회계', '12장 경제적 부가가치(EVA)', '1절 기업가치', '2절 기업가치평가', '3절 EVA 경영', '13장 책임회계와 성과평가', '1절 책임회계', '2절 책임중심점 성과평가', '3절 성과평가와 보상', '14장 관리회계분석', '1절 SWOT 분석', '2절 게임이론', '3절 협상이론', '부록', '<부표 1> 복리이자 요소', '<부표 2> 연금의 복리이자 요소', '<부표 3> 현가이자 요소', '<부표 4> 현금의 현가이자 요소', '<부표 5> 정규분포표', '찾아보기']}\n"
     ]
    }
   ],
   "source": [
    "if __name__ == '__main__':\n",
    "    main()"
   ]
  },
  {
   "cell_type": "code",
   "execution_count": null,
   "id": "b2187ef6-a8b2-4367-b2fb-c3d823b6dca9",
   "metadata": {},
   "outputs": [],
   "source": []
  }
 ],
 "metadata": {
  "kernelspec": {
   "display_name": "Python 3",
   "language": "python",
   "name": "python3"
  },
  "language_info": {
   "codemirror_mode": {
    "name": "ipython",
    "version": 3
   },
   "file_extension": ".py",
   "mimetype": "text/x-python",
   "name": "python",
   "nbconvert_exporter": "python",
   "pygments_lexer": "ipython3",
   "version": "3.8.8"
  }
 },
 "nbformat": 4,
 "nbformat_minor": 5
}
