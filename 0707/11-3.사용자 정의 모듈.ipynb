{
 "cells": [
  {
   "cell_type": "code",
   "execution_count": 3,
   "id": "289bf973-07f6-456c-b738-7bfc7485cb60",
   "metadata": {},
   "outputs": [],
   "source": [
    "st = \"Hello World Python\""
   ]
  },
  {
   "cell_type": "code",
   "execution_count": 2,
   "id": "a0f2c674-0e05-43b8-8b6b-bc55e48210ec",
   "metadata": {},
   "outputs": [],
   "source": [
    "import myprint"
   ]
  },
  {
   "cell_type": "code",
   "execution_count": 4,
   "id": "20f029e6-0e6c-4a5a-9a13-1c758e4edc51",
   "metadata": {},
   "outputs": [
    {
     "name": "stdout",
     "output_type": "stream",
     "text": [
      "**************************************************\n",
      "Hello World Python\n",
      "**************************************************\n"
     ]
    }
   ],
   "source": [
    "myprint.print1(st)"
   ]
  },
  {
   "cell_type": "code",
   "execution_count": 6,
   "id": "a66b62c1-e437-4367-b8e7-8b30f354e3dc",
   "metadata": {},
   "outputs": [
    {
     "name": "stdout",
     "output_type": "stream",
     "text": [
      "--------------------------------------------------\n",
      "Hello World Python\n",
      "--------------------------------------------------\n"
     ]
    }
   ],
   "source": [
    "myprint.print2(st)"
   ]
  },
  {
   "cell_type": "code",
   "execution_count": 7,
   "id": "050d0d5d-b25e-49a9-9b27-29dd2deac742",
   "metadata": {},
   "outputs": [],
   "source": [
    "from mymodule import myprint2"
   ]
  },
  {
   "cell_type": "code",
   "execution_count": 8,
   "id": "1aece6bf-d274-4f80-99c8-439b206f61d1",
   "metadata": {},
   "outputs": [
    {
     "name": "stdout",
     "output_type": "stream",
     "text": [
      "**************************************************\n",
      "Hello World Python\n",
      "--------------------------------------------------\n"
     ]
    }
   ],
   "source": [
    "myprint2.print3(st)"
   ]
  },
  {
   "cell_type": "code",
   "execution_count": 9,
   "id": "c4a4d7aa-47f7-4ff1-9f46-9e430a4c91eb",
   "metadata": {},
   "outputs": [
    {
     "name": "stdout",
     "output_type": "stream",
     "text": [
      "--------------------------------------------------\n",
      "Hello World Python\n",
      "**************************************************\n"
     ]
    }
   ],
   "source": [
    "myprint2.print4(st)"
   ]
  }
 ],
 "metadata": {
  "kernelspec": {
   "display_name": "Python 3",
   "language": "python",
   "name": "python3"
  },
  "language_info": {
   "codemirror_mode": {
    "name": "ipython",
    "version": 3
   },
   "file_extension": ".py",
   "mimetype": "text/x-python",
   "name": "python",
   "nbconvert_exporter": "python",
   "pygments_lexer": "ipython3",
   "version": "3.8.8"
  }
 },
 "nbformat": 4,
 "nbformat_minor": 5
}
