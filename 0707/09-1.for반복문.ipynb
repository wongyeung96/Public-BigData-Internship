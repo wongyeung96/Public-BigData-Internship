{
 "cells": [
  {
   "cell_type": "markdown",
   "id": "94e960ae-0793-4a89-8b11-c2e5fb8b2b65",
   "metadata": {},
   "source": [
    "### for 반복문"
   ]
  },
  {
   "cell_type": "code",
   "execution_count": 1,
   "id": "b2bf3099-13dc-4dfa-b11d-4efe801c0e46",
   "metadata": {},
   "outputs": [
    {
     "name": "stdout",
     "output_type": "stream",
     "text": [
      "1\n",
      "2\n",
      "3\n"
     ]
    }
   ],
   "source": [
    "for num in [1,2,3]:\n",
    "    print(num)"
   ]
  },
  {
   "cell_type": "code",
   "execution_count": 2,
   "id": "cc64e7eb-ec03-4d54-be55-b10d4e445b9d",
   "metadata": {},
   "outputs": [
    {
     "name": "stdout",
     "output_type": "stream",
     "text": [
      "Hello\n",
      "World\n",
      "Python\n"
     ]
    }
   ],
   "source": [
    "for st in [\"Hello\",\"World\",\"Python\"]:\n",
    "    print(st)"
   ]
  },
  {
   "cell_type": "code",
   "execution_count": 3,
   "id": "347c40cc-01f4-4a58-b70f-533ba9330da1",
   "metadata": {},
   "outputs": [],
   "source": [
    "score  = {\"국어\":95,\"영어\":90,\"수학\":80}"
   ]
  },
  {
   "cell_type": "code",
   "execution_count": 4,
   "id": "1e22c611-ac05-4e3c-ad27-e9a12c45c18a",
   "metadata": {},
   "outputs": [
    {
     "name": "stdout",
     "output_type": "stream",
     "text": [
      "국어\n",
      "영어\n",
      "수학\n"
     ]
    }
   ],
   "source": [
    "for item in score.keys():\n",
    "    print(item)"
   ]
  },
  {
   "cell_type": "code",
   "execution_count": 5,
   "id": "49beaa5e-b652-4119-9403-4fa16877427b",
   "metadata": {},
   "outputs": [
    {
     "name": "stdout",
     "output_type": "stream",
     "text": [
      "95\n",
      "90\n",
      "80\n"
     ]
    }
   ],
   "source": [
    "for item in score.values():\n",
    "    print(item)"
   ]
  },
  {
   "cell_type": "code",
   "execution_count": 6,
   "id": "810366d2-54c8-4570-aacf-6d125f3d1cd7",
   "metadata": {},
   "outputs": [
    {
     "name": "stdout",
     "output_type": "stream",
     "text": [
      "국어과목 점수는 95점 입니다\n",
      "영어과목 점수는 90점 입니다\n",
      "수학과목 점수는 80점 입니다\n"
     ]
    }
   ],
   "source": [
    "for key,value in score.items():\n",
    "    print(f\"{key}과목 점수는 {value}점 입니다\")"
   ]
  },
  {
   "cell_type": "markdown",
   "id": "e0316ff6-6377-48bd-945d-82cc5891c905",
   "metadata": {},
   "source": [
    "### Range함수"
   ]
  },
  {
   "cell_type": "code",
   "execution_count": 7,
   "id": "dcfed180-55d0-4ef9-904e-795ec979ddb6",
   "metadata": {},
   "outputs": [
    {
     "data": {
      "text/plain": [
       "[0, 1, 2, 3, 4, 5, 6, 7, 8, 9]"
      ]
     },
     "execution_count": 7,
     "metadata": {},
     "output_type": "execute_result"
    }
   ],
   "source": [
    "list(range(10))"
   ]
  },
  {
   "cell_type": "code",
   "execution_count": 8,
   "id": "50449b90-79e4-4b09-85aa-8006968b8fc6",
   "metadata": {},
   "outputs": [
    {
     "data": {
      "text/plain": [
       "[1, 2, 3, 4, 5, 6, 7, 8, 9, 10]"
      ]
     },
     "execution_count": 8,
     "metadata": {},
     "output_type": "execute_result"
    }
   ],
   "source": [
    "list(range(1,11))"
   ]
  },
  {
   "cell_type": "code",
   "execution_count": 9,
   "id": "5a6523d6-d626-4077-8a09-27147313072f",
   "metadata": {},
   "outputs": [
    {
     "data": {
      "text/plain": [
       "[10, 9, 8, 7, 6, 5, 4, 3, 2, 1]"
      ]
     },
     "execution_count": 9,
     "metadata": {},
     "output_type": "execute_result"
    }
   ],
   "source": [
    "list(range(10,0,-1))"
   ]
  },
  {
   "cell_type": "code",
   "execution_count": 10,
   "id": "7ff821ca-9beb-41da-8b16-5dd547991765",
   "metadata": {},
   "outputs": [
    {
     "name": "stdout",
     "output_type": "stream",
     "text": [
      "1\n",
      "3\n",
      "5\n",
      "7\n",
      "9\n"
     ]
    }
   ],
   "source": [
    "for i in range(1,11,2):\n",
    "    print(i)"
   ]
  },
  {
   "cell_type": "code",
   "execution_count": 11,
   "id": "bfc0fc8b-e275-477b-bb66-3bdc2a5fbc77",
   "metadata": {},
   "outputs": [
    {
     "name": "stdout",
     "output_type": "stream",
     "text": [
      "0\n",
      "2\n",
      "4\n",
      "6\n",
      "8\n",
      "10\n"
     ]
    }
   ],
   "source": [
    "for i in range(0,11,2):\n",
    "    print(i)"
   ]
  },
  {
   "cell_type": "markdown",
   "id": "a7924fac-f3d9-4c6d-88ef-f6a1f3b5c9fd",
   "metadata": {},
   "source": [
    "### for 반복문과 else구문"
   ]
  },
  {
   "cell_type": "code",
   "execution_count": 13,
   "id": "c103cb83-3760-4e35-9f97-210f84a30615",
   "metadata": {},
   "outputs": [
    {
     "name": "stdout",
     "output_type": "stream",
     "text": [
      "2 X 1 = 2\n",
      "2 X 2 = 4\n",
      "2 X 3 = 6\n",
      "2 X 4 = 8\n",
      "2 X 5 = 10\n",
      "2 X 6 = 12\n",
      "2 X 7 = 14\n",
      "2 X 8 = 16\n",
      "2 X 9 = 18\n",
      "구구단 2단을 종료합니다.\n"
     ]
    }
   ],
   "source": [
    "for i in range(1,10):\n",
    "    ans = 2 * i\n",
    "    print(f\"2 X {i} = {ans}\")\n",
    "else:\n",
    "    print(\"구구단 2단을 종료합니다.\")"
   ]
  },
  {
   "cell_type": "code",
   "execution_count": null,
   "id": "75dd33e5-d6b4-48d4-b1db-a7b55f939317",
   "metadata": {},
   "outputs": [],
   "source": []
  }
 ],
 "metadata": {
  "kernelspec": {
   "display_name": "Python 3",
   "language": "python",
   "name": "python3"
  },
  "language_info": {
   "codemirror_mode": {
    "name": "ipython",
    "version": 3
   },
   "file_extension": ".py",
   "mimetype": "text/x-python",
   "name": "python",
   "nbconvert_exporter": "python",
   "pygments_lexer": "ipython3",
   "version": "3.8.8"
  }
 },
 "nbformat": 4,
 "nbformat_minor": 5
}
