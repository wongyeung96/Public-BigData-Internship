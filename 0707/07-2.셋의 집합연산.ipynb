{
 "cells": [
  {
   "cell_type": "code",
   "execution_count": 1,
   "id": "59f6ced8-ba51-4cc0-85ee-8c49fc295c20",
   "metadata": {},
   "outputs": [],
   "source": [
    "set1 = {\"A\",\"B\",\"C\",\"D\",\"E\",\"F\"}\n",
    "set2 = {\"B\",\"D\",\"G\",\"H\"}"
   ]
  },
  {
   "cell_type": "markdown",
   "id": "4e6f3acb-0fe5-4a6f-b09d-d90a7cc07153",
   "metadata": {},
   "source": [
    "### 교집합"
   ]
  },
  {
   "cell_type": "code",
   "execution_count": 2,
   "id": "5be6733e-b4e7-4b9a-adb7-ab6f90e594f4",
   "metadata": {},
   "outputs": [
    {
     "data": {
      "text/plain": [
       "{'B', 'D'}"
      ]
     },
     "execution_count": 2,
     "metadata": {},
     "output_type": "execute_result"
    }
   ],
   "source": [
    "set1 & set2"
   ]
  },
  {
   "cell_type": "code",
   "execution_count": 3,
   "id": "72c78866-824e-4075-a4c3-d2b7a9e05978",
   "metadata": {},
   "outputs": [
    {
     "data": {
      "text/plain": [
       "{'B', 'D'}"
      ]
     },
     "execution_count": 3,
     "metadata": {},
     "output_type": "execute_result"
    }
   ],
   "source": [
    "set1.intersection(set2)"
   ]
  },
  {
   "cell_type": "markdown",
   "id": "2656e76e-7c6a-4479-af70-723f23bc0e4e",
   "metadata": {},
   "source": [
    "### 합집합"
   ]
  },
  {
   "cell_type": "code",
   "execution_count": 4,
   "id": "56c91e3c-0173-473b-8662-e86fc50dd7b9",
   "metadata": {},
   "outputs": [
    {
     "data": {
      "text/plain": [
       "{'A', 'B', 'C', 'D', 'E', 'F', 'G', 'H'}"
      ]
     },
     "execution_count": 4,
     "metadata": {},
     "output_type": "execute_result"
    }
   ],
   "source": [
    "set1 | set2"
   ]
  },
  {
   "cell_type": "code",
   "execution_count": 5,
   "id": "604eb54c-3acd-4055-bad8-438b413fcb80",
   "metadata": {},
   "outputs": [
    {
     "data": {
      "text/plain": [
       "{'A', 'B', 'C', 'D', 'E', 'F', 'G', 'H'}"
      ]
     },
     "execution_count": 5,
     "metadata": {},
     "output_type": "execute_result"
    }
   ],
   "source": [
    "set1.union(set2)"
   ]
  },
  {
   "cell_type": "markdown",
   "id": "9c3f8663-1d3c-4d94-8c78-1858b1ad81c2",
   "metadata": {},
   "source": [
    "### 차집합"
   ]
  },
  {
   "cell_type": "code",
   "execution_count": 6,
   "id": "c6ca37ae-fda8-43e5-8fe6-0aa7d26293d2",
   "metadata": {},
   "outputs": [
    {
     "data": {
      "text/plain": [
       "{'A', 'C', 'E', 'F'}"
      ]
     },
     "execution_count": 6,
     "metadata": {},
     "output_type": "execute_result"
    }
   ],
   "source": [
    "set1 - set2"
   ]
  },
  {
   "cell_type": "code",
   "execution_count": 7,
   "id": "88d9f299-52cf-45f4-9a54-ea1affdf09c2",
   "metadata": {},
   "outputs": [
    {
     "data": {
      "text/plain": [
       "{'A', 'C', 'E', 'F'}"
      ]
     },
     "execution_count": 7,
     "metadata": {},
     "output_type": "execute_result"
    }
   ],
   "source": [
    "set1.difference(set2)"
   ]
  },
  {
   "cell_type": "markdown",
   "id": "203be7ef-fe96-4178-991a-a2e01299df89",
   "metadata": {},
   "source": [
    "### 파이썬 셋의 대칭 차집합 연산"
   ]
  },
  {
   "cell_type": "code",
   "execution_count": 8,
   "id": "3716845f-372a-48fc-8359-34f05efbfbff",
   "metadata": {},
   "outputs": [
    {
     "data": {
      "text/plain": [
       "{'A', 'C', 'E', 'F', 'G', 'H'}"
      ]
     },
     "execution_count": 8,
     "metadata": {},
     "output_type": "execute_result"
    }
   ],
   "source": [
    "set1 ^ set2"
   ]
  },
  {
   "cell_type": "code",
   "execution_count": 9,
   "id": "30c0a92d-e058-4de8-9bcd-041bf1f37b15",
   "metadata": {},
   "outputs": [
    {
     "data": {
      "text/plain": [
       "{'A', 'C', 'E', 'F', 'G', 'H'}"
      ]
     },
     "execution_count": 9,
     "metadata": {},
     "output_type": "execute_result"
    }
   ],
   "source": [
    "set1.symmetric_difference(set2)"
   ]
  },
  {
   "cell_type": "code",
   "execution_count": null,
   "id": "e6642f80-d682-4c41-b088-e790d6352920",
   "metadata": {},
   "outputs": [],
   "source": []
  }
 ],
 "metadata": {
  "kernelspec": {
   "display_name": "Python 3",
   "language": "python",
   "name": "python3"
  },
  "language_info": {
   "codemirror_mode": {
    "name": "ipython",
    "version": 3
   },
   "file_extension": ".py",
   "mimetype": "text/x-python",
   "name": "python",
   "nbconvert_exporter": "python",
   "pygments_lexer": "ipython3",
   "version": "3.8.8"
  }
 },
 "nbformat": 4,
 "nbformat_minor": 5
}
