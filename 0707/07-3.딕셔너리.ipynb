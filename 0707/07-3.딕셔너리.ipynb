{
 "cells": [
  {
   "cell_type": "markdown",
   "id": "3042df58-847f-4800-85c1-9ec81379627c",
   "metadata": {},
   "source": [
    "### 파이썬 딕셔너리(dict)"
   ]
  },
  {
   "cell_type": "code",
   "execution_count": 1,
   "id": "290f1563-ffa7-466e-bd3b-c2378f1d1b94",
   "metadata": {},
   "outputs": [
    {
     "data": {
      "text/plain": [
       "{'수학': 100, '영어': 90}"
      ]
     },
     "execution_count": 1,
     "metadata": {},
     "output_type": "execute_result"
    }
   ],
   "source": [
    "중간고사 = {\n",
    "    \"수학\":100,\n",
    "    \"영어\":90\n",
    "}\n",
    "\n",
    "중간고사"
   ]
  },
  {
   "cell_type": "markdown",
   "id": "aaca7f85-f4b6-4855-85a1-0cb9d0873d00",
   "metadata": {},
   "source": [
    "### 파이썬 딕셔너리(dict) 원소 추가"
   ]
  },
  {
   "cell_type": "code",
   "execution_count": 2,
   "id": "dcd49d5f-f88d-47a4-a608-fe7c91741ff0",
   "metadata": {},
   "outputs": [
    {
     "data": {
      "text/plain": [
       "{'수학': 100, '영어': 90, '국어': 85}"
      ]
     },
     "execution_count": 2,
     "metadata": {},
     "output_type": "execute_result"
    }
   ],
   "source": [
    "중간고사['국어']= 85\n",
    "중간고사"
   ]
  },
  {
   "cell_type": "code",
   "execution_count": 3,
   "id": "04c31585-ad0e-4fd8-905d-d2c35774462d",
   "metadata": {},
   "outputs": [
    {
     "data": {
      "text/plain": [
       "90"
      ]
     },
     "execution_count": 3,
     "metadata": {},
     "output_type": "execute_result"
    }
   ],
   "source": [
    "중간고사['영어']"
   ]
  },
  {
   "cell_type": "code",
   "execution_count": 4,
   "id": "c1d5e0fa-ab2f-4369-b6ef-10016859047a",
   "metadata": {},
   "outputs": [
    {
     "data": {
      "text/plain": [
       "{'수학': 100, '영어': 95, '국어': 85}"
      ]
     },
     "execution_count": 4,
     "metadata": {},
     "output_type": "execute_result"
    }
   ],
   "source": [
    "중간고사[\"영어\"] = 95\n",
    "중간고사"
   ]
  },
  {
   "cell_type": "markdown",
   "id": "4241f9f8-2c45-48e6-b15b-3fae0548d0b7",
   "metadata": {},
   "source": [
    "### 파이썬 딕셔너리(dict) keys()와 values(), items()함수"
   ]
  },
  {
   "cell_type": "code",
   "execution_count": 5,
   "id": "8a2d9d24-9389-4180-bc43-96da58340326",
   "metadata": {},
   "outputs": [
    {
     "data": {
      "text/plain": [
       "['수학', '영어', '국어']"
      ]
     },
     "execution_count": 5,
     "metadata": {},
     "output_type": "execute_result"
    }
   ],
   "source": [
    "list(중간고사.keys())"
   ]
  },
  {
   "cell_type": "code",
   "execution_count": 6,
   "id": "92bb8868-113d-4fde-850e-0996dc0076f5",
   "metadata": {},
   "outputs": [
    {
     "data": {
      "text/plain": [
       "[100, 95, 85]"
      ]
     },
     "execution_count": 6,
     "metadata": {},
     "output_type": "execute_result"
    }
   ],
   "source": [
    "list(중간고사.values())"
   ]
  },
  {
   "cell_type": "code",
   "execution_count": 7,
   "id": "e65b5459-b87b-48cc-829d-19f71bd7cc99",
   "metadata": {},
   "outputs": [
    {
     "data": {
      "text/plain": [
       "dict_items([('수학', 100), ('영어', 95), ('국어', 85)])"
      ]
     },
     "execution_count": 7,
     "metadata": {},
     "output_type": "execute_result"
    }
   ],
   "source": [
    "중간고사.items()"
   ]
  },
  {
   "cell_type": "markdown",
   "id": "09f8903a-0efd-4cdd-9b80-f16e79304e38",
   "metadata": {},
   "source": [
    "### 파이썬 딕셔너리(dict) 원소 삭제"
   ]
  },
  {
   "cell_type": "code",
   "execution_count": 8,
   "id": "fa778e00-45e8-4b26-b5ed-d473e8970e8a",
   "metadata": {},
   "outputs": [
    {
     "data": {
      "text/plain": [
       "85"
      ]
     },
     "execution_count": 8,
     "metadata": {},
     "output_type": "execute_result"
    }
   ],
   "source": [
    "중간고사.pop('국어')"
   ]
  },
  {
   "cell_type": "code",
   "execution_count": 11,
   "id": "b593606c-8f9b-492b-9b2d-c5692c981db6",
   "metadata": {},
   "outputs": [
    {
     "data": {
      "text/plain": [
       "{'수학': 100, '영어': 95}"
      ]
     },
     "execution_count": 11,
     "metadata": {},
     "output_type": "execute_result"
    }
   ],
   "source": [
    "중간고사"
   ]
  }
 ],
 "metadata": {
  "kernelspec": {
   "display_name": "Python 3",
   "language": "python",
   "name": "python3"
  },
  "language_info": {
   "codemirror_mode": {
    "name": "ipython",
    "version": 3
   },
   "file_extension": ".py",
   "mimetype": "text/x-python",
   "name": "python",
   "nbconvert_exporter": "python",
   "pygments_lexer": "ipython3",
   "version": "3.8.8"
  }
 },
 "nbformat": 4,
 "nbformat_minor": 5
}
