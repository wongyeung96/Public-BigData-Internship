{
 "cells": [
  {
   "cell_type": "code",
   "execution_count": null,
   "id": "7b66c02f-36a2-455a-99c5-0a553cf8714c",
   "metadata": {},
   "outputs": [],
   "source": []
  },
  {
   "cell_type": "code",
   "execution_count": 2,
   "id": "0da12c9a-823b-4dc1-826e-5cbd1530c8e3",
   "metadata": {},
   "outputs": [],
   "source": [
    "fr = open(\"12-1. hello.txt\",'r')"
   ]
  },
  {
   "cell_type": "code",
   "execution_count": 3,
   "id": "06a76d6c-0d4a-4050-9c1a-a10c539c84e9",
   "metadata": {},
   "outputs": [
    {
     "name": "stdout",
     "output_type": "stream",
     "text": [
      "Hello World Python!!!\n",
      "\n",
      "Welcome to Python World!!!\n"
     ]
    }
   ],
   "source": [
    "for line in fr:\n",
    "    print(line)"
   ]
  },
  {
   "cell_type": "code",
   "execution_count": 4,
   "id": "8fdf3bb5-f3b4-45d1-b54b-1cd5fb4622fd",
   "metadata": {},
   "outputs": [],
   "source": [
    "fr.close()"
   ]
  },
  {
   "cell_type": "markdown",
   "id": "d309a8c5-ff81-4362-8bf1-3c462e9a12b2",
   "metadata": {},
   "source": [
    "### 파이썬 파일 읽기 - with 구문"
   ]
  },
  {
   "cell_type": "code",
   "execution_count": 5,
   "id": "649b53b6-7284-40ce-9df6-0ca43db17926",
   "metadata": {},
   "outputs": [
    {
     "name": "stdout",
     "output_type": "stream",
     "text": [
      "Hello World Python!!!\n",
      "\n",
      "Welcome to Python World!!!\n"
     ]
    }
   ],
   "source": [
    "with open(\"./12-1. hello.txt\",\"r\") as fr:\n",
    "    for line in fr:\n",
    "        print(line)"
   ]
  },
  {
   "cell_type": "code",
   "execution_count": null,
   "id": "c165e4f0-84f5-4346-8eac-958ced7fa787",
   "metadata": {},
   "outputs": [],
   "source": []
  },
  {
   "cell_type": "code",
   "execution_count": 26,
   "id": "78e1f626-c5aa-4d77-8bea-817d811a8632",
   "metadata": {},
   "outputs": [],
   "source": [
    "fw = open(\"hello_write.txt\",'w')"
   ]
  },
  {
   "cell_type": "code",
   "execution_count": 27,
   "id": "f996bc23-9439-4686-af5f-6e29132e0f30",
   "metadata": {},
   "outputs": [
    {
     "data": {
      "text/plain": [
       "22"
      ]
     },
     "execution_count": 27,
     "metadata": {},
     "output_type": "execute_result"
    }
   ],
   "source": [
    "fw.write('Hello World Python!!!\\n')"
   ]
  },
  {
   "cell_type": "code",
   "execution_count": 28,
   "id": "b2f2e122-b35f-4063-afed-a37cab55f8e2",
   "metadata": {},
   "outputs": [
    {
     "data": {
      "text/plain": [
       "26"
      ]
     },
     "execution_count": 28,
     "metadata": {},
     "output_type": "execute_result"
    }
   ],
   "source": [
    "fw.write('Welcome to Python World!!!')"
   ]
  },
  {
   "cell_type": "code",
   "execution_count": 29,
   "id": "d5f6ccae-dee2-4661-9e45-17dcbe9af1c3",
   "metadata": {},
   "outputs": [],
   "source": [
    "fw.close()"
   ]
  },
  {
   "cell_type": "code",
   "execution_count": null,
   "id": "dc595e78-fc9d-41b6-b76c-fd4d1cf32a03",
   "metadata": {},
   "outputs": [],
   "source": []
  },
  {
   "cell_type": "code",
   "execution_count": 30,
   "id": "9ff7fb56-c4db-42f9-8200-95c2e15b9513",
   "metadata": {
    "tags": []
   },
   "outputs": [],
   "source": [
    "with open(\"hello_write1.txt\",'x') as fw:\n",
    "    fw.write('Hello World Python!!!\\n')\n",
    "    fw.write('Welcome to Python World!!!\\n')"
   ]
  },
  {
   "cell_type": "code",
   "execution_count": null,
   "id": "6140b838-3160-4cee-8d46-4b41f5a2bdf3",
   "metadata": {},
   "outputs": [],
   "source": []
  },
  {
   "cell_type": "code",
   "execution_count": 31,
   "id": "119f5968-dc1b-40d3-b5cd-45e9879eb504",
   "metadata": {},
   "outputs": [],
   "source": [
    "with open(\"hello_write1.txt\",'a') as fw:\n",
    "    fw.write('New line append!!!')"
   ]
  },
  {
   "cell_type": "code",
   "execution_count": null,
   "id": "11f0f9bb-16a5-4263-b396-99bdb26e2757",
   "metadata": {},
   "outputs": [],
   "source": []
  },
  {
   "cell_type": "code",
   "execution_count": 20,
   "id": "d0db82f9-d23f-428c-b35b-606a035811ee",
   "metadata": {},
   "outputs": [],
   "source": [
    "import os"
   ]
  },
  {
   "cell_type": "code",
   "execution_count": 21,
   "id": "f80e9240-e4b1-46c8-9ea3-75d66d23c43b",
   "metadata": {},
   "outputs": [
    {
     "data": {
      "text/plain": [
       "['(4반)김원경_4256',\n",
       " '.ipynb_checkpoints',\n",
       " '07-1.셋.ipynb',\n",
       " '07-2.셋의 집합연산.ipynb',\n",
       " '07-3.딕셔너리.ipynb',\n",
       " '08-1.비교논리연산자.ipynb',\n",
       " '08-2.조건문.ipynb',\n",
       " '08-3중첩 복합 조건문.ipynb',\n",
       " '09-1.for반복문.ipynb',\n",
       " '09-2.while 반복문.ipynb',\n",
       " '09-3.리스트 컴프리헨션.ipynb',\n",
       " '10-2.사용자정의 함수.ipynb',\n",
       " '10-3.함수의 매개변수.ipynb',\n",
       " '11-2.파이썬 모듈 활용.ipynb',\n",
       " '11-3.사용자 정의 모듈.ipynb',\n",
       " '12-1. hello.txt',\n",
       " '12-1.파일 읽기.ipynb',\n",
       " '12-2.파일 출력.ipynb',\n",
       " '12-3.파일시스템.ipynb',\n",
       " 'hello_write.txt',\n",
       " 'hello_write1.txt',\n",
       " 'mymodule',\n",
       " 'myprint.ipynb',\n",
       " 'myprint.py',\n",
       " 'myprint2.ipynb']"
      ]
     },
     "execution_count": 21,
     "metadata": {},
     "output_type": "execute_result"
    }
   ],
   "source": [
    "os.listdir('.')"
   ]
  },
  {
   "cell_type": "code",
   "execution_count": 22,
   "id": "b7142945-6925-4fd7-b655-3aa8bbf3b474",
   "metadata": {},
   "outputs": [],
   "source": [
    "file_list = os.listdir('.')"
   ]
  },
  {
   "cell_type": "code",
   "execution_count": 23,
   "id": "d128fc8d-48e4-4b66-a81d-5600ce6cb992",
   "metadata": {},
   "outputs": [],
   "source": [
    "file_ipynb = [ f for f in file_list if f.endswith('.ipynb')]"
   ]
  },
  {
   "cell_type": "code",
   "execution_count": 24,
   "id": "6891bb2b-b92a-4dae-9cad-8bb7249c5cc5",
   "metadata": {},
   "outputs": [
    {
     "data": {
      "text/plain": [
       "['07-1.셋.ipynb',\n",
       " '07-2.셋의 집합연산.ipynb',\n",
       " '07-3.딕셔너리.ipynb',\n",
       " '08-1.비교논리연산자.ipynb',\n",
       " '08-2.조건문.ipynb',\n",
       " '08-3중첩 복합 조건문.ipynb',\n",
       " '09-1.for반복문.ipynb',\n",
       " '09-2.while 반복문.ipynb',\n",
       " '09-3.리스트 컴프리헨션.ipynb',\n",
       " '10-2.사용자정의 함수.ipynb',\n",
       " '10-3.함수의 매개변수.ipynb',\n",
       " '11-2.파이썬 모듈 활용.ipynb',\n",
       " '11-3.사용자 정의 모듈.ipynb',\n",
       " '12-1.파일 읽기.ipynb',\n",
       " '12-2.파일 출력.ipynb',\n",
       " '12-3.파일시스템.ipynb',\n",
       " 'myprint.ipynb',\n",
       " 'myprint2.ipynb']"
      ]
     },
     "execution_count": 24,
     "metadata": {},
     "output_type": "execute_result"
    }
   ],
   "source": [
    "file_ipynb"
   ]
  },
  {
   "cell_type": "code",
   "execution_count": null,
   "id": "a8feaeae-5c88-427a-9365-dfcb7c230911",
   "metadata": {},
   "outputs": [],
   "source": []
  },
  {
   "cell_type": "code",
   "execution_count": 25,
   "id": "37d13dd8-3be8-456c-9364-a0e3ea1439e2",
   "metadata": {},
   "outputs": [
    {
     "data": {
      "text/plain": [
       "'C:\\\\Users\\\\user\\\\Desktop\\\\python\\\\0707'"
      ]
     },
     "execution_count": 25,
     "metadata": {},
     "output_type": "execute_result"
    }
   ],
   "source": [
    "# 현재 디렉토리 반환\n",
    "os.getcwd()"
   ]
  },
  {
   "cell_type": "code",
   "execution_count": 26,
   "id": "0840be12-35ca-4a40-b6e4-10a3eea57574",
   "metadata": {},
   "outputs": [],
   "source": [
    "# 디렉토리 생성\n",
    "os.mkdir('test')"
   ]
  },
  {
   "cell_type": "code",
   "execution_count": null,
   "id": "a36232fc-d30b-4321-82c5-4b45a0814445",
   "metadata": {},
   "outputs": [],
   "source": []
  },
  {
   "cell_type": "code",
   "execution_count": 27,
   "id": "84704263-a720-4742-a6b7-c7ef98278bd8",
   "metadata": {},
   "outputs": [
    {
     "data": {
      "text/plain": [
       "'.\\\\test'"
      ]
     },
     "execution_count": 27,
     "metadata": {},
     "output_type": "execute_result"
    }
   ],
   "source": [
    "# 현재 OS의 파일 구분자로 연결\n",
    "os.path.join('.','test')"
   ]
  },
  {
   "cell_type": "code",
   "execution_count": 28,
   "id": "aefda9af-3a4c-4506-99ca-9add989505f1",
   "metadata": {},
   "outputs": [
    {
     "data": {
      "text/plain": [
       "'C:\\\\Users\\\\user\\\\Desktop\\\\python\\\\0707\\\\hello.txt'"
      ]
     },
     "execution_count": 28,
     "metadata": {},
     "output_type": "execute_result"
    }
   ],
   "source": [
    "# 지정된 파일의 절대 경로 반환\n",
    "os.path.abspath('hello.txt')"
   ]
  },
  {
   "cell_type": "code",
   "execution_count": null,
   "id": "57f27344-1588-46a7-8eff-931ae76da766",
   "metadata": {},
   "outputs": [],
   "source": []
  },
  {
   "cell_type": "code",
   "execution_count": 29,
   "id": "2789728c-978e-4a44-9594-78608684b185",
   "metadata": {},
   "outputs": [
    {
     "data": {
      "text/plain": [
       "True"
      ]
     },
     "execution_count": 29,
     "metadata": {},
     "output_type": "execute_result"
    }
   ],
   "source": [
    "# 디렉토리/파일여부 출력\n",
    "os.path.isfile('hello_write.txt')"
   ]
  },
  {
   "cell_type": "code",
   "execution_count": 30,
   "id": "8d036be5-096a-4081-b220-e95a6c910c96",
   "metadata": {},
   "outputs": [
    {
     "data": {
      "text/plain": [
       "False"
      ]
     },
     "execution_count": 30,
     "metadata": {},
     "output_type": "execute_result"
    }
   ],
   "source": [
    "os.path.isdir('hello_write.txt')"
   ]
  },
  {
   "cell_type": "code",
   "execution_count": 31,
   "id": "d4089576-3f2b-42a4-9b55-ad19eac3923e",
   "metadata": {},
   "outputs": [
    {
     "data": {
      "text/plain": [
       "False"
      ]
     },
     "execution_count": 31,
     "metadata": {},
     "output_type": "execute_result"
    }
   ],
   "source": [
    "os.path.isfile('test')"
   ]
  },
  {
   "cell_type": "code",
   "execution_count": 36,
   "id": "d4c59e5f-7d4a-4fd1-b1e3-bf3269d8d502",
   "metadata": {},
   "outputs": [
    {
     "data": {
      "text/plain": [
       "True"
      ]
     },
     "execution_count": 36,
     "metadata": {},
     "output_type": "execute_result"
    }
   ],
   "source": [
    "os.path.isdir('test')"
   ]
  },
  {
   "cell_type": "code",
   "execution_count": 34,
   "id": "0c60c2a8-724b-4dc2-b0ea-ad3107663a73",
   "metadata": {},
   "outputs": [
    {
     "data": {
      "text/plain": [
       "('C:\\\\Users\\\\user\\\\Desktop\\\\python\\\\0707', 'hello_write.txt')"
      ]
     },
     "execution_count": 34,
     "metadata": {},
     "output_type": "execute_result"
    }
   ],
   "source": [
    "# 디렉토리명과 파일명의 분리\n",
    "os.path.split(os.path.abspath('hello_write.txt'))"
   ]
  },
  {
   "cell_type": "code",
   "execution_count": 35,
   "id": "47964c6d-b021-4c5d-bbc7-6719233a98cd",
   "metadata": {},
   "outputs": [
    {
     "data": {
      "text/plain": [
       "('hello_write', '.txt')"
      ]
     },
     "execution_count": 35,
     "metadata": {},
     "output_type": "execute_result"
    }
   ],
   "source": [
    "# 파일명과 확장자의 분리\n",
    "os.path.splitext(\"hello_write.txt\")"
   ]
  },
  {
   "cell_type": "code",
   "execution_count": null,
   "id": "25405727-138c-42e1-8610-ef6e9ceba62c",
   "metadata": {},
   "outputs": [],
   "source": []
  }
 ],
 "metadata": {
  "kernelspec": {
   "display_name": "Python 3",
   "language": "python",
   "name": "python3"
  },
  "language_info": {
   "codemirror_mode": {
    "name": "ipython",
    "version": 3
   },
   "file_extension": ".py",
   "mimetype": "text/x-python",
   "name": "python",
   "nbconvert_exporter": "python",
   "pygments_lexer": "ipython3",
   "version": "3.8.8"
  }
 },
 "nbformat": 4,
 "nbformat_minor": 5
}
