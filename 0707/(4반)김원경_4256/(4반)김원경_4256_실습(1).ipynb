{
 "cells": [
  {
   "cell_type": "markdown",
   "id": "cf219b96-94b6-44bc-b610-5f6b7d9f21f4",
   "metadata": {},
   "source": [
    "# Set"
   ]
  },
  {
   "cell_type": "code",
   "execution_count": 8,
   "id": "91c7aaae-735f-4aec-8f01-7b75b7be0bf0",
   "metadata": {},
   "outputs": [],
   "source": [
    "set1 = {'A','B','C','D','E','F'}\n",
    "set2 = {'A','B','C','D','E','F','B'}"
   ]
  },
  {
   "cell_type": "code",
   "execution_count": 9,
   "id": "3b7d3db0-875e-4683-bdb1-f546cff14363",
   "metadata": {},
   "outputs": [
    {
     "name": "stdout",
     "output_type": "stream",
     "text": [
      "{'B', 'F', 'D', 'A', 'E', 'C'}\n",
      "{'B', 'F', 'D', 'A', 'E', 'C'}\n",
      "<class 'set'>\n"
     ]
    }
   ],
   "source": [
    "print(set1)\n",
    "print(set2)\n",
    "print(type(set1))"
   ]
  },
  {
   "cell_type": "code",
   "execution_count": 10,
   "id": "b0e71944-22ec-4b03-8a35-ab3c5d696f0e",
   "metadata": {},
   "outputs": [
    {
     "ename": "TypeError",
     "evalue": "'set' object is not subscriptable",
     "output_type": "error",
     "traceback": [
      "\u001b[1;31m---------------------------------------------------------------------------\u001b[0m",
      "\u001b[1;31mTypeError\u001b[0m                                 Traceback (most recent call last)",
      "\u001b[1;32m<ipython-input-10-c38563f1af7a>\u001b[0m in \u001b[0;36m<module>\u001b[1;34m\u001b[0m\n\u001b[1;32m----> 1\u001b[1;33m \u001b[0mset1\u001b[0m\u001b[1;33m[\u001b[0m\u001b[1;36m0\u001b[0m\u001b[1;33m]\u001b[0m\u001b[1;33m\u001b[0m\u001b[1;33m\u001b[0m\u001b[0m\n\u001b[0m",
      "\u001b[1;31mTypeError\u001b[0m: 'set' object is not subscriptable"
     ]
    }
   ],
   "source": [
    "set1[0] #인덱싱 불가"
   ]
  },
  {
   "cell_type": "code",
   "execution_count": 11,
   "id": "2372e557-f1a6-42b2-add8-8eaae12242fc",
   "metadata": {},
   "outputs": [
    {
     "ename": "TypeError",
     "evalue": "'set' object is not subscriptable",
     "output_type": "error",
     "traceback": [
      "\u001b[1;31m---------------------------------------------------------------------------\u001b[0m",
      "\u001b[1;31mTypeError\u001b[0m                                 Traceback (most recent call last)",
      "\u001b[1;32m<ipython-input-11-ea280228e3f8>\u001b[0m in \u001b[0;36m<module>\u001b[1;34m\u001b[0m\n\u001b[1;32m----> 1\u001b[1;33m \u001b[0mset1\u001b[0m\u001b[1;33m[\u001b[0m\u001b[1;33m:\u001b[0m\u001b[1;36m5\u001b[0m\u001b[1;33m]\u001b[0m\u001b[1;33m\u001b[0m\u001b[1;33m\u001b[0m\u001b[0m\n\u001b[0m",
      "\u001b[1;31mTypeError\u001b[0m: 'set' object is not subscriptable"
     ]
    }
   ],
   "source": [
    "set1[:5] #슬라이싱 불가 "
   ]
  },
  {
   "cell_type": "code",
   "execution_count": 16,
   "id": "7f182d89-1106-47d6-a1e9-ef4e79feaef7",
   "metadata": {},
   "outputs": [
    {
     "data": {
      "text/plain": [
       "{'A', 'B', 'C', 'D', 'E', 'F', 'a'}"
      ]
     },
     "execution_count": 16,
     "metadata": {},
     "output_type": "execute_result"
    }
   ],
   "source": [
    "set1.add('a')\n",
    "set1"
   ]
  },
  {
   "cell_type": "code",
   "execution_count": 17,
   "id": "9ec030b9-8970-4c05-993e-7dfca12150e5",
   "metadata": {},
   "outputs": [
    {
     "data": {
      "text/plain": [
       "{'A', 'B', 'C', 'D', 'E', 'F'}"
      ]
     },
     "execution_count": 17,
     "metadata": {},
     "output_type": "execute_result"
    }
   ],
   "source": [
    "set1.remove('a')\n",
    "set1"
   ]
  },
  {
   "cell_type": "code",
   "execution_count": 18,
   "id": "f8cc9f07-ad89-488e-a829-056c8c073fe1",
   "metadata": {},
   "outputs": [
    {
     "data": {
      "text/plain": [
       "{'A', 'C', 'D', 'E', 'F'}"
      ]
     },
     "execution_count": 18,
     "metadata": {},
     "output_type": "execute_result"
    }
   ],
   "source": [
    "set1.pop()\n",
    "set1"
   ]
  },
  {
   "cell_type": "code",
   "execution_count": null,
   "id": "6fc55056-c131-424b-a7b7-0762efc30f70",
   "metadata": {},
   "outputs": [],
   "source": []
  },
  {
   "cell_type": "code",
   "execution_count": 1,
   "id": "72c7d5c5-e422-4e05-a0c0-8bb9258c9186",
   "metadata": {},
   "outputs": [],
   "source": [
    "set1 = {\"A\",\"B\",\"C\",\"D\",\"E\",\"F\"}\n",
    "set2 = {\"B\",\"D\",\"G\",\"H\"}"
   ]
  },
  {
   "cell_type": "markdown",
   "id": "05d6cfac-d902-47c4-9d16-6d5b0e241bb3",
   "metadata": {},
   "source": [
    "### 교집합"
   ]
  },
  {
   "cell_type": "code",
   "execution_count": 2,
   "id": "cc597c2b-95dc-4cc6-8ff6-9becd864cec9",
   "metadata": {},
   "outputs": [
    {
     "data": {
      "text/plain": [
       "{'B', 'D'}"
      ]
     },
     "execution_count": 2,
     "metadata": {},
     "output_type": "execute_result"
    }
   ],
   "source": [
    "set1 & set2"
   ]
  },
  {
   "cell_type": "code",
   "execution_count": 3,
   "id": "3ff4816b-b61f-4f7e-b182-67d40147d761",
   "metadata": {},
   "outputs": [
    {
     "data": {
      "text/plain": [
       "{'B', 'D'}"
      ]
     },
     "execution_count": 3,
     "metadata": {},
     "output_type": "execute_result"
    }
   ],
   "source": [
    "set1.intersection(set2)"
   ]
  },
  {
   "cell_type": "markdown",
   "id": "bb69131f-5103-4652-be88-94b267536108",
   "metadata": {},
   "source": [
    "### 합집합"
   ]
  },
  {
   "cell_type": "code",
   "execution_count": 4,
   "id": "a6568c40-199e-4f9f-86f0-2f353315b7a2",
   "metadata": {},
   "outputs": [
    {
     "data": {
      "text/plain": [
       "{'A', 'B', 'C', 'D', 'E', 'F', 'G', 'H'}"
      ]
     },
     "execution_count": 4,
     "metadata": {},
     "output_type": "execute_result"
    }
   ],
   "source": [
    "set1 | set2"
   ]
  },
  {
   "cell_type": "code",
   "execution_count": 5,
   "id": "e476fa3d-efd9-422f-a92b-5790df5203a8",
   "metadata": {},
   "outputs": [
    {
     "data": {
      "text/plain": [
       "{'A', 'B', 'C', 'D', 'E', 'F', 'G', 'H'}"
      ]
     },
     "execution_count": 5,
     "metadata": {},
     "output_type": "execute_result"
    }
   ],
   "source": [
    "set1.union(set2)"
   ]
  },
  {
   "cell_type": "markdown",
   "id": "e745130c-f962-4ad7-a332-ee344462ddba",
   "metadata": {},
   "source": [
    "### 차집합"
   ]
  },
  {
   "cell_type": "code",
   "execution_count": 6,
   "id": "c524bc18-bbc7-438f-bd0e-8094f9b1abf9",
   "metadata": {},
   "outputs": [
    {
     "data": {
      "text/plain": [
       "{'A', 'C', 'E', 'F'}"
      ]
     },
     "execution_count": 6,
     "metadata": {},
     "output_type": "execute_result"
    }
   ],
   "source": [
    "set1 - set2"
   ]
  },
  {
   "cell_type": "code",
   "execution_count": 7,
   "id": "007f3183-548a-44ca-8fc1-940b235f9c5d",
   "metadata": {},
   "outputs": [
    {
     "data": {
      "text/plain": [
       "{'A', 'C', 'E', 'F'}"
      ]
     },
     "execution_count": 7,
     "metadata": {},
     "output_type": "execute_result"
    }
   ],
   "source": [
    "set1.difference(set2)"
   ]
  },
  {
   "cell_type": "markdown",
   "id": "81ea8db2-a8e9-44ae-91ea-c52f9ee4615e",
   "metadata": {},
   "source": [
    "### 파이썬 셋의 대칭 차집합 연산"
   ]
  },
  {
   "cell_type": "code",
   "execution_count": 8,
   "id": "4b8211f9-802d-4c09-ba72-78e8b42656cf",
   "metadata": {},
   "outputs": [
    {
     "data": {
      "text/plain": [
       "{'A', 'C', 'E', 'F', 'G', 'H'}"
      ]
     },
     "execution_count": 8,
     "metadata": {},
     "output_type": "execute_result"
    }
   ],
   "source": [
    "set1 ^ set2"
   ]
  },
  {
   "cell_type": "code",
   "execution_count": 9,
   "id": "e93d9bfb-1f24-4918-ae38-ad00d429dd44",
   "metadata": {},
   "outputs": [
    {
     "data": {
      "text/plain": [
       "{'A', 'C', 'E', 'F', 'G', 'H'}"
      ]
     },
     "execution_count": 9,
     "metadata": {},
     "output_type": "execute_result"
    }
   ],
   "source": [
    "set1.symmetric_difference(set2)"
   ]
  },
  {
   "cell_type": "code",
   "execution_count": null,
   "id": "a0adc84b-3ed5-40e4-bbbb-cb9a3dece0b6",
   "metadata": {},
   "outputs": [],
   "source": []
  },
  {
   "cell_type": "markdown",
   "id": "3291298b-0831-469a-b671-cb228e5ff0cb",
   "metadata": {},
   "source": [
    "### 파이썬 딕셔너리(dict)"
   ]
  },
  {
   "cell_type": "code",
   "execution_count": 1,
   "id": "f056ce47-8c30-48a9-84f6-4cfdef6051f3",
   "metadata": {},
   "outputs": [
    {
     "data": {
      "text/plain": [
       "{'수학': 100, '영어': 90}"
      ]
     },
     "execution_count": 1,
     "metadata": {},
     "output_type": "execute_result"
    }
   ],
   "source": [
    "중간고사 = {\n",
    "    \"수학\":100,\n",
    "    \"영어\":90\n",
    "}\n",
    "\n",
    "중간고사"
   ]
  },
  {
   "cell_type": "markdown",
   "id": "9dfdf85b-77b3-496a-ae77-919102639d67",
   "metadata": {},
   "source": [
    "### 파이썬 딕셔너리(dict) 원소 추가"
   ]
  },
  {
   "cell_type": "code",
   "execution_count": 2,
   "id": "3ebe25ed-710d-4a8f-b1d8-c6d33fe196dd",
   "metadata": {},
   "outputs": [
    {
     "data": {
      "text/plain": [
       "{'수학': 100, '영어': 90, '국어': 85}"
      ]
     },
     "execution_count": 2,
     "metadata": {},
     "output_type": "execute_result"
    }
   ],
   "source": [
    "중간고사['국어']= 85\n",
    "중간고사"
   ]
  },
  {
   "cell_type": "code",
   "execution_count": 3,
   "id": "1be258df-59ac-4179-bf6c-e11398df45c7",
   "metadata": {},
   "outputs": [
    {
     "data": {
      "text/plain": [
       "90"
      ]
     },
     "execution_count": 3,
     "metadata": {},
     "output_type": "execute_result"
    }
   ],
   "source": [
    "중간고사['영어']"
   ]
  },
  {
   "cell_type": "code",
   "execution_count": 4,
   "id": "2e951eee-bdc2-44c0-b2e1-e04dc53aaac3",
   "metadata": {},
   "outputs": [
    {
     "data": {
      "text/plain": [
       "{'수학': 100, '영어': 95, '국어': 85}"
      ]
     },
     "execution_count": 4,
     "metadata": {},
     "output_type": "execute_result"
    }
   ],
   "source": [
    "중간고사[\"영어\"] = 95\n",
    "중간고사"
   ]
  },
  {
   "cell_type": "markdown",
   "id": "2190412e-0497-4f99-99b6-45ff6d163262",
   "metadata": {},
   "source": [
    "### 파이썬 딕셔너리(dict) keys()와 values(), items()함수"
   ]
  },
  {
   "cell_type": "code",
   "execution_count": 5,
   "id": "7e5904fa-3f02-48ba-b831-9c9b1409ca1e",
   "metadata": {},
   "outputs": [
    {
     "data": {
      "text/plain": [
       "['수학', '영어', '국어']"
      ]
     },
     "execution_count": 5,
     "metadata": {},
     "output_type": "execute_result"
    }
   ],
   "source": [
    "list(중간고사.keys())"
   ]
  },
  {
   "cell_type": "code",
   "execution_count": 6,
   "id": "efd8d40b-5bbf-425e-a62e-7407c46d08a0",
   "metadata": {},
   "outputs": [
    {
     "data": {
      "text/plain": [
       "[100, 95, 85]"
      ]
     },
     "execution_count": 6,
     "metadata": {},
     "output_type": "execute_result"
    }
   ],
   "source": [
    "list(중간고사.values())"
   ]
  },
  {
   "cell_type": "code",
   "execution_count": 7,
   "id": "15e30e06-8eb7-44fc-ba8f-0cfc2985bd8f",
   "metadata": {},
   "outputs": [
    {
     "data": {
      "text/plain": [
       "dict_items([('수학', 100), ('영어', 95), ('국어', 85)])"
      ]
     },
     "execution_count": 7,
     "metadata": {},
     "output_type": "execute_result"
    }
   ],
   "source": [
    "중간고사.items()"
   ]
  },
  {
   "cell_type": "markdown",
   "id": "a1fe4344-56bf-488d-8562-d6a5508b8c02",
   "metadata": {},
   "source": [
    "### 파이썬 딕셔너리(dict) 원소 삭제"
   ]
  },
  {
   "cell_type": "code",
   "execution_count": 8,
   "id": "935d57dc-84e1-4daf-802a-f0df691f9ceb",
   "metadata": {},
   "outputs": [
    {
     "data": {
      "text/plain": [
       "85"
      ]
     },
     "execution_count": 8,
     "metadata": {},
     "output_type": "execute_result"
    }
   ],
   "source": [
    "중간고사.pop('국어')"
   ]
  },
  {
   "cell_type": "code",
   "execution_count": 11,
   "id": "a6543d2a-7bcd-4a81-8dd9-983d2ed90152",
   "metadata": {},
   "outputs": [
    {
     "data": {
      "text/plain": [
       "{'수학': 100, '영어': 95}"
      ]
     },
     "execution_count": 11,
     "metadata": {},
     "output_type": "execute_result"
    }
   ],
   "source": [
    "중간고사"
   ]
  }
 ],
 "metadata": {
  "kernelspec": {
   "display_name": "Python 3",
   "language": "python",
   "name": "python3"
  },
  "language_info": {
   "codemirror_mode": {
    "name": "ipython",
    "version": 3
   },
   "file_extension": ".py",
   "mimetype": "text/x-python",
   "name": "python",
   "nbconvert_exporter": "python",
   "pygments_lexer": "ipython3",
   "version": "3.8.8"
  }
 },
 "nbformat": 4,
 "nbformat_minor": 5
}
