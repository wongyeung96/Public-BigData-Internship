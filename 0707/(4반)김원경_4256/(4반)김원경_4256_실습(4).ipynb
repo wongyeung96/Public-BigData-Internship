{
 "cells": [
  {
   "cell_type": "code",
   "execution_count": null,
   "id": "2e59970f-0c27-4396-bf53-b2804b388801",
   "metadata": {},
   "outputs": [],
   "source": []
  },
  {
   "cell_type": "code",
   "execution_count": 7,
   "id": "867203d8-04df-48f7-a3e9-2fcfcd37373e",
   "metadata": {},
   "outputs": [],
   "source": [
    "# 매개변수, 반환값 없는 경우\n",
    "def add1():\n",
    "    print(\"더하기 함수입니다\")"
   ]
  },
  {
   "cell_type": "code",
   "execution_count": 8,
   "id": "e225b302-b144-4078-a564-254d25baa322",
   "metadata": {},
   "outputs": [
    {
     "name": "stdout",
     "output_type": "stream",
     "text": [
      "더하기 함수입니다\n"
     ]
    }
   ],
   "source": [
    "add1()"
   ]
  },
  {
   "cell_type": "code",
   "execution_count": 9,
   "id": "2129f81b-0d4b-4f35-9562-42ea647b6122",
   "metadata": {},
   "outputs": [],
   "source": [
    "# 매개변수가 있고, 반환값은 없는 경우\n",
    "def add2(x,y):\n",
    "    print(x+y)"
   ]
  },
  {
   "cell_type": "code",
   "execution_count": 10,
   "id": "9190311c-6b33-43d0-9142-2784c1789152",
   "metadata": {},
   "outputs": [
    {
     "name": "stdout",
     "output_type": "stream",
     "text": [
      "3\n"
     ]
    }
   ],
   "source": [
    "add2(1,2)"
   ]
  },
  {
   "cell_type": "code",
   "execution_count": 11,
   "id": "f03edcc9-0cf2-4318-b661-f0a72505e380",
   "metadata": {},
   "outputs": [],
   "source": [
    "# 매개변수가 없고, 반환값이 있는 경우\n",
    "def add3():\n",
    "    x,y = 2,4\n",
    "    return x + y"
   ]
  },
  {
   "cell_type": "code",
   "execution_count": 12,
   "id": "0c1f32bd-dbc0-484d-9150-9947cb90768a",
   "metadata": {},
   "outputs": [
    {
     "name": "stdout",
     "output_type": "stream",
     "text": [
      "6\n"
     ]
    }
   ],
   "source": [
    "re_val = add3()\n",
    "print(re_val)"
   ]
  },
  {
   "cell_type": "code",
   "execution_count": 13,
   "id": "e6b0ea6d-eeb5-47bc-9b47-0346ec236603",
   "metadata": {},
   "outputs": [],
   "source": [
    "# 매개변수, 반환값이 둘 다 있는 경우\n",
    "def add4(x,y):\n",
    "    return x+y"
   ]
  },
  {
   "cell_type": "code",
   "execution_count": 15,
   "id": "90c020ca-3246-43fb-85f0-dedcdd5a7ae7",
   "metadata": {},
   "outputs": [
    {
     "name": "stdout",
     "output_type": "stream",
     "text": [
      "6\n"
     ]
    }
   ],
   "source": [
    "re_val = add4(2,4)\n",
    "print(re_val)"
   ]
  },
  {
   "cell_type": "code",
   "execution_count": 16,
   "id": "6f031d88-22fc-4914-80e8-92697284ee7d",
   "metadata": {},
   "outputs": [],
   "source": [
    "# 다중 반환값\n",
    "def square(x,y):\n",
    "    x = x ** 2\n",
    "    y = y ** 2\n",
    "    return x,y"
   ]
  },
  {
   "cell_type": "code",
   "execution_count": 17,
   "id": "b43cb363-0147-4456-9ccc-74703f22ea65",
   "metadata": {},
   "outputs": [
    {
     "name": "stdout",
     "output_type": "stream",
     "text": [
      "4\n",
      "9\n"
     ]
    }
   ],
   "source": [
    "a,b = square(2,3)\n",
    "print(a)\n",
    "print(b)"
   ]
  },
  {
   "cell_type": "code",
   "execution_count": null,
   "id": "5bcfa092-4fb9-481f-8bac-28c7206097d9",
   "metadata": {},
   "outputs": [],
   "source": []
  },
  {
   "cell_type": "code",
   "execution_count": 13,
   "id": "d3771e7b-a5fa-423c-a792-a0a03699a434",
   "metadata": {},
   "outputs": [],
   "source": [
    "def square2(x=2, y=3):\n",
    "    x = x**2\n",
    "    y = y**2\n",
    "    return x, y"
   ]
  },
  {
   "cell_type": "code",
   "execution_count": 14,
   "id": "d530f99f-c743-4d18-a0e4-a2510434f6da",
   "metadata": {},
   "outputs": [
    {
     "data": {
      "text/plain": [
       "(4, 9)"
      ]
     },
     "execution_count": 14,
     "metadata": {},
     "output_type": "execute_result"
    }
   ],
   "source": [
    "square2()"
   ]
  },
  {
   "cell_type": "code",
   "execution_count": 15,
   "id": "195d5cd4-46f1-4547-a30a-4cf585ff2bcf",
   "metadata": {},
   "outputs": [
    {
     "data": {
      "text/plain": [
       "(4, 9)"
      ]
     },
     "execution_count": 15,
     "metadata": {},
     "output_type": "execute_result"
    }
   ],
   "source": [
    "square2(2)"
   ]
  },
  {
   "cell_type": "code",
   "execution_count": 16,
   "id": "463215cd-c25b-45b5-a8e4-2a139ec4a838",
   "metadata": {},
   "outputs": [
    {
     "data": {
      "text/plain": [
       "(4, 9)"
      ]
     },
     "execution_count": 16,
     "metadata": {},
     "output_type": "execute_result"
    }
   ],
   "source": [
    "square2(2,3)"
   ]
  },
  {
   "cell_type": "code",
   "execution_count": 17,
   "id": "0b6f7107-9527-4c6f-8877-2e4b13a6bde7",
   "metadata": {},
   "outputs": [
    {
     "data": {
      "text/plain": [
       "(16, 25)"
      ]
     },
     "execution_count": 17,
     "metadata": {},
     "output_type": "execute_result"
    }
   ],
   "source": [
    "square2(4,5)"
   ]
  },
  {
   "cell_type": "code",
   "execution_count": 18,
   "id": "9f487352-1b6f-42d3-abb8-cd1362c51cfa",
   "metadata": {},
   "outputs": [
    {
     "data": {
      "text/plain": [
       "(16, 25)"
      ]
     },
     "execution_count": 18,
     "metadata": {},
     "output_type": "execute_result"
    }
   ],
   "source": [
    "# 매개변수 지정 인자값\n",
    "square2(y=5,x=4)"
   ]
  },
  {
   "cell_type": "code",
   "execution_count": 19,
   "id": "495e912c-5c2c-403c-9bab-cb6b5b24e583",
   "metadata": {},
   "outputs": [],
   "source": [
    "# 가변 매개변수\n",
    "def changeable(x, *y):\n",
    "    print(x,y)"
   ]
  },
  {
   "cell_type": "code",
   "execution_count": 20,
   "id": "ef1a993c-57ad-4490-8e82-5b9069c11500",
   "metadata": {},
   "outputs": [
    {
     "name": "stdout",
     "output_type": "stream",
     "text": [
      "1 ()\n"
     ]
    }
   ],
   "source": [
    "changeable(1)"
   ]
  },
  {
   "cell_type": "code",
   "execution_count": 21,
   "id": "8c54fa81-dd2b-4f7f-8cbd-d52435390fce",
   "metadata": {},
   "outputs": [
    {
     "name": "stdout",
     "output_type": "stream",
     "text": [
      "1 (2,)\n"
     ]
    }
   ],
   "source": [
    "changeable(1,2)"
   ]
  },
  {
   "cell_type": "code",
   "execution_count": 22,
   "id": "db6ded4b-ba45-4300-af70-d16f37a85b75",
   "metadata": {},
   "outputs": [
    {
     "name": "stdout",
     "output_type": "stream",
     "text": [
      "1 (2, 3)\n"
     ]
    }
   ],
   "source": [
    "changeable(1,2,3)"
   ]
  },
  {
   "cell_type": "code",
   "execution_count": 23,
   "id": "25431186-99c3-4d65-9a7b-3f75f8d0762f",
   "metadata": {},
   "outputs": [
    {
     "name": "stdout",
     "output_type": "stream",
     "text": [
      "1 (2, 3, 4, 5)\n"
     ]
    }
   ],
   "source": [
    "changeable(1,2,3,4,5)"
   ]
  }
 ],
 "metadata": {
  "kernelspec": {
   "display_name": "Python 3",
   "language": "python",
   "name": "python3"
  },
  "language_info": {
   "codemirror_mode": {
    "name": "ipython",
    "version": 3
   },
   "file_extension": ".py",
   "mimetype": "text/x-python",
   "name": "python",
   "nbconvert_exporter": "python",
   "pygments_lexer": "ipython3",
   "version": "3.8.8"
  }
 },
 "nbformat": 4,
 "nbformat_minor": 5
}
