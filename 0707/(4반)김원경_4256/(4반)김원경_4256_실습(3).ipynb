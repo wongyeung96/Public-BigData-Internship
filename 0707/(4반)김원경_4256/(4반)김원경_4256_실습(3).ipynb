{
 "cells": [
  {
   "cell_type": "code",
   "execution_count": null,
   "id": "92d86614-2646-41dc-bc70-bcf6e245a21f",
   "metadata": {},
   "outputs": [],
   "source": []
  },
  {
   "cell_type": "markdown",
   "id": "5d469c71-32db-40c1-a51b-b7cc9b2f35d0",
   "metadata": {},
   "source": [
    "### for 반복문"
   ]
  },
  {
   "cell_type": "code",
   "execution_count": 1,
   "id": "1976435d-e75f-4c0c-8b57-3ddf6d48774f",
   "metadata": {},
   "outputs": [
    {
     "name": "stdout",
     "output_type": "stream",
     "text": [
      "1\n",
      "2\n",
      "3\n"
     ]
    }
   ],
   "source": [
    "for num in [1,2,3]:\n",
    "    print(num)"
   ]
  },
  {
   "cell_type": "code",
   "execution_count": 2,
   "id": "9694d1ac-2c6a-4b83-a60a-e6059e82cf41",
   "metadata": {},
   "outputs": [
    {
     "name": "stdout",
     "output_type": "stream",
     "text": [
      "Hello\n",
      "World\n",
      "Python\n"
     ]
    }
   ],
   "source": [
    "for st in [\"Hello\",\"World\",\"Python\"]:\n",
    "    print(st)"
   ]
  },
  {
   "cell_type": "code",
   "execution_count": 3,
   "id": "38b20347-003a-4a84-b3fd-47a13c6b49fb",
   "metadata": {},
   "outputs": [],
   "source": [
    "score  = {\"국어\":95,\"영어\":90,\"수학\":80}"
   ]
  },
  {
   "cell_type": "code",
   "execution_count": 4,
   "id": "6f1ad70c-5b46-4537-8b08-76de67fa539a",
   "metadata": {},
   "outputs": [
    {
     "name": "stdout",
     "output_type": "stream",
     "text": [
      "국어\n",
      "영어\n",
      "수학\n"
     ]
    }
   ],
   "source": [
    "for item in score.keys():\n",
    "    print(item)"
   ]
  },
  {
   "cell_type": "code",
   "execution_count": 5,
   "id": "5dff7dd3-eb0f-4838-89cc-39d70f5fb3ee",
   "metadata": {},
   "outputs": [
    {
     "name": "stdout",
     "output_type": "stream",
     "text": [
      "95\n",
      "90\n",
      "80\n"
     ]
    }
   ],
   "source": [
    "for item in score.values():\n",
    "    print(item)"
   ]
  },
  {
   "cell_type": "code",
   "execution_count": 6,
   "id": "a79b09a5-91f6-425c-8dc8-87a20fda5512",
   "metadata": {},
   "outputs": [
    {
     "name": "stdout",
     "output_type": "stream",
     "text": [
      "국어과목 점수는 95점 입니다\n",
      "영어과목 점수는 90점 입니다\n",
      "수학과목 점수는 80점 입니다\n"
     ]
    }
   ],
   "source": [
    "for key,value in score.items():\n",
    "    print(f\"{key}과목 점수는 {value}점 입니다\")"
   ]
  },
  {
   "cell_type": "markdown",
   "id": "4afa03c6-c0d3-4bb8-bfc5-fdbe8bd0f6b3",
   "metadata": {},
   "source": [
    "### Range함수"
   ]
  },
  {
   "cell_type": "code",
   "execution_count": 7,
   "id": "366258aa-8a7c-453f-8784-fc28529762aa",
   "metadata": {},
   "outputs": [
    {
     "data": {
      "text/plain": [
       "[0, 1, 2, 3, 4, 5, 6, 7, 8, 9]"
      ]
     },
     "execution_count": 7,
     "metadata": {},
     "output_type": "execute_result"
    }
   ],
   "source": [
    "list(range(10))"
   ]
  },
  {
   "cell_type": "code",
   "execution_count": 8,
   "id": "0a24d959-a101-4d85-b51d-bc1dd2359e34",
   "metadata": {},
   "outputs": [
    {
     "data": {
      "text/plain": [
       "[1, 2, 3, 4, 5, 6, 7, 8, 9, 10]"
      ]
     },
     "execution_count": 8,
     "metadata": {},
     "output_type": "execute_result"
    }
   ],
   "source": [
    "list(range(1,11))"
   ]
  },
  {
   "cell_type": "code",
   "execution_count": 9,
   "id": "8c8ddc0f-fd9d-4f9f-933c-5409fe4fed8a",
   "metadata": {},
   "outputs": [
    {
     "data": {
      "text/plain": [
       "[10, 9, 8, 7, 6, 5, 4, 3, 2, 1]"
      ]
     },
     "execution_count": 9,
     "metadata": {},
     "output_type": "execute_result"
    }
   ],
   "source": [
    "list(range(10,0,-1))"
   ]
  },
  {
   "cell_type": "code",
   "execution_count": 10,
   "id": "d9aa1f92-683f-4f31-96a4-30a0ecdda099",
   "metadata": {},
   "outputs": [
    {
     "name": "stdout",
     "output_type": "stream",
     "text": [
      "1\n",
      "3\n",
      "5\n",
      "7\n",
      "9\n"
     ]
    }
   ],
   "source": [
    "for i in range(1,11,2):\n",
    "    print(i)"
   ]
  },
  {
   "cell_type": "code",
   "execution_count": 11,
   "id": "60f783ba-f41c-415d-bbbd-fc28a0b5facb",
   "metadata": {},
   "outputs": [
    {
     "name": "stdout",
     "output_type": "stream",
     "text": [
      "0\n",
      "2\n",
      "4\n",
      "6\n",
      "8\n",
      "10\n"
     ]
    }
   ],
   "source": [
    "for i in range(0,11,2):\n",
    "    print(i)"
   ]
  },
  {
   "cell_type": "markdown",
   "id": "53fcda48-97d3-4c6d-bd5a-ba71c692601e",
   "metadata": {},
   "source": [
    "### for 반복문과 else구문"
   ]
  },
  {
   "cell_type": "code",
   "execution_count": 13,
   "id": "670d4d85-0fcd-459c-9251-07b393e15bd0",
   "metadata": {},
   "outputs": [
    {
     "name": "stdout",
     "output_type": "stream",
     "text": [
      "2 X 1 = 2\n",
      "2 X 2 = 4\n",
      "2 X 3 = 6\n",
      "2 X 4 = 8\n",
      "2 X 5 = 10\n",
      "2 X 6 = 12\n",
      "2 X 7 = 14\n",
      "2 X 8 = 16\n",
      "2 X 9 = 18\n",
      "구구단 2단을 종료합니다.\n"
     ]
    }
   ],
   "source": [
    "for i in range(1,10):\n",
    "    ans = 2 * i\n",
    "    print(f\"2 X {i} = {ans}\")\n",
    "else:\n",
    "    print(\"구구단 2단을 종료합니다.\")"
   ]
  },
  {
   "cell_type": "code",
   "execution_count": null,
   "id": "173a7509-78a9-4841-81d8-178db56fa79a",
   "metadata": {},
   "outputs": [],
   "source": []
  },
  {
   "cell_type": "markdown",
   "id": "ca0ae76f-1313-4beb-8a6c-b948d42ecbcb",
   "metadata": {},
   "source": [
    "### While 문"
   ]
  },
  {
   "cell_type": "code",
   "execution_count": 1,
   "id": "95cb56b2-d88c-4fa8-8925-399bdfe4f7d1",
   "metadata": {},
   "outputs": [],
   "source": [
    "a = 0"
   ]
  },
  {
   "cell_type": "code",
   "execution_count": 2,
   "id": "64576424-0daa-4193-8538-af420cf2d31b",
   "metadata": {},
   "outputs": [
    {
     "name": "stdout",
     "output_type": "stream",
     "text": [
      "0\n",
      "1\n",
      "2\n",
      "3\n",
      "4\n",
      "5\n",
      "6\n",
      "7\n",
      "8\n",
      "9\n",
      "a가 10이므로 종료합니다.\n"
     ]
    }
   ],
   "source": [
    "while a<10:\n",
    "    print(a)\n",
    "    a += 1 # a = a + 1\n",
    "else:\n",
    "    print(f\"a가 {a}이므로 종료합니다.\")"
   ]
  },
  {
   "cell_type": "markdown",
   "id": "8cadf907-1a97-4b4a-8179-2aa4f9fd94a4",
   "metadata": {},
   "source": [
    "### While 무한반복"
   ]
  },
  {
   "cell_type": "code",
   "execution_count": 6,
   "id": "0288780a-79f0-42de-8071-f8bc4866b29c",
   "metadata": {},
   "outputs": [],
   "source": [
    "x = 0"
   ]
  },
  {
   "cell_type": "code",
   "execution_count": 7,
   "id": "90668477-68de-481b-acdc-1ea5e030bcd3",
   "metadata": {},
   "outputs": [
    {
     "name": "stdout",
     "output_type": "stream",
     "text": [
      "3\n",
      "6\n",
      "9\n",
      "12\n",
      "15\n",
      "18\n",
      "21\n",
      "24\n",
      "27\n",
      "30\n",
      "33\n",
      "36\n",
      "39\n",
      "42\n",
      "45\n",
      "48\n",
      "51\n",
      "54\n",
      "57\n",
      "60\n",
      "63\n",
      "66\n",
      "69\n",
      "72\n",
      "75\n",
      "78\n",
      "81\n",
      "84\n",
      "87\n",
      "90\n",
      "93\n",
      "96\n",
      "99\n",
      "102\n"
     ]
    }
   ],
   "source": [
    "while True:\n",
    "    x += 3\n",
    "    print(x)\n",
    "    if x > 100 and x % 3 == 0:\n",
    "        break"
   ]
  },
  {
   "cell_type": "code",
   "execution_count": null,
   "id": "81c27a72-53fb-4c99-ad30-d7eda148eec0",
   "metadata": {},
   "outputs": [],
   "source": []
  },
  {
   "cell_type": "markdown",
   "id": "424e23b2-88c3-48a4-afbc-456ac4f0815d",
   "metadata": {},
   "source": [
    "### 파이썬 리스트 컴프리헨션(Comprehension)"
   ]
  },
  {
   "cell_type": "code",
   "execution_count": 2,
   "id": "2c300971-591d-420b-81d4-328a73338f8e",
   "metadata": {},
   "outputs": [
    {
     "name": "stdout",
     "output_type": "stream",
     "text": [
      "[1, 2, 3, 4, 5, 6, 7, 8, 9, 10]\n"
     ]
    }
   ],
   "source": [
    "list1 = list(range(1,11))\n",
    "print(list1)"
   ]
  },
  {
   "cell_type": "code",
   "execution_count": 3,
   "id": "9b25c00e-4160-4358-8669-bdb19ce3ff9e",
   "metadata": {},
   "outputs": [
    {
     "data": {
      "text/plain": [
       "[2, 4, 6, 8, 10, 12, 14, 16, 18, 20]"
      ]
     },
     "execution_count": 3,
     "metadata": {},
     "output_type": "execute_result"
    }
   ],
   "source": [
    "list2 = [i*2 for i in list1]\n",
    "list2"
   ]
  },
  {
   "cell_type": "code",
   "execution_count": 4,
   "id": "d9efa2ff-e5bc-4fce-a2f7-94280566fefc",
   "metadata": {},
   "outputs": [
    {
     "name": "stdout",
     "output_type": "stream",
     "text": [
      "[1, 2, 3, 4, 5, 6, 7, 8, 9, 10]\n"
     ]
    }
   ],
   "source": [
    "list1 = list(range(1,11))\n",
    "print(list1)"
   ]
  },
  {
   "cell_type": "code",
   "execution_count": 5,
   "id": "4728139f-b78f-4bad-8433-d29a825be239",
   "metadata": {},
   "outputs": [
    {
     "data": {
      "text/plain": [
       "[1, 9, 25, 49, 81]"
      ]
     },
     "execution_count": 5,
     "metadata": {},
     "output_type": "execute_result"
    }
   ],
   "source": [
    "list3=[i**2 for i in list1 if i % 2 == 1]\n",
    "list3"
   ]
  },
  {
   "cell_type": "code",
   "execution_count": null,
   "id": "f6fcd678-287f-42c4-b5a0-0b324a9cdf3f",
   "metadata": {},
   "outputs": [],
   "source": []
  }
 ],
 "metadata": {
  "kernelspec": {
   "display_name": "Python 3",
   "language": "python",
   "name": "python3"
  },
  "language_info": {
   "codemirror_mode": {
    "name": "ipython",
    "version": 3
   },
   "file_extension": ".py",
   "mimetype": "text/x-python",
   "name": "python",
   "nbconvert_exporter": "python",
   "pygments_lexer": "ipython3",
   "version": "3.8.8"
  }
 },
 "nbformat": 4,
 "nbformat_minor": 5
}
