{
 "cells": [
  {
   "cell_type": "code",
   "execution_count": null,
   "id": "87885cf0-d4e1-4e1b-835b-6987dce87a52",
   "metadata": {},
   "outputs": [],
   "source": []
  },
  {
   "cell_type": "markdown",
   "id": "156e477e-782c-4325-b9b8-ddcc9f9380f9",
   "metadata": {},
   "source": [
    "### 비교연산자"
   ]
  },
  {
   "cell_type": "code",
   "execution_count": 1,
   "id": "2ff3ee7b-adfd-4e4f-a37e-0db6a536016e",
   "metadata": {},
   "outputs": [],
   "source": [
    "x = 10; y= 5"
   ]
  },
  {
   "cell_type": "code",
   "execution_count": 2,
   "id": "e47f2f9d-de57-45db-80a1-73c593fe1785",
   "metadata": {},
   "outputs": [
    {
     "data": {
      "text/plain": [
       "False"
      ]
     },
     "execution_count": 2,
     "metadata": {},
     "output_type": "execute_result"
    }
   ],
   "source": [
    "x == y"
   ]
  },
  {
   "cell_type": "code",
   "execution_count": 3,
   "id": "5ea3dc7e-2a37-4286-80c5-7ffa7588171c",
   "metadata": {},
   "outputs": [
    {
     "data": {
      "text/plain": [
       "True"
      ]
     },
     "execution_count": 3,
     "metadata": {},
     "output_type": "execute_result"
    }
   ],
   "source": [
    "x != y"
   ]
  },
  {
   "cell_type": "code",
   "execution_count": 4,
   "id": "1b0ce672-a66c-4f65-84f3-887eabbdcdbf",
   "metadata": {},
   "outputs": [
    {
     "data": {
      "text/plain": [
       "True"
      ]
     },
     "execution_count": 4,
     "metadata": {},
     "output_type": "execute_result"
    }
   ],
   "source": [
    "x > y"
   ]
  },
  {
   "cell_type": "code",
   "execution_count": 5,
   "id": "a3417706-6194-43b7-a566-b144e220ff49",
   "metadata": {},
   "outputs": [
    {
     "data": {
      "text/plain": [
       "False"
      ]
     },
     "execution_count": 5,
     "metadata": {},
     "output_type": "execute_result"
    }
   ],
   "source": [
    "x < y"
   ]
  },
  {
   "cell_type": "code",
   "execution_count": 6,
   "id": "8f2c4eb5-9585-46a6-b23c-6ae4defdf95d",
   "metadata": {},
   "outputs": [
    {
     "data": {
      "text/plain": [
       "True"
      ]
     },
     "execution_count": 6,
     "metadata": {},
     "output_type": "execute_result"
    }
   ],
   "source": [
    "x >= y"
   ]
  },
  {
   "cell_type": "code",
   "execution_count": 7,
   "id": "28a73530-9327-4d0d-abb4-a219fe7c7cf2",
   "metadata": {},
   "outputs": [
    {
     "data": {
      "text/plain": [
       "False"
      ]
     },
     "execution_count": 7,
     "metadata": {},
     "output_type": "execute_result"
    }
   ],
   "source": [
    "x <= y"
   ]
  },
  {
   "cell_type": "markdown",
   "id": "34f08356-fd38-4e70-b220-a6e7bfb91a73",
   "metadata": {},
   "source": [
    "### 논리연산자"
   ]
  },
  {
   "cell_type": "code",
   "execution_count": 8,
   "id": "9c000db7-081a-47a8-b245-d6d0b0076728",
   "metadata": {},
   "outputs": [],
   "source": [
    "x = True; y = False"
   ]
  },
  {
   "cell_type": "code",
   "execution_count": 9,
   "id": "89fc76e1-1295-46fa-954f-ecc0ee6ba257",
   "metadata": {},
   "outputs": [
    {
     "data": {
      "text/plain": [
       "False"
      ]
     },
     "execution_count": 9,
     "metadata": {},
     "output_type": "execute_result"
    }
   ],
   "source": [
    "x and y"
   ]
  },
  {
   "cell_type": "code",
   "execution_count": 12,
   "id": "fe2a56ea-fef9-4a0b-bcad-fa0bc8f3904a",
   "metadata": {},
   "outputs": [
    {
     "data": {
      "text/plain": [
       "True"
      ]
     },
     "execution_count": 12,
     "metadata": {},
     "output_type": "execute_result"
    }
   ],
   "source": [
    "x or y"
   ]
  },
  {
   "cell_type": "code",
   "execution_count": 13,
   "id": "76fa253e-f0e2-470c-94dc-d9bc72796d0c",
   "metadata": {},
   "outputs": [
    {
     "data": {
      "text/plain": [
       "False"
      ]
     },
     "execution_count": 13,
     "metadata": {},
     "output_type": "execute_result"
    }
   ],
   "source": [
    "not x "
   ]
  },
  {
   "cell_type": "code",
   "execution_count": null,
   "id": "48696794-6eb1-4e3f-b4e2-378d5f814334",
   "metadata": {},
   "outputs": [],
   "source": []
  },
  {
   "cell_type": "code",
   "execution_count": 1,
   "id": "54a640c6-f6cb-4adb-b27b-7b46368b0bf3",
   "metadata": {},
   "outputs": [],
   "source": [
    "x = 10; y=5"
   ]
  },
  {
   "cell_type": "code",
   "execution_count": 2,
   "id": "12d12a08-b56d-474c-a23a-2ad0b5437966",
   "metadata": {},
   "outputs": [
    {
     "name": "stdout",
     "output_type": "stream",
     "text": [
      "x가 y보다 큽니다\n"
     ]
    }
   ],
   "source": [
    "if x > y:\n",
    "    print('x가 y보다 큽니다')"
   ]
  },
  {
   "cell_type": "code",
   "execution_count": 3,
   "id": "5bd0762e-0040-4a1b-99d4-d685557cf337",
   "metadata": {},
   "outputs": [],
   "source": [
    "x, y =5,10"
   ]
  },
  {
   "cell_type": "code",
   "execution_count": 4,
   "id": "89c69e66-a02f-4aef-866f-af6e5aff9b4d",
   "metadata": {},
   "outputs": [
    {
     "name": "stdout",
     "output_type": "stream",
     "text": [
      "x가 y보다 작습니다\n"
     ]
    }
   ],
   "source": [
    "if x > y:\n",
    "    print('x가 y보다 큽니다')\n",
    "else:\n",
    "    print(\"x가 y보다 작습니다\")"
   ]
  },
  {
   "cell_type": "code",
   "execution_count": 5,
   "id": "d033f3ff-6c8b-499a-bc75-7a353e6c07a2",
   "metadata": {},
   "outputs": [],
   "source": [
    "x,y = 10,10"
   ]
  },
  {
   "cell_type": "code",
   "execution_count": 6,
   "id": "ccc9faee-ddf0-4818-9400-4c22374586f4",
   "metadata": {},
   "outputs": [
    {
     "name": "stdout",
     "output_type": "stream",
     "text": [
      "x와 y가 같습니다\n"
     ]
    }
   ],
   "source": [
    "if x > y:\n",
    "    print('x가 y보다 큽니다')\n",
    "elif x == y:\n",
    "    print(\"x와 y가 같습니다\")\n",
    "elif x < y:\n",
    "    print(\"x가 y보다 작습니다\")"
   ]
  },
  {
   "cell_type": "code",
   "execution_count": 7,
   "id": "fb9cdb3d-6255-4fb7-9c4d-add8a01bdd97",
   "metadata": {},
   "outputs": [],
   "source": [
    "score = 90"
   ]
  },
  {
   "cell_type": "code",
   "execution_count": 8,
   "id": "ea5fe8ac-2da1-45c3-bb7b-653a288a78ea",
   "metadata": {},
   "outputs": [
    {
     "name": "stdout",
     "output_type": "stream",
     "text": [
      "A학점입니다.\n"
     ]
    }
   ],
   "source": [
    "if score >= 90:\n",
    "    print(\"A학점입니다.\")\n",
    "elif score >= 80:\n",
    "    print(\"B학점입니다.\")\n",
    "elif score >= 70:\n",
    "    print(\"C학점입니다.\")\n",
    "elif score >= 60:\n",
    "    print(\"D학점입니다.\")\n",
    "else:\n",
    "    print(\"F학점입니다.\")"
   ]
  },
  {
   "cell_type": "code",
   "execution_count": 9,
   "id": "f5cdea77-9210-413e-beb8-fd4c6439ed5d",
   "metadata": {},
   "outputs": [
    {
     "name": "stdout",
     "output_type": "stream",
     "text": [
      "a는 True입니다\n",
      "True End,,,\n",
      "False End,,,\n"
     ]
    }
   ],
   "source": [
    "a = True\n",
    "if a:\n",
    "    print(\"a는 True입니다\")\n",
    "    print(\"True End,,,\")\n",
    "else:\n",
    "    print(\"a는 False입니다\")\n",
    "print(\"False End,,,\")"
   ]
  },
  {
   "cell_type": "code",
   "execution_count": 10,
   "id": "b0b7541e-68ec-4806-8b6b-0f6dd33a4c31",
   "metadata": {},
   "outputs": [
    {
     "name": "stdout",
     "output_type": "stream",
     "text": [
      "a는 True입니다\n",
      "True End,,,\n"
     ]
    }
   ],
   "source": [
    "a = True\n",
    "if a:\n",
    "    print(\"a는 True입니다\")\n",
    "    print(\"True End,,,\")\n",
    "else:\n",
    "    print(\"a는 False입니다\")\n",
    "    print(\"False End,,,\")"
   ]
  },
  {
   "cell_type": "code",
   "execution_count": null,
   "id": "eaba6ad4-c16a-4670-a46e-2dfdc4cf627c",
   "metadata": {},
   "outputs": [],
   "source": []
  },
  {
   "cell_type": "code",
   "execution_count": 1,
   "id": "42444928-ed85-4c6e-915c-dc6029c561b3",
   "metadata": {},
   "outputs": [],
   "source": [
    "a = True\n",
    "x,y = 5, 10"
   ]
  },
  {
   "cell_type": "code",
   "execution_count": 2,
   "id": "22518b1d-b187-41a5-aa33-bb7cf7e97761",
   "metadata": {},
   "outputs": [
    {
     "name": "stdout",
     "output_type": "stream",
     "text": [
      "a는 True입니다\n",
      "x가 y보다 작습니다\n"
     ]
    }
   ],
   "source": [
    "if a == True:\n",
    "    print('a는 True입니다')\n",
    "    if x > y:\n",
    "        print('x가 y보다 큽니다')\n",
    "    else:\n",
    "        print('x가 y보다 작습니다')\n",
    "else:\n",
    "    print(\"a는 False입니다\")"
   ]
  },
  {
   "cell_type": "code",
   "execution_count": 9,
   "id": "3ee6d2d0-6844-4ee6-8f35-922646e8993c",
   "metadata": {},
   "outputs": [
    {
     "name": "stdout",
     "output_type": "stream",
     "text": [
      "입장료는 5,000원 입니다\n"
     ]
    }
   ],
   "source": [
    "입장료 = 0\n",
    "회원 = True\n",
    "나이 = 14\n",
    "\n",
    "if 회원:\n",
    "    if 나이 >0 and 나이 <=13:\n",
    "        입장료 = 2500\n",
    "    elif 나이 >=14 and 나이 <= 59:\n",
    "        입장료 = 5000\n",
    "else:\n",
    "    if 나이 >0 and 나이 <=13:\n",
    "        입장료 = 5000\n",
    "    elif 나이 >=14 and 나이 <= 59:\n",
    "        입장료 = 10000\n",
    "print(f\"입장료는 {입장료:,}원 입니다\")"
   ]
  },
  {
   "cell_type": "code",
   "execution_count": 7,
   "id": "69712de8-17e9-4597-9f27-70716b87a7c6",
   "metadata": {},
   "outputs": [
    {
     "name": "stdout",
     "output_type": "stream",
     "text": [
      "입장료는 2,500원 입니다\n"
     ]
    }
   ],
   "source": [
    "입장료 = 0\n",
    "\n",
    "if 나이 <=6 or 나이 >= 60:\n",
    "    입장료 = 0\n",
    "elif 나이 <=13 or 나이 >= 7:\n",
    "    입장료 = 5000\n",
    "elif 나이 <=59 and 나이 >= 14:\n",
    "    입장료 = 10000\n",
    "    \n",
    "if 회원:\n",
    "    입장료 = int(입장료*0.5)\n",
    "    \n",
    "print(f\"입장료는 {입장료:,}원 입니다\")"
   ]
  },
  {
   "cell_type": "code",
   "execution_count": null,
   "id": "012a8984-3798-457c-9848-d63a63b82abf",
   "metadata": {},
   "outputs": [],
   "source": []
  }
 ],
 "metadata": {
  "kernelspec": {
   "display_name": "Python 3",
   "language": "python",
   "name": "python3"
  },
  "language_info": {
   "codemirror_mode": {
    "name": "ipython",
    "version": 3
   },
   "file_extension": ".py",
   "mimetype": "text/x-python",
   "name": "python",
   "nbconvert_exporter": "python",
   "pygments_lexer": "ipython3",
   "version": "3.8.8"
  }
 },
 "nbformat": 4,
 "nbformat_minor": 5
}
