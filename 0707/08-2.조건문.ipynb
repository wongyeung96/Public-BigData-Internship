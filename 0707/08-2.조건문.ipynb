{
 "cells": [
  {
   "cell_type": "code",
   "execution_count": 1,
   "id": "76771f33-8ca6-4469-b606-7e581ff96369",
   "metadata": {},
   "outputs": [],
   "source": [
    "x = 10; y=5"
   ]
  },
  {
   "cell_type": "code",
   "execution_count": 2,
   "id": "c021929a-824d-419d-9fcc-5713d9f7c051",
   "metadata": {},
   "outputs": [
    {
     "name": "stdout",
     "output_type": "stream",
     "text": [
      "x가 y보다 큽니다\n"
     ]
    }
   ],
   "source": [
    "if x > y:\n",
    "    print('x가 y보다 큽니다')"
   ]
  },
  {
   "cell_type": "code",
   "execution_count": 3,
   "id": "8fc151b8-aef3-4e93-8e9d-2f6a7af1da39",
   "metadata": {},
   "outputs": [],
   "source": [
    "x, y =5,10"
   ]
  },
  {
   "cell_type": "code",
   "execution_count": 4,
   "id": "f31e1e0e-4d18-44d6-ac12-cb8db19b31e2",
   "metadata": {},
   "outputs": [
    {
     "name": "stdout",
     "output_type": "stream",
     "text": [
      "x가 y보다 작습니다\n"
     ]
    }
   ],
   "source": [
    "if x > y:\n",
    "    print('x가 y보다 큽니다')\n",
    "else:\n",
    "    print(\"x가 y보다 작습니다\")"
   ]
  },
  {
   "cell_type": "code",
   "execution_count": 5,
   "id": "5fac1dfc-4a0d-4868-9988-d01f3bc2405d",
   "metadata": {},
   "outputs": [],
   "source": [
    "x,y = 10,10"
   ]
  },
  {
   "cell_type": "code",
   "execution_count": 6,
   "id": "f8c3125d-88b5-4057-aab8-b15057c936df",
   "metadata": {},
   "outputs": [
    {
     "name": "stdout",
     "output_type": "stream",
     "text": [
      "x와 y가 같습니다\n"
     ]
    }
   ],
   "source": [
    "if x > y:\n",
    "    print('x가 y보다 큽니다')\n",
    "elif x == y:\n",
    "    print(\"x와 y가 같습니다\")\n",
    "elif x < y:\n",
    "    print(\"x가 y보다 작습니다\")"
   ]
  },
  {
   "cell_type": "code",
   "execution_count": 7,
   "id": "51c5951c-8343-4030-b4e1-dbd944dff557",
   "metadata": {},
   "outputs": [],
   "source": [
    "score = 90"
   ]
  },
  {
   "cell_type": "code",
   "execution_count": 8,
   "id": "2c76bbd9-153b-45db-b869-3763e03e8ce0",
   "metadata": {},
   "outputs": [
    {
     "name": "stdout",
     "output_type": "stream",
     "text": [
      "A학점입니다.\n"
     ]
    }
   ],
   "source": [
    "if score >= 90:\n",
    "    print(\"A학점입니다.\")\n",
    "elif score >= 80:\n",
    "    print(\"B학점입니다.\")\n",
    "elif score >= 70:\n",
    "    print(\"C학점입니다.\")\n",
    "elif score >= 60:\n",
    "    print(\"D학점입니다.\")\n",
    "else:\n",
    "    print(\"F학점입니다.\")"
   ]
  },
  {
   "cell_type": "code",
   "execution_count": 9,
   "id": "bc06f3cb-c40c-4fd1-b862-a1fe2f98b7cb",
   "metadata": {},
   "outputs": [
    {
     "name": "stdout",
     "output_type": "stream",
     "text": [
      "a는 True입니다\n",
      "True End,,,\n",
      "False End,,,\n"
     ]
    }
   ],
   "source": [
    "a = True\n",
    "if a:\n",
    "    print(\"a는 True입니다\")\n",
    "    print(\"True End,,,\")\n",
    "else:\n",
    "    print(\"a는 False입니다\")\n",
    "print(\"False End,,,\")"
   ]
  },
  {
   "cell_type": "code",
   "execution_count": 10,
   "id": "3426b12f-1d4b-40f2-bda5-da5533861edc",
   "metadata": {},
   "outputs": [
    {
     "name": "stdout",
     "output_type": "stream",
     "text": [
      "a는 True입니다\n",
      "True End,,,\n"
     ]
    }
   ],
   "source": [
    "a = True\n",
    "if a:\n",
    "    print(\"a는 True입니다\")\n",
    "    print(\"True End,,,\")\n",
    "else:\n",
    "    print(\"a는 False입니다\")\n",
    "    print(\"False End,,,\")"
   ]
  },
  {
   "cell_type": "code",
   "execution_count": null,
   "id": "d9f3c17a-0c6c-4d17-8275-8057a5b84777",
   "metadata": {},
   "outputs": [],
   "source": []
  }
 ],
 "metadata": {
  "kernelspec": {
   "display_name": "Python 3",
   "language": "python",
   "name": "python3"
  },
  "language_info": {
   "codemirror_mode": {
    "name": "ipython",
    "version": 3
   },
   "file_extension": ".py",
   "mimetype": "text/x-python",
   "name": "python",
   "nbconvert_exporter": "python",
   "pygments_lexer": "ipython3",
   "version": "3.8.8"
  }
 },
 "nbformat": 4,
 "nbformat_minor": 5
}
