{
 "cells": [
  {
   "cell_type": "code",
   "execution_count": 2,
   "id": "5bcce22f-7884-4317-b262-564dc9abbbba",
   "metadata": {},
   "outputs": [],
   "source": [
    "fr = open(\"12-1. hello.txt\",'r')"
   ]
  },
  {
   "cell_type": "code",
   "execution_count": 3,
   "id": "54b03517-f279-4a88-9c2d-76c83f3f1ca2",
   "metadata": {},
   "outputs": [
    {
     "name": "stdout",
     "output_type": "stream",
     "text": [
      "Hello World Python!!!\n",
      "\n",
      "Welcome to Python World!!!\n"
     ]
    }
   ],
   "source": [
    "for line in fr:\n",
    "    print(line)"
   ]
  },
  {
   "cell_type": "code",
   "execution_count": 4,
   "id": "a64c07b7-1f38-4277-8b49-4b65c5d3a653",
   "metadata": {},
   "outputs": [],
   "source": [
    "fr.close()"
   ]
  },
  {
   "cell_type": "markdown",
   "id": "fba9928e-2dea-4a39-8588-8d7ba1a99b26",
   "metadata": {},
   "source": [
    "### 파이썬 파일 읽기 - with 구문"
   ]
  },
  {
   "cell_type": "code",
   "execution_count": 5,
   "id": "ea23cb27-51f5-44b7-8345-8b66651f12c1",
   "metadata": {},
   "outputs": [
    {
     "name": "stdout",
     "output_type": "stream",
     "text": [
      "Hello World Python!!!\n",
      "\n",
      "Welcome to Python World!!!\n"
     ]
    }
   ],
   "source": [
    "with open(\"./12-1. hello.txt\",\"r\") as fr:\n",
    "    for line in fr:\n",
    "        print(line)"
   ]
  },
  {
   "cell_type": "code",
   "execution_count": null,
   "id": "3745da62-53f1-4a83-8d2c-5d26bdd7b058",
   "metadata": {},
   "outputs": [],
   "source": []
  }
 ],
 "metadata": {
  "kernelspec": {
   "display_name": "Python 3",
   "language": "python",
   "name": "python3"
  },
  "language_info": {
   "codemirror_mode": {
    "name": "ipython",
    "version": 3
   },
   "file_extension": ".py",
   "mimetype": "text/x-python",
   "name": "python",
   "nbconvert_exporter": "python",
   "pygments_lexer": "ipython3",
   "version": "3.8.8"
  }
 },
 "nbformat": 4,
 "nbformat_minor": 5
}
