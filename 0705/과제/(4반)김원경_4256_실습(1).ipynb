{
 "cells": [
  {
   "cell_type": "markdown",
   "id": "48c8c3b1-7e44-4ffc-91c0-810b4d9be2d1",
   "metadata": {},
   "source": [
    "## 파이썬 연산자"
   ]
  },
  {
   "cell_type": "markdown",
   "id": "a16866ce-5abb-4e6e-bbe8-87c01ad155c0",
   "metadata": {},
   "source": [
    "### 더하기"
   ]
  },
  {
   "cell_type": "code",
   "execution_count": 1,
   "id": "37e7c2a6-326b-4eba-b7e2-2678ed810dff",
   "metadata": {},
   "outputs": [
    {
     "data": {
      "text/plain": [
       "6"
      ]
     },
     "execution_count": 1,
     "metadata": {},
     "output_type": "execute_result"
    }
   ],
   "source": [
    "2+4"
   ]
  },
  {
   "cell_type": "markdown",
   "id": "6c253bc1-2e89-40bb-9ecd-d55a19477441",
   "metadata": {},
   "source": [
    "### 빼기"
   ]
  },
  {
   "cell_type": "code",
   "execution_count": 2,
   "id": "64cb39bb-95e3-4d5b-bbe5-0e4b46c0cc42",
   "metadata": {},
   "outputs": [
    {
     "data": {
      "text/plain": [
       "2"
      ]
     },
     "execution_count": 2,
     "metadata": {},
     "output_type": "execute_result"
    }
   ],
   "source": [
    "4-2"
   ]
  },
  {
   "cell_type": "markdown",
   "id": "ff15a60c-070d-49ac-a4ba-6f9574880f3d",
   "metadata": {},
   "source": [
    "### 곱하기"
   ]
  },
  {
   "cell_type": "code",
   "execution_count": 3,
   "id": "c488def4-e63e-4fc2-9037-05d67dcf4331",
   "metadata": {},
   "outputs": [
    {
     "data": {
      "text/plain": [
       "8"
      ]
     },
     "execution_count": 3,
     "metadata": {},
     "output_type": "execute_result"
    }
   ],
   "source": [
    "2*4"
   ]
  },
  {
   "cell_type": "markdown",
   "id": "b51b9dd7-0f2e-43b5-b731-ff08d7378c31",
   "metadata": {},
   "source": [
    "### 나누기"
   ]
  },
  {
   "cell_type": "code",
   "execution_count": 4,
   "id": "baa144fd-d84f-45c4-8bf1-42428bd81222",
   "metadata": {},
   "outputs": [
    {
     "data": {
      "text/plain": [
       "2.0"
      ]
     },
     "execution_count": 4,
     "metadata": {},
     "output_type": "execute_result"
    }
   ],
   "source": [
    "4/2"
   ]
  },
  {
   "cell_type": "markdown",
   "id": "c154c761-9bb1-403c-9548-3ef1fd55eea0",
   "metadata": {},
   "source": [
    "### 제곱"
   ]
  },
  {
   "cell_type": "code",
   "execution_count": 5,
   "id": "b8a67a7e-8146-401e-b6f0-38a476827e4a",
   "metadata": {},
   "outputs": [
    {
     "data": {
      "text/plain": [
       "16"
      ]
     },
     "execution_count": 5,
     "metadata": {},
     "output_type": "execute_result"
    }
   ],
   "source": [
    "4**2"
   ]
  },
  {
   "cell_type": "markdown",
   "id": "51683133-2a67-4771-b191-3f2de40ffe91",
   "metadata": {},
   "source": [
    "### 몫"
   ]
  },
  {
   "cell_type": "code",
   "execution_count": 6,
   "id": "cf71e320-7d2c-439e-b12f-20bf245a40c8",
   "metadata": {},
   "outputs": [
    {
     "data": {
      "text/plain": [
       "3.5"
      ]
     },
     "execution_count": 6,
     "metadata": {},
     "output_type": "execute_result"
    }
   ],
   "source": [
    "7/2"
   ]
  },
  {
   "cell_type": "markdown",
   "id": "9d013df1-ecef-40d2-af42-7388b0212402",
   "metadata": {},
   "source": [
    "### 정수몫"
   ]
  },
  {
   "cell_type": "code",
   "execution_count": 7,
   "id": "0443de39-8a9a-4258-9d17-423a69e48c41",
   "metadata": {},
   "outputs": [
    {
     "data": {
      "text/plain": [
       "3"
      ]
     },
     "execution_count": 7,
     "metadata": {},
     "output_type": "execute_result"
    }
   ],
   "source": [
    "7//2"
   ]
  },
  {
   "cell_type": "markdown",
   "id": "9104afd0-28b0-4117-ac35-bafc54a4349a",
   "metadata": {},
   "source": [
    "### 나머지"
   ]
  },
  {
   "cell_type": "code",
   "execution_count": 8,
   "id": "5d633e93-daaf-4fcf-a49c-712bd4950675",
   "metadata": {},
   "outputs": [
    {
     "data": {
      "text/plain": [
       "1"
      ]
     },
     "execution_count": 8,
     "metadata": {},
     "output_type": "execute_result"
    }
   ],
   "source": [
    "7%2"
   ]
  },
  {
   "cell_type": "markdown",
   "id": "b0f2f5ad-cc43-4154-b80f-721a459e406c",
   "metadata": {},
   "source": [
    "## 파이썬 주석문"
   ]
  },
  {
   "cell_type": "code",
   "execution_count": 9,
   "id": "224ca0e0-0664-44ab-8725-4f928cabad48",
   "metadata": {},
   "outputs": [],
   "source": [
    "# ctrl * /"
   ]
  },
  {
   "cell_type": "code",
   "execution_count": 10,
   "id": "284c4a9e-233e-47d7-a14b-5068add23b82",
   "metadata": {},
   "outputs": [],
   "source": [
    "# 파이썬 주석문"
   ]
  },
  {
   "cell_type": "code",
   "execution_count": 11,
   "id": "36c46eff-3bdd-4aed-b66f-f88335ce0d45",
   "metadata": {},
   "outputs": [],
   "source": [
    "# 파이썬\n",
    "# 주석문"
   ]
  },
  {
   "cell_type": "code",
   "execution_count": 12,
   "id": "0a5b0201-53d4-4679-b14f-ed4140691b88",
   "metadata": {},
   "outputs": [
    {
     "name": "stdout",
     "output_type": "stream",
     "text": [
      "1\n"
     ]
    }
   ],
   "source": [
    "'''\n",
    "파이썬\n",
    "블럭\n",
    "주석문\n",
    "'''\n",
    "print(1)"
   ]
  },
  {
   "cell_type": "markdown",
   "id": "20db2046-1516-4337-9991-2d7682fd54ff",
   "metadata": {},
   "source": [
    "## 들여쓰기"
   ]
  },
  {
   "cell_type": "code",
   "execution_count": 13,
   "id": "3713a8d9-ff17-4adb-8412-9dbd0df6a458",
   "metadata": {},
   "outputs": [
    {
     "name": "stdout",
     "output_type": "stream",
     "text": [
      "True\n"
     ]
    }
   ],
   "source": [
    "a = True\n",
    "if a:\n",
    "    print(\"True\")\n",
    "else:\n",
    "    print(\"False\")"
   ]
  },
  {
   "cell_type": "code",
   "execution_count": 14,
   "id": "8a1fa7f9-4744-4bc8-8aa6-f5190dd26663",
   "metadata": {},
   "outputs": [
    {
     "name": "stdout",
     "output_type": "stream",
     "text": [
      "True\n",
      "True End ...\n",
      "End...\n"
     ]
    }
   ],
   "source": [
    "a = True\n",
    "if a:\n",
    "    print(\"True\")\n",
    "    print(\"True End ...\")\n",
    "else:\n",
    "    print(\"False\")\n",
    "print(\"End...\")"
   ]
  },
  {
   "cell_type": "markdown",
   "id": "ac3434d7-885f-47e5-af4b-7a76b4154be9",
   "metadata": {},
   "source": [
    "    // Java\n",
    "    boolean a = true;\n",
    "    if(a){\n",
    "        System.out.println(\"True\");\n",
    "        System.out.println(\"True End...\")\n",
    "    }else{\n",
    "        System.out.println(\"False\");\n",
    "    }\n",
    "        System.out.println(\"End...\");"
   ]
  },
  {
   "cell_type": "markdown",
   "id": "523a44c4-7e4d-4240-8680-f91cdea96144",
   "metadata": {},
   "source": [
    "## print 함수 "
   ]
  },
  {
   "cell_type": "code",
   "execution_count": 1,
   "id": "5c795f01-17df-4268-9fea-b47b53bddd8b",
   "metadata": {},
   "outputs": [
    {
     "name": "stdout",
     "output_type": "stream",
     "text": [
      "Hello world Python\n"
     ]
    }
   ],
   "source": [
    "print(\"Hello world Python\")"
   ]
  },
  {
   "cell_type": "code",
   "execution_count": 2,
   "id": "1215422e-a755-434f-a9d9-258712096765",
   "metadata": {},
   "outputs": [
    {
     "name": "stdout",
     "output_type": "stream",
     "text": [
      "a 1\n"
     ]
    }
   ],
   "source": [
    "print('a',1)"
   ]
  },
  {
   "cell_type": "code",
   "execution_count": 3,
   "id": "88276861-45ef-44bc-87cb-7b9dcf622788",
   "metadata": {},
   "outputs": [
    {
     "name": "stdout",
     "output_type": "stream",
     "text": [
      "a:1\n"
     ]
    }
   ],
   "source": [
    "print('a',1,sep=\":\")"
   ]
  },
  {
   "cell_type": "code",
   "execution_count": 5,
   "id": "d7a7c8c2-3b38-40cc-9694-649154483648",
   "metadata": {},
   "outputs": [
    {
     "name": "stdout",
     "output_type": "stream",
     "text": [
      "a:1."
     ]
    }
   ],
   "source": [
    "print('a',1,sep=\":\",end=\".\")"
   ]
  },
  {
   "cell_type": "markdown",
   "id": "83094713-aff9-4329-8ca8-5a1012936130",
   "metadata": {},
   "source": [
    "## input 함수"
   ]
  },
  {
   "cell_type": "code",
   "execution_count": 12,
   "id": "0a42abf1-71d1-4377-bf14-9bdb1e4d7b09",
   "metadata": {},
   "outputs": [
    {
     "name": "stdin",
     "output_type": "stream",
     "text": [
      " Hello\n"
     ]
    },
    {
     "data": {
      "text/plain": [
       "'Hello'"
      ]
     },
     "execution_count": 12,
     "metadata": {},
     "output_type": "execute_result"
    }
   ],
   "source": [
    "input()"
   ]
  },
  {
   "cell_type": "code",
   "execution_count": 13,
   "id": "9cf24d08-7136-43d2-ab71-b8ffeb57cbb3",
   "metadata": {},
   "outputs": [
    {
     "name": "stdin",
     "output_type": "stream",
     "text": [
      "프로그램 언어 :  Python\n"
     ]
    },
    {
     "data": {
      "text/plain": [
       "'Python'"
      ]
     },
     "execution_count": 13,
     "metadata": {},
     "output_type": "execute_result"
    }
   ],
   "source": [
    "input('프로그램 언어 : ')"
   ]
  },
  {
   "cell_type": "code",
   "execution_count": 14,
   "id": "9e161eec-7bba-460d-b24f-f9bfe0fcc5cd",
   "metadata": {},
   "outputs": [
    {
     "data": {
      "text/plain": [
       "3"
      ]
     },
     "execution_count": 14,
     "metadata": {},
     "output_type": "execute_result"
    }
   ],
   "source": [
    "round(3.151592)"
   ]
  },
  {
   "cell_type": "code",
   "execution_count": 15,
   "id": "df85e0ae-50e6-4b32-a598-13c2b6557916",
   "metadata": {},
   "outputs": [
    {
     "data": {
      "text/plain": [
       "3.15"
      ]
     },
     "execution_count": 15,
     "metadata": {},
     "output_type": "execute_result"
    }
   ],
   "source": [
    "round(3.151592,2)"
   ]
  },
  {
   "cell_type": "code",
   "execution_count": 16,
   "id": "5a079fee-f161-49b7-a9be-f083cabdb59f",
   "metadata": {},
   "outputs": [
    {
     "data": {
      "text/plain": [
       "3.15159"
      ]
     },
     "execution_count": 16,
     "metadata": {},
     "output_type": "execute_result"
    }
   ],
   "source": [
    "round(3.151592,5)"
   ]
  },
  {
   "cell_type": "code",
   "execution_count": 17,
   "id": "31f93e0f-f6e7-416a-bc89-0ba349857d86",
   "metadata": {},
   "outputs": [
    {
     "data": {
      "text/plain": [
       "1000"
      ]
     },
     "execution_count": 17,
     "metadata": {},
     "output_type": "execute_result"
    }
   ],
   "source": [
    "max(10,100,1000)"
   ]
  },
  {
   "cell_type": "code",
   "execution_count": 18,
   "id": "9466149f-0660-46d8-9138-a9d0625e14d4",
   "metadata": {},
   "outputs": [
    {
     "data": {
      "text/plain": [
       "10"
      ]
     },
     "execution_count": 18,
     "metadata": {},
     "output_type": "execute_result"
    }
   ],
   "source": [
    "min(10,100,1000)"
   ]
  },
  {
   "cell_type": "code",
   "execution_count": 19,
   "id": "d9d0a85f-9fef-4551-bf7e-bfbcbe6466ca",
   "metadata": {},
   "outputs": [
    {
     "data": {
      "text/plain": [
       "16"
      ]
     },
     "execution_count": 19,
     "metadata": {},
     "output_type": "execute_result"
    }
   ],
   "source": [
    "pow(2,4) # 2**4"
   ]
  },
  {
   "cell_type": "code",
   "execution_count": 20,
   "id": "c374e943-7258-4f45-968a-edafbba77183",
   "metadata": {},
   "outputs": [
    {
     "data": {
      "text/plain": [
       "18"
      ]
     },
     "execution_count": 20,
     "metadata": {},
     "output_type": "execute_result"
    }
   ],
   "source": [
    "len(\"Hello world Python\")"
   ]
  },
  {
   "cell_type": "code",
   "execution_count": 21,
   "id": "b9e190ab-9b6f-4343-ac1f-dc7f7addba76",
   "metadata": {},
   "outputs": [
    {
     "data": {
      "text/plain": [
       "[('a', '1'), ('b', '2'), ('c', '3')]"
      ]
     },
     "execution_count": 21,
     "metadata": {},
     "output_type": "execute_result"
    }
   ],
   "source": [
    "list(zip('abc','123'))"
   ]
  },
  {
   "cell_type": "code",
   "execution_count": 22,
   "id": "6fa1df5b-b95c-4599-a399-03e7335a733e",
   "metadata": {},
   "outputs": [],
   "source": [
    "hello = \"Hello world Python\""
   ]
  },
  {
   "cell_type": "code",
   "execution_count": 23,
   "id": "c83c42a0-38d2-45d0-970e-906dca281992",
   "metadata": {},
   "outputs": [
    {
     "name": "stdout",
     "output_type": "stream",
     "text": [
      "Hello world Python\n"
     ]
    }
   ],
   "source": [
    "print(hello)"
   ]
  },
  {
   "cell_type": "code",
   "execution_count": 24,
   "id": "cab2a4e8-29ca-457d-a118-7a339cbdeeeb",
   "metadata": {},
   "outputs": [
    {
     "data": {
      "text/plain": [
       "'Hello world Python'"
      ]
     },
     "execution_count": 24,
     "metadata": {},
     "output_type": "execute_result"
    }
   ],
   "source": [
    "hello"
   ]
  },
  {
   "cell_type": "code",
   "execution_count": 26,
   "id": "16a1d1af-078d-40ec-8ea3-89e98acabc15",
   "metadata": {},
   "outputs": [
    {
     "name": "stdout",
     "output_type": "stream",
     "text": [
      "Hello world Python\n",
      "Hello world Python\n"
     ]
    }
   ],
   "source": [
    "print(hello)\n",
    "print(hello)"
   ]
  },
  {
   "cell_type": "code",
   "execution_count": null,
   "id": "e3b5a5c0-ef95-489b-8157-4794a27a2a52",
   "metadata": {},
   "outputs": [],
   "source": []
  }
 ],
 "metadata": {
  "kernelspec": {
   "display_name": "Python 3",
   "language": "python",
   "name": "python3"
  },
  "language_info": {
   "codemirror_mode": {
    "name": "ipython",
    "version": 3
   },
   "file_extension": ".py",
   "mimetype": "text/x-python",
   "name": "python",
   "nbconvert_exporter": "python",
   "pygments_lexer": "ipython3",
   "version": "3.8.8"
  }
 },
 "nbformat": 4,
 "nbformat_minor": 5
}
