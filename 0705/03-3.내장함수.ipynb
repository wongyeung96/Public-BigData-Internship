{
 "cells": [
  {
   "cell_type": "markdown",
   "id": "d194e2af-0105-4002-b818-e4e7d7798c9b",
   "metadata": {},
   "source": [
    "## print 함수 "
   ]
  },
  {
   "cell_type": "code",
   "execution_count": 1,
   "id": "f8c8682e-c903-4e5c-b1c3-95ba79292726",
   "metadata": {},
   "outputs": [
    {
     "name": "stdout",
     "output_type": "stream",
     "text": [
      "Hello world Python\n"
     ]
    }
   ],
   "source": [
    "print(\"Hello world Python\")"
   ]
  },
  {
   "cell_type": "code",
   "execution_count": 2,
   "id": "01842b57-de83-4c63-a29f-69b51c289f3c",
   "metadata": {},
   "outputs": [
    {
     "name": "stdout",
     "output_type": "stream",
     "text": [
      "a 1\n"
     ]
    }
   ],
   "source": [
    "print('a',1)"
   ]
  },
  {
   "cell_type": "code",
   "execution_count": 3,
   "id": "c5772aa2-3e03-49e6-aa70-7784c88cf86e",
   "metadata": {},
   "outputs": [
    {
     "name": "stdout",
     "output_type": "stream",
     "text": [
      "a:1\n"
     ]
    }
   ],
   "source": [
    "print('a',1,sep=\":\")"
   ]
  },
  {
   "cell_type": "code",
   "execution_count": 5,
   "id": "b1f155d9-5330-42b6-bcde-698dcb14cbd2",
   "metadata": {},
   "outputs": [
    {
     "name": "stdout",
     "output_type": "stream",
     "text": [
      "a:1."
     ]
    }
   ],
   "source": [
    "print('a',1,sep=\":\",end=\".\")"
   ]
  },
  {
   "cell_type": "markdown",
   "id": "6c53b256-3457-4587-9a90-2df0bdb177fb",
   "metadata": {},
   "source": [
    "## input 함수"
   ]
  },
  {
   "cell_type": "code",
   "execution_count": 12,
   "id": "245b32d2-78a4-45b8-9b28-8843cc1d4661",
   "metadata": {},
   "outputs": [
    {
     "name": "stdin",
     "output_type": "stream",
     "text": [
      " Hello\n"
     ]
    },
    {
     "data": {
      "text/plain": [
       "'Hello'"
      ]
     },
     "execution_count": 12,
     "metadata": {},
     "output_type": "execute_result"
    }
   ],
   "source": [
    "input()"
   ]
  },
  {
   "cell_type": "code",
   "execution_count": 13,
   "id": "7f4cd393-4a80-4e86-a479-bf5e273e0b15",
   "metadata": {},
   "outputs": [
    {
     "name": "stdin",
     "output_type": "stream",
     "text": [
      "프로그램 언어 :  Python\n"
     ]
    },
    {
     "data": {
      "text/plain": [
       "'Python'"
      ]
     },
     "execution_count": 13,
     "metadata": {},
     "output_type": "execute_result"
    }
   ],
   "source": [
    "input('프로그램 언어 : ')"
   ]
  },
  {
   "cell_type": "code",
   "execution_count": 14,
   "id": "eb62aa67-b8b7-4e87-953e-4c77a339a281",
   "metadata": {},
   "outputs": [
    {
     "data": {
      "text/plain": [
       "3"
      ]
     },
     "execution_count": 14,
     "metadata": {},
     "output_type": "execute_result"
    }
   ],
   "source": [
    "round(3.151592)"
   ]
  },
  {
   "cell_type": "code",
   "execution_count": 15,
   "id": "e613b184-5ff8-4b43-ab88-ded4aec55b58",
   "metadata": {},
   "outputs": [
    {
     "data": {
      "text/plain": [
       "3.15"
      ]
     },
     "execution_count": 15,
     "metadata": {},
     "output_type": "execute_result"
    }
   ],
   "source": [
    "round(3.151592,2)"
   ]
  },
  {
   "cell_type": "code",
   "execution_count": 16,
   "id": "edacd4b9-91d7-489d-a43e-194410724513",
   "metadata": {},
   "outputs": [
    {
     "data": {
      "text/plain": [
       "3.15159"
      ]
     },
     "execution_count": 16,
     "metadata": {},
     "output_type": "execute_result"
    }
   ],
   "source": [
    "round(3.151592,5)"
   ]
  },
  {
   "cell_type": "code",
   "execution_count": 17,
   "id": "cc2155f8-5e1b-416d-bf4b-21d8b9ffa89e",
   "metadata": {},
   "outputs": [
    {
     "data": {
      "text/plain": [
       "1000"
      ]
     },
     "execution_count": 17,
     "metadata": {},
     "output_type": "execute_result"
    }
   ],
   "source": [
    "max(10,100,1000)"
   ]
  },
  {
   "cell_type": "code",
   "execution_count": 18,
   "id": "b08cb556-8148-441e-b77f-2386256745e7",
   "metadata": {},
   "outputs": [
    {
     "data": {
      "text/plain": [
       "10"
      ]
     },
     "execution_count": 18,
     "metadata": {},
     "output_type": "execute_result"
    }
   ],
   "source": [
    "min(10,100,1000)"
   ]
  },
  {
   "cell_type": "code",
   "execution_count": 19,
   "id": "4e79def7-c1dd-404c-a30d-bb6499a260bb",
   "metadata": {},
   "outputs": [
    {
     "data": {
      "text/plain": [
       "16"
      ]
     },
     "execution_count": 19,
     "metadata": {},
     "output_type": "execute_result"
    }
   ],
   "source": [
    "pow(2,4) # 2**4"
   ]
  },
  {
   "cell_type": "code",
   "execution_count": 20,
   "id": "4345dbf5-4176-4b3b-a338-84b9e25e682f",
   "metadata": {},
   "outputs": [
    {
     "data": {
      "text/plain": [
       "18"
      ]
     },
     "execution_count": 20,
     "metadata": {},
     "output_type": "execute_result"
    }
   ],
   "source": [
    "len(\"Hello world Python\")"
   ]
  },
  {
   "cell_type": "code",
   "execution_count": 21,
   "id": "bfb9844f-67c9-4b84-bc71-8b8e1a5d5375",
   "metadata": {},
   "outputs": [
    {
     "data": {
      "text/plain": [
       "[('a', '1'), ('b', '2'), ('c', '3')]"
      ]
     },
     "execution_count": 21,
     "metadata": {},
     "output_type": "execute_result"
    }
   ],
   "source": [
    "list(zip('abc','123'))"
   ]
  },
  {
   "cell_type": "code",
   "execution_count": 22,
   "id": "c45cb590-6f6d-4746-9d91-d8e52863f6f0",
   "metadata": {},
   "outputs": [],
   "source": [
    "hello = \"Hello world Python\""
   ]
  },
  {
   "cell_type": "code",
   "execution_count": 23,
   "id": "31e2b2a2-1816-46b7-9041-59535d49ea34",
   "metadata": {},
   "outputs": [
    {
     "name": "stdout",
     "output_type": "stream",
     "text": [
      "Hello world Python\n"
     ]
    }
   ],
   "source": [
    "print(hello)"
   ]
  },
  {
   "cell_type": "code",
   "execution_count": 24,
   "id": "95d5250f-d6f2-4d82-bdc6-b0912ae8da6f",
   "metadata": {},
   "outputs": [
    {
     "data": {
      "text/plain": [
       "'Hello world Python'"
      ]
     },
     "execution_count": 24,
     "metadata": {},
     "output_type": "execute_result"
    }
   ],
   "source": [
    "hello"
   ]
  },
  {
   "cell_type": "code",
   "execution_count": 26,
   "id": "5901352d-98ac-4ffb-88d9-7f67b6555386",
   "metadata": {},
   "outputs": [
    {
     "name": "stdout",
     "output_type": "stream",
     "text": [
      "Hello world Python\n",
      "Hello world Python\n"
     ]
    }
   ],
   "source": [
    "print(hello)\n",
    "print(hello)"
   ]
  },
  {
   "cell_type": "code",
   "execution_count": null,
   "id": "e1c114dd-e183-4372-a200-3b6a98cefce9",
   "metadata": {},
   "outputs": [],
   "source": []
  }
 ],
 "metadata": {
  "kernelspec": {
   "display_name": "Python 3",
   "language": "python",
   "name": "python3"
  },
  "language_info": {
   "codemirror_mode": {
    "name": "ipython",
    "version": 3
   },
   "file_extension": ".py",
   "mimetype": "text/x-python",
   "name": "python",
   "nbconvert_exporter": "python",
   "pygments_lexer": "ipython3",
   "version": "3.8.8"
  }
 },
 "nbformat": 4,
 "nbformat_minor": 5
}
