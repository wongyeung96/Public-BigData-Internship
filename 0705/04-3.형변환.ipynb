{
 "cells": [
  {
   "cell_type": "code",
   "execution_count": 1,
   "id": "8ac6c40a-a837-4285-9c2f-04ff707640e9",
   "metadata": {},
   "outputs": [],
   "source": [
    "price = 1000"
   ]
  },
  {
   "cell_type": "code",
   "execution_count": 2,
   "id": "31981a49-1149-4c51-9846-36ef6602ace8",
   "metadata": {},
   "outputs": [
    {
     "name": "stdout",
     "output_type": "stream",
     "text": [
      "<class 'int'>\n"
     ]
    }
   ],
   "source": [
    "print(type(price))"
   ]
  },
  {
   "cell_type": "code",
   "execution_count": 3,
   "id": "f6146563-c96d-4305-9e8d-f9bb62f4f260",
   "metadata": {},
   "outputs": [],
   "source": [
    "price = price * 0.05"
   ]
  },
  {
   "cell_type": "code",
   "execution_count": 5,
   "id": "d4898ec4-1f3c-4a1e-8f21-d77d2fa17246",
   "metadata": {},
   "outputs": [
    {
     "name": "stdout",
     "output_type": "stream",
     "text": [
      "50.0\n"
     ]
    }
   ],
   "source": [
    "print(price)"
   ]
  },
  {
   "cell_type": "code",
   "execution_count": 6,
   "id": "6a4c5a33-ebde-45ad-81cd-579f65edbded",
   "metadata": {},
   "outputs": [
    {
     "name": "stdout",
     "output_type": "stream",
     "text": [
      "<class 'float'>\n"
     ]
    }
   ],
   "source": [
    "print(type(price))"
   ]
  },
  {
   "cell_type": "code",
   "execution_count": 7,
   "id": "c2a9d4da-2598-4752-8096-0c501a669efa",
   "metadata": {},
   "outputs": [],
   "source": [
    "i1 = 1000"
   ]
  },
  {
   "cell_type": "code",
   "execution_count": 9,
   "id": "951580bb-7b55-4590-b5c2-59ac1189178c",
   "metadata": {},
   "outputs": [
    {
     "name": "stdout",
     "output_type": "stream",
     "text": [
      "<class 'int'>\n"
     ]
    }
   ],
   "source": [
    "print(type(i1))"
   ]
  },
  {
   "cell_type": "code",
   "execution_count": 10,
   "id": "1cbc46af-b3fe-4769-bd3c-ae5c37b2c2b0",
   "metadata": {},
   "outputs": [],
   "source": [
    "i1 = i1/4"
   ]
  },
  {
   "cell_type": "code",
   "execution_count": 11,
   "id": "91981fa8-2959-4e45-8f84-4fc86906348f",
   "metadata": {},
   "outputs": [
    {
     "name": "stdout",
     "output_type": "stream",
     "text": [
      "250.0\n"
     ]
    }
   ],
   "source": [
    "print(i1)"
   ]
  },
  {
   "cell_type": "code",
   "execution_count": 12,
   "id": "02c9e27a-de44-48cf-9839-75c685da0410",
   "metadata": {},
   "outputs": [
    {
     "name": "stdout",
     "output_type": "stream",
     "text": [
      "<class 'float'>\n"
     ]
    }
   ],
   "source": [
    "print(type(i1))"
   ]
  },
  {
   "cell_type": "code",
   "execution_count": null,
   "id": "66e8ddaf-c136-4550-99f4-b22d7e40b2fe",
   "metadata": {},
   "outputs": [],
   "source": []
  },
  {
   "cell_type": "code",
   "execution_count": 13,
   "id": "f0924faf-d0fb-4de5-84ea-aee3d4e5866a",
   "metadata": {},
   "outputs": [],
   "source": [
    "f1 = 3.14"
   ]
  },
  {
   "cell_type": "code",
   "execution_count": 14,
   "id": "9220ddc5-546f-4471-88c8-fb170c08df4d",
   "metadata": {},
   "outputs": [
    {
     "name": "stdout",
     "output_type": "stream",
     "text": [
      "<class 'float'>\n"
     ]
    }
   ],
   "source": [
    "print(type(f1))"
   ]
  },
  {
   "cell_type": "code",
   "execution_count": 15,
   "id": "d6d1767f-9260-4078-a852-b03453dda4de",
   "metadata": {},
   "outputs": [],
   "source": [
    "i1 = int(f1)"
   ]
  },
  {
   "cell_type": "code",
   "execution_count": 16,
   "id": "6a6100e6-a2cc-4902-b012-b7339716e482",
   "metadata": {},
   "outputs": [
    {
     "name": "stdout",
     "output_type": "stream",
     "text": [
      "3\n"
     ]
    }
   ],
   "source": [
    "print(i1)"
   ]
  },
  {
   "cell_type": "code",
   "execution_count": 17,
   "id": "f9a309b7-8094-49b7-a94d-fc118c062369",
   "metadata": {},
   "outputs": [
    {
     "name": "stdout",
     "output_type": "stream",
     "text": [
      "<class 'int'>\n"
     ]
    }
   ],
   "source": [
    "print(type(i1))"
   ]
  },
  {
   "cell_type": "code",
   "execution_count": null,
   "id": "780ab110-8f4a-4ca7-a274-c3c169fca233",
   "metadata": {},
   "outputs": [],
   "source": []
  },
  {
   "cell_type": "code",
   "execution_count": 18,
   "id": "09278f67-8105-49d9-8913-fcb876c647dd",
   "metadata": {},
   "outputs": [],
   "source": [
    "s1 = '12345'"
   ]
  },
  {
   "cell_type": "code",
   "execution_count": 19,
   "id": "e37c8b1d-0afc-4496-83e2-df587efd81f2",
   "metadata": {},
   "outputs": [
    {
     "name": "stdout",
     "output_type": "stream",
     "text": [
      "<class 'str'>\n"
     ]
    }
   ],
   "source": [
    "print(type(s1))"
   ]
  },
  {
   "cell_type": "code",
   "execution_count": 20,
   "id": "5c6667a5-b28b-4b15-9a67-1fa6e22569ca",
   "metadata": {},
   "outputs": [],
   "source": [
    "i1 = int(s1)"
   ]
  },
  {
   "cell_type": "code",
   "execution_count": 21,
   "id": "0d6d2bcd-f879-4622-966d-150bb9d796fe",
   "metadata": {},
   "outputs": [
    {
     "name": "stdout",
     "output_type": "stream",
     "text": [
      "12345\n"
     ]
    }
   ],
   "source": [
    "print(i1)"
   ]
  },
  {
   "cell_type": "code",
   "execution_count": 22,
   "id": "b5fb138e-ce99-47a9-8a56-2db8e834f710",
   "metadata": {},
   "outputs": [
    {
     "name": "stdout",
     "output_type": "stream",
     "text": [
      "<class 'int'>\n"
     ]
    }
   ],
   "source": [
    "print(type(i1))"
   ]
  },
  {
   "cell_type": "code",
   "execution_count": 23,
   "id": "5f54e360-eb9b-4330-9055-04d805ad8cfb",
   "metadata": {},
   "outputs": [],
   "source": [
    "s2 = '12345a'"
   ]
  },
  {
   "cell_type": "code",
   "execution_count": 24,
   "id": "f5807e00-704e-4deb-b0cf-03f692b09a8c",
   "metadata": {},
   "outputs": [
    {
     "ename": "ValueError",
     "evalue": "invalid literal for int() with base 10: '12345a'",
     "output_type": "error",
     "traceback": [
      "\u001b[1;31m---------------------------------------------------------------------------\u001b[0m",
      "\u001b[1;31mValueError\u001b[0m                                Traceback (most recent call last)",
      "\u001b[1;32m<ipython-input-24-40e5c06a2e43>\u001b[0m in \u001b[0;36m<module>\u001b[1;34m\u001b[0m\n\u001b[1;32m----> 1\u001b[1;33m \u001b[0mint\u001b[0m\u001b[1;33m(\u001b[0m\u001b[0ms2\u001b[0m\u001b[1;33m)\u001b[0m\u001b[1;33m\u001b[0m\u001b[1;33m\u001b[0m\u001b[0m\n\u001b[0m",
      "\u001b[1;31mValueError\u001b[0m: invalid literal for int() with base 10: '12345a'"
     ]
    }
   ],
   "source": [
    "int(s2)"
   ]
  },
  {
   "cell_type": "code",
   "execution_count": 25,
   "id": "eefe3dda-785a-49ce-bb92-d9fda4d96b7d",
   "metadata": {},
   "outputs": [],
   "source": [
    "s2 = '1234 '"
   ]
  },
  {
   "cell_type": "code",
   "execution_count": 26,
   "id": "3ce22ba6-df9b-4b09-876a-4791cb9dca36",
   "metadata": {},
   "outputs": [
    {
     "data": {
      "text/plain": [
       "1234"
      ]
     },
     "execution_count": 26,
     "metadata": {},
     "output_type": "execute_result"
    }
   ],
   "source": [
    "int(s2)"
   ]
  },
  {
   "cell_type": "code",
   "execution_count": null,
   "id": "44a0ec54-e6c5-418f-b27f-bac6024e9a40",
   "metadata": {},
   "outputs": [],
   "source": []
  },
  {
   "cell_type": "code",
   "execution_count": 27,
   "id": "162aa0d5-bb29-4fca-9131-b14aecbbaf35",
   "metadata": {},
   "outputs": [],
   "source": [
    "i1 = 100"
   ]
  },
  {
   "cell_type": "code",
   "execution_count": 28,
   "id": "ca56ca90-53f1-4dd9-84f3-3a01087d9e06",
   "metadata": {},
   "outputs": [
    {
     "name": "stdout",
     "output_type": "stream",
     "text": [
      "<class 'int'>\n"
     ]
    }
   ],
   "source": [
    "print(type(i1))"
   ]
  },
  {
   "cell_type": "code",
   "execution_count": 29,
   "id": "c6d7c0e6-300f-44bc-87ac-e8c2128fd48c",
   "metadata": {},
   "outputs": [],
   "source": [
    "f1 = float(i1)"
   ]
  },
  {
   "cell_type": "code",
   "execution_count": 30,
   "id": "ba73094a-a285-4274-a272-e12ce70a9944",
   "metadata": {},
   "outputs": [
    {
     "name": "stdout",
     "output_type": "stream",
     "text": [
      "100.0\n"
     ]
    }
   ],
   "source": [
    "print(f1)"
   ]
  },
  {
   "cell_type": "code",
   "execution_count": 31,
   "id": "4cb26445-3cae-460c-8882-ec371ae8399e",
   "metadata": {},
   "outputs": [
    {
     "name": "stdout",
     "output_type": "stream",
     "text": [
      "<class 'float'>\n"
     ]
    }
   ],
   "source": [
    "print(type(f1))"
   ]
  },
  {
   "cell_type": "code",
   "execution_count": null,
   "id": "2a1cfd4c-c954-4055-ad17-4f97bf964f4c",
   "metadata": {},
   "outputs": [],
   "source": []
  },
  {
   "cell_type": "code",
   "execution_count": 32,
   "id": "8bd756a4-d8c1-4960-bbaf-c3bc0e06154d",
   "metadata": {},
   "outputs": [],
   "source": [
    "s1 = '3.14'"
   ]
  },
  {
   "cell_type": "code",
   "execution_count": 33,
   "id": "c00f2b6d-5e66-43a1-b574-3d1d3e012761",
   "metadata": {},
   "outputs": [
    {
     "name": "stdout",
     "output_type": "stream",
     "text": [
      "<class 'str'>\n"
     ]
    }
   ],
   "source": [
    "print(type(s1))"
   ]
  },
  {
   "cell_type": "code",
   "execution_count": 34,
   "id": "7dbc8ccf-7845-427a-87e1-57dc37a5cacb",
   "metadata": {},
   "outputs": [],
   "source": [
    "f1 = float(s1)"
   ]
  },
  {
   "cell_type": "code",
   "execution_count": 35,
   "id": "762d12e7-0f0d-4d45-8461-b1011351b266",
   "metadata": {},
   "outputs": [
    {
     "name": "stdout",
     "output_type": "stream",
     "text": [
      "3.14\n"
     ]
    }
   ],
   "source": [
    "print(f1)"
   ]
  },
  {
   "cell_type": "code",
   "execution_count": 36,
   "id": "515d9409-79d3-4c4e-a9bc-b431ffc75493",
   "metadata": {},
   "outputs": [
    {
     "name": "stdout",
     "output_type": "stream",
     "text": [
      "<class 'float'>\n"
     ]
    }
   ],
   "source": [
    "print(type(f1))"
   ]
  },
  {
   "cell_type": "code",
   "execution_count": null,
   "id": "ed761658-4c83-45c0-b65a-bc05255b3870",
   "metadata": {},
   "outputs": [],
   "source": []
  }
 ],
 "metadata": {
  "kernelspec": {
   "display_name": "Python 3",
   "language": "python",
   "name": "python3"
  },
  "language_info": {
   "codemirror_mode": {
    "name": "ipython",
    "version": 3
   },
   "file_extension": ".py",
   "mimetype": "text/x-python",
   "name": "python",
   "nbconvert_exporter": "python",
   "pygments_lexer": "ipython3",
   "version": "3.8.8"
  }
 },
 "nbformat": 4,
 "nbformat_minor": 5
}
