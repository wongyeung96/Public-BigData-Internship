{
 "cells": [
  {
   "cell_type": "code",
   "execution_count": 1,
   "id": "07b88a8f-7dfe-431b-95f6-236bbf6d9bf7",
   "metadata": {},
   "outputs": [],
   "source": [
    "a = \"파이썬\""
   ]
  },
  {
   "cell_type": "code",
   "execution_count": 2,
   "id": "6c214a69-64c3-4d88-b586-832f4cc17faf",
   "metadata": {},
   "outputs": [
    {
     "name": "stdout",
     "output_type": "stream",
     "text": [
      "파이썬\n"
     ]
    }
   ],
   "source": [
    "print(a)"
   ]
  },
  {
   "cell_type": "code",
   "execution_count": 3,
   "id": "5df09010-6937-4bc2-b437-de104bfaaff0",
   "metadata": {},
   "outputs": [],
   "source": [
    "b = \"문자열\""
   ]
  },
  {
   "cell_type": "code",
   "execution_count": 4,
   "id": "de329fd9-40ae-441e-91b9-2ef6dc195d4e",
   "metadata": {},
   "outputs": [
    {
     "name": "stdout",
     "output_type": "stream",
     "text": [
      "문자열\n"
     ]
    }
   ],
   "source": [
    "print(b)"
   ]
  },
  {
   "cell_type": "code",
   "execution_count": 5,
   "id": "a4e1c041-7424-4a67-8072-48f69f44de46",
   "metadata": {},
   "outputs": [],
   "source": [
    "c = \"\"\"\n",
    "죽는 날까지 하늘을 우러러\n",
    "한 점 부끄럼 없기를\n",
    "잎새에 이는 바람에도 \n",
    "나는 괴로워 했다\n",
    "\"\"\""
   ]
  },
  {
   "cell_type": "code",
   "execution_count": 6,
   "id": "75ba5439-f7e3-4ec7-8e5e-2800c327d501",
   "metadata": {},
   "outputs": [
    {
     "name": "stdout",
     "output_type": "stream",
     "text": [
      "\n",
      "죽는 날까지 하늘을 우러러\n",
      "한 점 부끄럼 없기를\n",
      "잎새에 이는 바람에도 \n",
      "나는 괴로워 했다\n",
      "\n"
     ]
    }
   ],
   "source": [
    "print(c)"
   ]
  },
  {
   "cell_type": "code",
   "execution_count": 7,
   "id": "f11c9334-0032-4c7d-8970-4fbcffe16cbf",
   "metadata": {},
   "outputs": [
    {
     "ename": "NameError",
     "evalue": "name '파이썬' is not defined",
     "output_type": "error",
     "traceback": [
      "\u001b[1;31m---------------------------------------------------------------------------\u001b[0m",
      "\u001b[1;31mNameError\u001b[0m                                 Traceback (most recent call last)",
      "\u001b[1;32m<ipython-input-7-d4cf18508c1e>\u001b[0m in \u001b[0;36m<module>\u001b[1;34m\u001b[0m\n\u001b[1;32m----> 1\u001b[1;33m \u001b[0m파이썬\u001b[0m \u001b[1;33m+\u001b[0m \u001b[1;36m3\u001b[0m\u001b[1;33m\u001b[0m\u001b[1;33m\u001b[0m\u001b[0m\n\u001b[0m",
      "\u001b[1;31mNameError\u001b[0m: name '파이썬' is not defined"
     ]
    }
   ],
   "source": [
    "파이썬 + 3"
   ]
  },
  {
   "cell_type": "code",
   "execution_count": 8,
   "id": "30e9949c-611e-402e-bd60-66a97cc09504",
   "metadata": {},
   "outputs": [],
   "source": [
    "d = \"파이썬\" + str(3)"
   ]
  },
  {
   "cell_type": "code",
   "execution_count": 9,
   "id": "e13e7912-7aaa-42d0-b31b-70c6f0fd9ac1",
   "metadata": {},
   "outputs": [
    {
     "name": "stdout",
     "output_type": "stream",
     "text": [
      "파이썬3\n"
     ]
    }
   ],
   "source": [
    "print(d)"
   ]
  },
  {
   "cell_type": "code",
   "execution_count": 10,
   "id": "bf74fede-07a2-4f41-8ad5-b6d5803d45d3",
   "metadata": {},
   "outputs": [],
   "source": [
    "e = \"*\" * 10"
   ]
  },
  {
   "cell_type": "code",
   "execution_count": 11,
   "id": "638ec7af-7d7c-4c69-a4e1-ade5e18e5d94",
   "metadata": {},
   "outputs": [
    {
     "name": "stdout",
     "output_type": "stream",
     "text": [
      "**********\n"
     ]
    }
   ],
   "source": [
    "print(e)"
   ]
  },
  {
   "cell_type": "code",
   "execution_count": 12,
   "id": "45975796-2119-493d-926b-724ac6e3d6b5",
   "metadata": {},
   "outputs": [],
   "source": [
    "a = \"Helloworld!\""
   ]
  },
  {
   "cell_type": "code",
   "execution_count": 13,
   "id": "d810e775-4de4-4cd0-aeda-1a08f34d3d78",
   "metadata": {},
   "outputs": [
    {
     "data": {
      "text/plain": [
       "'Helloworld!'"
      ]
     },
     "execution_count": 13,
     "metadata": {},
     "output_type": "execute_result"
    }
   ],
   "source": [
    "a"
   ]
  },
  {
   "cell_type": "code",
   "execution_count": 14,
   "id": "14362fb0-8aa5-4de2-a087-7f876e6370fe",
   "metadata": {},
   "outputs": [
    {
     "data": {
      "text/plain": [
       "'H'"
      ]
     },
     "execution_count": 14,
     "metadata": {},
     "output_type": "execute_result"
    }
   ],
   "source": [
    "a[0]"
   ]
  },
  {
   "cell_type": "code",
   "execution_count": 15,
   "id": "27ce0f54-c25d-40e7-9baf-c88669f2d6d4",
   "metadata": {},
   "outputs": [
    {
     "data": {
      "text/plain": [
       "'w'"
      ]
     },
     "execution_count": 15,
     "metadata": {},
     "output_type": "execute_result"
    }
   ],
   "source": [
    "a[5]"
   ]
  },
  {
   "cell_type": "code",
   "execution_count": 16,
   "id": "6a87122b-6087-468c-a483-d54a57c744ea",
   "metadata": {},
   "outputs": [
    {
     "data": {
      "text/plain": [
       "'!'"
      ]
     },
     "execution_count": 16,
     "metadata": {},
     "output_type": "execute_result"
    }
   ],
   "source": [
    "a[-1]"
   ]
  },
  {
   "cell_type": "code",
   "execution_count": 17,
   "id": "c15ee6b8-54e9-4af3-b57b-054e4d49e6de",
   "metadata": {},
   "outputs": [
    {
     "data": {
      "text/plain": [
       "'d'"
      ]
     },
     "execution_count": 17,
     "metadata": {},
     "output_type": "execute_result"
    }
   ],
   "source": [
    "a[-2]"
   ]
  },
  {
   "cell_type": "code",
   "execution_count": 18,
   "id": "012cf5ce-74a8-4b12-a4e5-56ceba7f23a7",
   "metadata": {},
   "outputs": [
    {
     "data": {
      "text/plain": [
       "'Hello'"
      ]
     },
     "execution_count": 18,
     "metadata": {},
     "output_type": "execute_result"
    }
   ],
   "source": [
    "a[:5] # a[0:5]"
   ]
  },
  {
   "cell_type": "code",
   "execution_count": 19,
   "id": "8b498190-bce7-4e9f-b0c6-e705884d55fd",
   "metadata": {},
   "outputs": [
    {
     "data": {
      "text/plain": [
       "'world!'"
      ]
     },
     "execution_count": 19,
     "metadata": {},
     "output_type": "execute_result"
    }
   ],
   "source": [
    "a[5:]"
   ]
  },
  {
   "cell_type": "code",
   "execution_count": 20,
   "id": "bf465b4e-cc73-4f1b-8b02-6a7213e25ab2",
   "metadata": {},
   "outputs": [
    {
     "data": {
      "text/plain": [
       "'Helloworld!'"
      ]
     },
     "execution_count": 20,
     "metadata": {},
     "output_type": "execute_result"
    }
   ],
   "source": [
    "a[:]"
   ]
  },
  {
   "cell_type": "code",
   "execution_count": 22,
   "id": "7e0787ba-10e3-4658-8448-c4c70725faf1",
   "metadata": {},
   "outputs": [
    {
     "data": {
      "text/plain": [
       "'Hlool!'"
      ]
     },
     "execution_count": 22,
     "metadata": {},
     "output_type": "execute_result"
    }
   ],
   "source": [
    "a[::2]"
   ]
  },
  {
   "cell_type": "code",
   "execution_count": 23,
   "id": "52e52752-a697-43d5-b252-8738f79f3559",
   "metadata": {},
   "outputs": [
    {
     "data": {
      "text/plain": [
       "'!dlrowolleH'"
      ]
     },
     "execution_count": 23,
     "metadata": {},
     "output_type": "execute_result"
    }
   ],
   "source": [
    "a[::-1] # step이 음수는 역정렬"
   ]
  },
  {
   "cell_type": "code",
   "execution_count": 24,
   "id": "1e96c3c1-9a1f-4930-a6b8-e5dda9ddd6ed",
   "metadata": {},
   "outputs": [
    {
     "data": {
      "text/plain": [
       "'!loolH'"
      ]
     },
     "execution_count": 24,
     "metadata": {},
     "output_type": "execute_result"
    }
   ],
   "source": [
    "a[::-2]"
   ]
  },
  {
   "cell_type": "code",
   "execution_count": null,
   "id": "d4f94429-778c-4f9f-9d4a-b6f6b0716611",
   "metadata": {},
   "outputs": [],
   "source": []
  }
 ],
 "metadata": {
  "kernelspec": {
   "display_name": "Python 3",
   "language": "python",
   "name": "python3"
  },
  "language_info": {
   "codemirror_mode": {
    "name": "ipython",
    "version": 3
   },
   "file_extension": ".py",
   "mimetype": "text/x-python",
   "name": "python",
   "nbconvert_exporter": "python",
   "pygments_lexer": "ipython3",
   "version": "3.8.8"
  }
 },
 "nbformat": 4,
 "nbformat_minor": 5
}
