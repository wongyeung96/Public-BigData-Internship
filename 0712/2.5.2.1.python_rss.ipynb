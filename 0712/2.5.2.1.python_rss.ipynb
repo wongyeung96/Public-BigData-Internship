{
 "cells": [
  {
   "cell_type": "markdown",
   "id": "09bf7fc4-2e88-4ef4-bd7e-6cda953a17d8",
   "metadata": {},
   "source": [
    "### RSS 스크래핑"
   ]
  },
  {
   "cell_type": "code",
   "execution_count": 1,
   "id": "d9b13d4a-cc34-4cac-aca0-f38987b36739",
   "metadata": {},
   "outputs": [],
   "source": [
    "# ElementTree 모듈을 로드\n",
    "from xml.etree import ElementTree"
   ]
  },
  {
   "cell_type": "code",
   "execution_count": 3,
   "id": "3e779de1-ddb1-45a6-ad2f-ab233adea040",
   "metadata": {},
   "outputs": [],
   "source": [
    "# parse() 함수로 파일을 읽고 ElementTree 객체를 생성\n",
    "tree = ElementTree.parse('rss.xml')"
   ]
  },
  {
   "cell_type": "code",
   "execution_count": 4,
   "id": "dc32e6ae-35ee-4cd9-a208-f05f5fc9075d",
   "metadata": {},
   "outputs": [],
   "source": [
    "# getroot() 메서드로 XML의 로트 element를 추출\n",
    "root = tree.getroot()"
   ]
  },
  {
   "cell_type": "code",
   "execution_count": 5,
   "id": "717e42ec-da87-44df-b5ed-04157784238a",
   "metadata": {},
   "outputs": [],
   "source": [
    "import pandas as pd"
   ]
  },
  {
   "cell_type": "code",
   "execution_count": 6,
   "id": "01bc750d-598f-4c63-94f7-f2bf81c1267c",
   "metadata": {},
   "outputs": [
    {
     "data": {
      "text/html": [
       "<div>\n",
       "<style scoped>\n",
       "    .dataframe tbody tr th:only-of-type {\n",
       "        vertical-align: middle;\n",
       "    }\n",
       "\n",
       "    .dataframe tbody tr th {\n",
       "        vertical-align: top;\n",
       "    }\n",
       "\n",
       "    .dataframe thead th {\n",
       "        text-align: right;\n",
       "    }\n",
       "</style>\n",
       "<table border=\"1\" class=\"dataframe\">\n",
       "  <thead>\n",
       "    <tr style=\"text-align: right;\">\n",
       "      <th></th>\n",
       "      <th>일시</th>\n",
       "      <th>최저기온</th>\n",
       "      <th>최고기온</th>\n",
       "      <th>날씨</th>\n",
       "    </tr>\n",
       "  </thead>\n",
       "  <tbody>\n",
       "    <tr>\n",
       "      <th>0</th>\n",
       "      <td>2021-07-15 00:00</td>\n",
       "      <td>25</td>\n",
       "      <td>33</td>\n",
       "      <td>구름많음</td>\n",
       "    </tr>\n",
       "    <tr>\n",
       "      <th>0</th>\n",
       "      <td>2021-07-15 12:00</td>\n",
       "      <td>25</td>\n",
       "      <td>33</td>\n",
       "      <td>구름많음</td>\n",
       "    </tr>\n",
       "    <tr>\n",
       "      <th>0</th>\n",
       "      <td>2021-07-16 00:00</td>\n",
       "      <td>24</td>\n",
       "      <td>33</td>\n",
       "      <td>구름많음</td>\n",
       "    </tr>\n",
       "    <tr>\n",
       "      <th>0</th>\n",
       "      <td>2021-07-16 12:00</td>\n",
       "      <td>24</td>\n",
       "      <td>33</td>\n",
       "      <td>구름많고 소나기</td>\n",
       "    </tr>\n",
       "    <tr>\n",
       "      <th>0</th>\n",
       "      <td>2021-07-17 00:00</td>\n",
       "      <td>24</td>\n",
       "      <td>32</td>\n",
       "      <td>구름많음</td>\n",
       "    </tr>\n",
       "    <tr>\n",
       "      <th>...</th>\n",
       "      <td>...</td>\n",
       "      <td>...</td>\n",
       "      <td>...</td>\n",
       "      <td>...</td>\n",
       "    </tr>\n",
       "    <tr>\n",
       "      <th>0</th>\n",
       "      <td>2021-07-19 00:00</td>\n",
       "      <td>22</td>\n",
       "      <td>30</td>\n",
       "      <td>구름많음</td>\n",
       "    </tr>\n",
       "    <tr>\n",
       "      <th>0</th>\n",
       "      <td>2021-07-19 12:00</td>\n",
       "      <td>22</td>\n",
       "      <td>30</td>\n",
       "      <td>흐림</td>\n",
       "    </tr>\n",
       "    <tr>\n",
       "      <th>0</th>\n",
       "      <td>2021-07-20 00:00</td>\n",
       "      <td>23</td>\n",
       "      <td>32</td>\n",
       "      <td>흐림</td>\n",
       "    </tr>\n",
       "    <tr>\n",
       "      <th>0</th>\n",
       "      <td>2021-07-21 00:00</td>\n",
       "      <td>23</td>\n",
       "      <td>32</td>\n",
       "      <td>흐림</td>\n",
       "    </tr>\n",
       "    <tr>\n",
       "      <th>0</th>\n",
       "      <td>2021-07-22 00:00</td>\n",
       "      <td>23</td>\n",
       "      <td>31</td>\n",
       "      <td>흐림</td>\n",
       "    </tr>\n",
       "  </tbody>\n",
       "</table>\n",
       "<p>455 rows × 4 columns</p>\n",
       "</div>"
      ],
      "text/plain": [
       "                  일시 최저기온 최고기온        날씨\n",
       "0   2021-07-15 00:00   25   33      구름많음\n",
       "0   2021-07-15 12:00   25   33      구름많음\n",
       "0   2021-07-16 00:00   24   33      구름많음\n",
       "0   2021-07-16 12:00   24   33  구름많고 소나기\n",
       "0   2021-07-17 00:00   24   32      구름많음\n",
       "..               ...  ...  ...       ...\n",
       "0   2021-07-19 00:00   22   30      구름많음\n",
       "0   2021-07-19 12:00   22   30        흐림\n",
       "0   2021-07-20 00:00   23   32        흐림\n",
       "0   2021-07-21 00:00   23   32        흐림\n",
       "0   2021-07-22 00:00   23   31        흐림\n",
       "\n",
       "[455 rows x 4 columns]"
      ]
     },
     "execution_count": 6,
     "metadata": {},
     "output_type": "execute_result"
    }
   ],
   "source": [
    "데이터프레임_리스트 = []\n",
    "for item in root.findall('channel/item/description/body/location/data'):\n",
    "    # find() 메서드로 element 탐색, text 속성으로 값을 추출\n",
    "    tm_ef = item.find('tmEf').text\n",
    "    tmn = item.find('tmn').text\n",
    "    tmx = item.find('tmx').text\n",
    "    wf = item.find('wf').text\n",
    "    데이터프레임 = pd.DataFrame({\n",
    "        '일시':[tm_ef],\n",
    "        '최저기온':[tmn],\n",
    "        '최고기온':[tmx],\n",
    "        '날씨':[wf]\n",
    "    })\n",
    "    데이터프레임_리스트.append(데이터프레임)\n",
    "날씨정보 = pd.concat(데이터프레임_리스트)\n",
    "날씨정보"
   ]
  },
  {
   "cell_type": "code",
   "execution_count": null,
   "id": "99c82e02-d497-47ce-912c-4da8762edac1",
   "metadata": {},
   "outputs": [],
   "source": []
  }
 ],
 "metadata": {
  "kernelspec": {
   "display_name": "Python 3",
   "language": "python",
   "name": "python3"
  },
  "language_info": {
   "codemirror_mode": {
    "name": "ipython",
    "version": 3
   },
   "file_extension": ".py",
   "mimetype": "text/x-python",
   "name": "python",
   "nbconvert_exporter": "python",
   "pygments_lexer": "ipython3",
   "version": "3.8.8"
  }
 },
 "nbformat": 4,
 "nbformat_minor": 5
}
