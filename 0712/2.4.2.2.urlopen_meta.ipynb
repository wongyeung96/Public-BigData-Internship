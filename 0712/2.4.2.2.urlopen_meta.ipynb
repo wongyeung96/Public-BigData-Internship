{
 "cells": [
  {
   "cell_type": "markdown",
   "id": "f80234ee-cd20-4e12-81e3-be1595e4767b",
   "metadata": {},
   "source": [
    "### meta 태그에서 인코딩 방식 추출"
   ]
  },
  {
   "cell_type": "code",
   "execution_count": 7,
   "id": "7f5fbe11-eb0c-4429-985f-30993be43968",
   "metadata": {},
   "outputs": [],
   "source": [
    "import re\n",
    "import sys\n",
    "from urllib.request import urlopen"
   ]
  },
  {
   "cell_type": "code",
   "execution_count": 8,
   "id": "a9c24426-1a65-4f68-8e78-cd7d21ad49aa",
   "metadata": {},
   "outputs": [],
   "source": [
    "f = urlopen('http://www.hanbit.co.kr/store/books/full_book_list.html')\n",
    "# bytes 자료형의 응답 본문을 일단 변수에 저장\n",
    "bytes_content = f.read()"
   ]
  },
  {
   "cell_type": "code",
   "execution_count": 9,
   "id": "0968f924-30b0-4719-be99-00910f457225",
   "metadata": {},
   "outputs": [],
   "source": [
    "# charset은 HTML의 앞부분에 적혀 있는 경우가 많으므로\n",
    "# 응답 본문의 앞부분 1024바이트를 ASCII 문자로 디코딩\n",
    "# ASCII 범위 이외의 문자는 U+FFFD(REPLACEMENT CHARACTER)로\n",
    "# 변환되어 예외가 발생하지 않음\n",
    "scanned_text = bytes_content[:1024].decode('ascii', errors='replace')"
   ]
  },
  {
   "cell_type": "code",
   "execution_count": 10,
   "id": "be9f09f4-f0ce-49c3-8a04-cd0f62d21190",
   "metadata": {},
   "outputs": [],
   "source": [
    "# 디코딩한 문자열에서 정규 표현식으로 charset 값을 추출\n",
    "match = re.search(r'charset=[\"\\']?([\\w-]+)', scanned_text)"
   ]
  },
  {
   "cell_type": "code",
   "execution_count": 11,
   "id": "a333685c-af85-4a73-811b-0ccc5142fd54",
   "metadata": {},
   "outputs": [
    {
     "data": {
      "text/plain": [
       "'utf-8'"
      ]
     },
     "execution_count": 11,
     "metadata": {},
     "output_type": "execute_result"
    }
   ],
   "source": [
    "match.group(1)"
   ]
  },
  {
   "cell_type": "code",
   "execution_count": 12,
   "id": "10000ed1-ff66-49b3-8bab-71b0f2fcb0e2",
   "metadata": {},
   "outputs": [],
   "source": [
    "if match:\n",
    "    encoding = match.group(1)\n",
    "else:\n",
    "    #charset이 명시돼 있지 않으면 UTF-8을 사용\n",
    "    encoding = 'utf-8'"
   ]
  }
 ],
 "metadata": {
  "kernelspec": {
   "display_name": "Python 3",
   "language": "python",
   "name": "python3"
  },
  "language_info": {
   "codemirror_mode": {
    "name": "ipython",
    "version": 3
   },
   "file_extension": ".py",
   "mimetype": "text/x-python",
   "name": "python",
   "nbconvert_exporter": "python",
   "pygments_lexer": "ipython3",
   "version": "3.8.8"
  }
 },
 "nbformat": 4,
 "nbformat_minor": 5
}
